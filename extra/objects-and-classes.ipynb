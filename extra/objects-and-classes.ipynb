{
 "cells": [
  {
   "cell_type": "markdown",
   "id": "a714d17d-2a24-49d9-9e09-f80ddd53290e",
   "metadata": {},
   "source": [
    "# Objects and Classes\n",
    "\n",
    "#### Philip Solimine, UBC"
   ]
  },
  {
   "cell_type": "markdown",
   "id": "15bf308c-feb6-4ab5-b342-be77fcd82ecc",
   "metadata": {},
   "source": [
    "An object in Python is just like an object in real life; it's something that can represent a person, a thing, or a more abstract concept in the digital world; a data structure. Think of an object as almost like a physical item, something tangible that has some features, and some instructions that help you use or interact with in a specific way. For example, a car, a consumer, or a firm can all be considered objects. Similarly, all of the data structures that we have worked with so far (integers, strings, lists, etc.) are objects."
   ]
  },
  {
   "cell_type": "markdown",
   "id": "c9af34cf-94bb-468c-90ac-7b30eaab9e1c",
   "metadata": {},
   "source": [
    "Objects are useful in programming for several reasons:\n",
    "\n",
    "1. **Modularity and reusability**: Objects allow you to break down a complex problem into smaller, more manageable parts. Each object encapsulates its own data and behavior, which means that you can focus on developing and testing individual objects independently. This **modularity** makes the overall codebase easier to understand and maintain. Additionally, objects can be **reused** in different parts of a program or in different programs altogether, saving time and effort. By grouping related data and behavior in a modular way, it becomes easier to locate and modify specific functionalities. This modular organization makes the codebase more maintainable, as changes made to one object or class can be made in a way that has minimal impact on other parts of the program.\n",
    "\n",
    "2. **Abstraction**: Objects help in abstracting away unnecessary details and focusing on the essential aspects of a problem. For example, by creating objects that represent real-world entities, you can model complex systems with many interacting parts in a more intuitive and meaningful way. This **abstraction** simplifies the overall code structure and makes it easier to understand and reason about.\n",
    "\n",
    "6. **Collaboration and teamwork**: Object-oriented programming encourages collaboration among developers. By defining objects and classes with well-defined interfaces, multiple developers can work on different parts of a program simultaneously, as long as they adhere to the agreed-upon rules. This collaborative approach improves productivity, enables parallel development, and fosters code reusability across team members."
   ]
  },
  {
   "cell_type": "markdown",
   "id": "9db43d62-b2c8-4c9e-ae45-7b1986a6f889",
   "metadata": {},
   "source": [
    "### Defining a Class\n",
    "\n",
    "When making your own objects, the first thing you want to do is define a **class**. A class is like a template or a map of the object, that tells you what information it stores and gives you some rules for how you can interact with it. When you take a class and instantiate it (define a new variable according to the rules of your class), that instantiation is called an object.\n",
    "\n",
    "Many classes (like `string` and `float`) come bundled in Python by default. Other times, it can be useful to define your own custom classes, so that you can define helpful objects later on.\n",
    "\n",
    "Here's an example of an class that we might define for an economic problem. This class represents a person who has a name and some amount of money in their account (which we'll call a balance)."
   ]
  },
  {
   "cell_type": "code",
   "execution_count": 2,
   "id": "ea2e763f-2e1b-4254-9b51-b97ebfc3e6d0",
   "metadata": {},
   "outputs": [],
   "source": [
    "class Person:\n",
    "    name = \"John\"\n",
    "    balance = 55_000."
   ]
  },
  {
   "cell_type": "markdown",
   "id": "e9f84d97-290a-49ab-95d4-755d85483d51",
   "metadata": {},
   "source": [
    "In order to use an object based on this class, we first have to instantiate the class to create an object. This is accomplished by assigning a `Person` to a variable name. Like this:"
   ]
  },
  {
   "cell_type": "code",
   "execution_count": 3,
   "id": "08e446b8-9270-4a4a-88a0-b63a76c0e41f",
   "metadata": {},
   "outputs": [],
   "source": [
    "john = Person()"
   ]
  },
  {
   "cell_type": "markdown",
   "id": "653fb897-a6cf-4140-b4c4-b77f2fca3cbd",
   "metadata": {},
   "source": [
    "Now the variable `john` stores an object. That object has some features (called **fields**). We can access those fields using a dot (`.`) like this:"
   ]
  },
  {
   "cell_type": "code",
   "execution_count": 4,
   "id": "b656e33f-7d5e-47c9-be33-3adfcb22a9c1",
   "metadata": {},
   "outputs": [
    {
     "name": "stdout",
     "output_type": "stream",
     "text": [
      "This Person's name is John, and their account has a balance of $55000.0\n"
     ]
    }
   ],
   "source": [
    "print(f\"This Person's name is {john.name}, and their account has a balance of ${john.balance}\")"
   ]
  },
  {
   "cell_type": "markdown",
   "id": "5caab512-38ea-46c8-904f-5ca6ac8ab472",
   "metadata": {},
   "source": [
    "Of course, this alone is not very special. We could have just made variables called name and wage and printed them. But having defined a class means that we can make another Person, who has a different name and wage. One way to accomplish that would be simply by changing the name and wage variables after making the object."
   ]
  },
  {
   "cell_type": "code",
   "execution_count": 5,
   "id": "f2c1ce05-97a5-4488-bfef-d905de7c750d",
   "metadata": {},
   "outputs": [
    {
     "name": "stdout",
     "output_type": "stream",
     "text": [
      "This Person's name is Emily, and their account has a balance of $68000.0\n"
     ]
    }
   ],
   "source": [
    "emily = Person()\n",
    "emily.name = \"Emily\"\n",
    "emily.balance = 68_000.\n",
    "\n",
    "print(f\"This Person's name is {emily.name}, and their account has a balance of ${emily.balance}\")"
   ]
  },
  {
   "cell_type": "markdown",
   "id": "6a18fa22-abff-438a-b015-cd5ed12e9d40",
   "metadata": {},
   "source": [
    "### Defining Our First Method: The Constructor\n",
    "\n",
    "Now we have created our first objects! However, there are some issues. For one thing, our Person's name will always default to John, which is not really ideal. \n",
    "\n",
    "To truly take advantage of the object structure, we want to create something more flexible, so that when we can tell the object what its name and wage should be as soon as we create it. The way to do this is by defining a **constructor**, a function that tells the interpreter how to build the object. In Python, a constructor is created by defining the `__init__` function within our class."
   ]
  },
  {
   "cell_type": "code",
   "execution_count": 6,
   "id": "d351947b-79d4-4298-969c-ad668d406566",
   "metadata": {},
   "outputs": [],
   "source": [
    "class Person:\n",
    "    def __init__(self, new_name, new_balance):\n",
    "        self.name = new_name\n",
    "        self.balance = new_balance"
   ]
  },
  {
   "cell_type": "markdown",
   "id": "cea54052-d581-411f-b42c-7c8407557fd9",
   "metadata": {},
   "source": [
    "That might look a little bit intimidating. Let's break it down.\n",
    "\n",
    "`__init__` is just Python's default name for a constructor function. Whenever you want to describe the rules for how the object will be created, you should do that by defining this function *within* the class.\n",
    "\n",
    "The `__init__` method should always have the same first argument, `self`. This `self` will give you a way to refer back to the variables within the object you are creating. Notice in the code above, to assign the name and balance we use the properties of the `self` object, and this defines how the object should set itself up.\n",
    "\n",
    "Now, when we want to create a new person, we can use the following syntax:"
   ]
  },
  {
   "cell_type": "code",
   "execution_count": 7,
   "id": "78278a6f-b1ff-4cfe-b32c-8f23a9062459",
   "metadata": {},
   "outputs": [
    {
     "name": "stdout",
     "output_type": "stream",
     "text": [
      "This Person's name is George, and their account has a balance of $5000.\n"
     ]
    }
   ],
   "source": [
    "george = Person(\"George\", 5_000)\n",
    "\n",
    "print(f\"This Person's name is {george.name}, and their account has a balance of ${george.balance}.\")"
   ]
  },
  {
   "cell_type": "markdown",
   "id": "5552aec3-01db-46a3-9df1-8627f14458a6",
   "metadata": {},
   "source": [
    "Notice that the `self` object did not need to be passed into the constructor. The only arguments that need to be passed to the `__init__` method are the ones that come after `self` (in this case, they are `new_name` and `new_balance`.)"
   ]
  },
  {
   "cell_type": "markdown",
   "id": "0a6f40a0-9404-445a-9c29-892fa28c9244",
   "metadata": {},
   "source": [
    "Note that there is no need to only use positional arguments in the `__init__` function. You can define default values for the arguments."
   ]
  },
  {
   "cell_type": "code",
   "execution_count": 8,
   "id": "0badddaa-1686-4569-bf01-b407b3253b47",
   "metadata": {},
   "outputs": [
    {
     "name": "stdout",
     "output_type": "stream",
     "text": [
      "Person A has a name of Alice and a balance of $13000\n",
      "Person B has a name of Bob and a balance of $0.0\n",
      "Person C has a name of None and a balance of $0.0\n"
     ]
    }
   ],
   "source": [
    "class Person:\n",
    "    def __init__(self, name = None, balance = 0.):\n",
    "        self.name = name\n",
    "        self.balance = balance\n",
    "\n",
    "A = Person(\"Alice\", 13_000)\n",
    "B = Person(\"Bob\")\n",
    "C = Person()\n",
    "\n",
    "print(f\"Person A has a name of {A.name} and a balance of ${A.balance}\")\n",
    "print(f\"Person B has a name of {B.name} and a balance of ${B.balance}\")\n",
    "print(f\"Person C has a name of {C.name} and a balance of ${C.balance}\")"
   ]
  },
  {
   "cell_type": "markdown",
   "id": "582317ce-1937-48c9-b963-05ee6b0a0f11",
   "metadata": {},
   "source": [
    "Then when we learn more information about the unknown person later on, we can go in and update their information."
   ]
  },
  {
   "cell_type": "code",
   "execution_count": 9,
   "id": "55fff2b4-b6ca-4aad-b5d1-e03b42427727",
   "metadata": {},
   "outputs": [
    {
     "name": "stdout",
     "output_type": "stream",
     "text": [
      "Now person B has the name Bob and balance $15000\n",
      "And person C has the name Cindy and balance $0.0\n"
     ]
    }
   ],
   "source": [
    "B.balance = 15_000\n",
    "\n",
    "C.name = \"Cindy\"\n",
    "\n",
    "print(f\"Now person B has the name {B.name} and balance ${B.balance}\")\n",
    "print(f\"And person C has the name {C.name} and balance ${C.balance}\")"
   ]
  },
  {
   "cell_type": "markdown",
   "id": "f4d7a2a7-9a1e-455f-b455-48aae93b4ba1",
   "metadata": {},
   "source": [
    "### Defining Custom Methods\n",
    "\n",
    "So now we have explored one of the main uses of objects; bundling together relevant data to represent the features of a tangible thing. We could then do things like define a whole list of people, with each one having their own name and balance. You can even use tab-autocomplete to check what methods and features are available to use. Try it out!\n",
    "\n",
    "This gives you a nice way to partition data in a modular way, so that whenever you want to refer to a Person, you can get back a single object that tells you both their name and their account balance. However, defining the features of the class is really only scratching the surface of what you can do with an object. \n",
    "\n",
    "Along with the variables that they hold (called **fields**,) objects and classes provide the ability to define your own custom **methods**. Methods are functions that are specifically designed to work with the data when it is structured in the way you define. This gives you the power to define not only what the object looks like, but also what it does, how it works, and to set the rules for how it interacts with other objects.\n",
    "\n",
    "For example, we could define a method to allow for peer-to-peer payments between accounts, as long as the source account has enough money in it."
   ]
  },
  {
   "cell_type": "code",
   "execution_count": 10,
   "id": "c4249c99-55a1-4aa1-9c26-0a564e200ae3",
   "metadata": {},
   "outputs": [],
   "source": [
    "class Person:\n",
    "    def __init__(self, name = None, balance = 0.):\n",
    "        self.name = name\n",
    "        self.balance = balance\n",
    "    \n",
    "    def pay(self, other, amount):\n",
    "        if self.balance <= amount:\n",
    "            # first check to make sure the account has enough money to cover the payment.\n",
    "            print(f\"ERROR: {self.name} has only ${self.balance}, not enough to make a payment of ${amount}.\")\n",
    "        else:\n",
    "            # if the person paying has enough money to pay the amount, then remove it from their account\n",
    "            # and add it to the other person's account instead.\n",
    "            self.balance = self.balance - amount\n",
    "            other.balance = other.balance + amount"
   ]
  },
  {
   "cell_type": "markdown",
   "id": "4df0be75-f7d9-45cd-a2bb-c73ba00f1a0a",
   "metadata": {},
   "source": [
    "Let's try out our new method on our new Person class by redefining a few people and having them pay each other."
   ]
  },
  {
   "cell_type": "code",
   "execution_count": 11,
   "id": "bf31b89f-da39-453d-8096-496c11e9d85a",
   "metadata": {},
   "outputs": [
    {
     "name": "stdout",
     "output_type": "stream",
     "text": [
      "Before the payment, Alice has a balance of 13000 and Bob has a balance of 5000\n",
      "After the payment, Alice has a balance of 10000 and Bob has a balance of 8000\n",
      "ERROR: Bob has only $8000, not enough to make a payment of $15000.\n"
     ]
    }
   ],
   "source": [
    "A = Person(\"Alice\", 13_000)\n",
    "B = Person(\"Bob\", 5_000)\n",
    "\n",
    "print(f\"Before the payment, {A.name} has a balance of {A.balance} and {B.name} has a balance of {B.balance}\")\n",
    "A.pay(B, 3_000)\n",
    "print(f\"After the payment, {A.name} has a balance of {A.balance} and {B.name} has a balance of {B.balance}\")\n",
    "B.pay(A,15_000) # this payment should not work, because Bob only has $8000"
   ]
  },
  {
   "cell_type": "markdown",
   "id": "506f2de6-6fb7-4b73-a2bd-388f6a7c164b",
   "metadata": {},
   "source": [
    "### Example: Building An Economy\n",
    "\n",
    "Let's use objects to put together the fundamental building blocks of a (very) simple economy. "
   ]
  },
  {
   "cell_type": "markdown",
   "id": "2804865b-6c77-4fd7-bf48-f75faa613898",
   "metadata": {},
   "source": [
    "The economy has a single Firm (a monopolist) that produces a single consumption good $x$. The monopolist pays a cost for each good that they produce, and the total cost they pay to produce $x$ goods is given by the function $c(x) = \\beta x^2$. To complicate the problem a bit, assume that firms can only produce integer-valued number of goods, e.g. they can produce $x=1$ or $x=2$, but not $x=1.5$.\n",
    "\n",
    "First, we will define a consumer object. Each consumer has some preferences in the form of a utility function. This function tells us how much they value the consumption good produced by the firm. For the utility function, we'll use the popular functional form $U(x) = \\gamma x^\\alpha$ where $0<\\alpha<1$, and $\\gamma > 0$ is a utility parameter chosen so that utility is measured in dollars. On purchasing a set of goods, the consumer must compare their utility to the total price they would pay to buy that number of goods. The total price paid for $x$ goods is $px$, where $p$ is the per-unit price.\n",
    "\n",
    "Since the utility is measured in dollars, the consumer will purchase more goods until the price exceeds their marginal benefit. Let's encode these features in a `Consumer` object."
   ]
  },
  {
   "cell_type": "code",
   "execution_count": 12,
   "id": "e54ac51c-6ab8-4f93-a82c-4bef1237e336",
   "metadata": {},
   "outputs": [
    {
     "name": "stdout",
     "output_type": "stream",
     "text": [
      "The person would purchase 10 units for a net utility of 156.22776601683796.\n"
     ]
    }
   ],
   "source": [
    "class Consumer:\n",
    "    # a consumer in this problem is parametrized by their alpha, and consumes some amount x\n",
    "    def __init__(self,alpha=0.5,gamma=100):\n",
    "        self.alpha = alpha\n",
    "        self.gamma = gamma\n",
    "        self.x = 0.\n",
    "        self.utility = 0.\n",
    "    \n",
    "    # define the utility function described in the problem above\n",
    "    # this function shows us how much utility this consumer would have if they consume x units of the good\n",
    "    def utility_function(self, x):\n",
    "        return self.gamma * (x ** self.alpha)\n",
    "    \n",
    "    # now let's describe the process of how a consumer chooses how much to buy at a given price.\n",
    "    def consume(self,price): #defined over positive nonzero prices\n",
    "        x1 = 0\n",
    "        benefit0 = 0.\n",
    "        benefit1 = price\n",
    "        \n",
    "        while benefit1 - benefit0 >= price: # the consumer will purchase until price exceeds marginal benefit\n",
    "            x1 += 1 # increase the potential purchase amount by 1\n",
    "            benefit0 = benefit1 #store the benefit at the last level of output\n",
    "            benefit1 = self.utility_function(x1) #compare to the utility at the new level\n",
    "        \n",
    "        self.x = x1-1\n",
    "        self.utility = self.utility_function(self.x) - price * self.x\n",
    "        return self.x\n",
    "\n",
    "# now let's test out the consumer object to see how much a consumer with gamma = 0.2 and alpha = 0.5 would buy\n",
    "# at a price of $16\n",
    "person = Consumer()\n",
    "person.consume(16)\n",
    "print(f\"The person would purchase {person.x} units for a net utility of {person.utility}.\")"
   ]
  },
  {
   "cell_type": "markdown",
   "id": "93eaa967-59cf-4e6a-9442-c29b4d2098e9",
   "metadata": {},
   "source": [
    "Now that we have our consumer defined, we need to describe the other part of this economy, the company that is selling their product. The firm follows similar rules to the consumer, except that its income is simply the price multiplied by the number of goods that they sell. In addition, the cost function of the firm is a bit more complicated. Here's one way that we could define a `Firm` object."
   ]
  },
  {
   "cell_type": "code",
   "execution_count": 19,
   "id": "0bf9968e-9203-4776-8ee9-9569dc42388d",
   "metadata": {},
   "outputs": [
    {
     "name": "stdout",
     "output_type": "stream",
     "text": [
      "The firm would produce 75 units for a profit of 562.5\n"
     ]
    }
   ],
   "source": [
    "class Firm:\n",
    "    # a firm in this problem is characterized by a single beta parameter that determines their marginal costs.\n",
    "    def __init__(self, beta = 0.1):\n",
    "        self.beta = beta\n",
    "        self.x = 0.\n",
    "        self.profit = 0.\n",
    "    \n",
    "    #first let's define a cost function for this firm, given their cost parameter beta.\n",
    "    def cost(self,x):\n",
    "        return self.beta * (x**2)\n",
    "    \n",
    "    # now let's describe how a firm figures out how much they would want to produce at a given price\n",
    "    def produce(self,price):\n",
    "        x1 = 0\n",
    "        profit0 = 0.\n",
    "        profit1 = 1.\n",
    "        \n",
    "        while profit1 - profit0 >= 0: #the firm will produce one more good as long as it increases profits\n",
    "            x1 += 1 #increase potential output by 1\n",
    "            profit0 = profit1 #store the profit at the last level of output\n",
    "            profit1 = price * x1 - self.cost(x1) #compute profit at the new level of output\n",
    "        \n",
    "        #after the loop is finished, we want the last profitable level of x, which would be x-1.\n",
    "        self.x = x1-1\n",
    "        self.profit = price * self.x - self.cost(self.x)\n",
    "        return self.x\n",
    "\n",
    "# now let's test out our object to see how much a firm with beta=0.1 would produce if the price was $15\n",
    "company = Firm()\n",
    "company.produce(15)\n",
    "print(f\"The firm would produce {company.x} units for a profit of {company.profit}\")"
   ]
  },
  {
   "cell_type": "markdown",
   "id": "94c42a0d-4cf8-48ac-864a-e62ffa8ac7f3",
   "metadata": {},
   "source": [
    "One interesting exercise would be to observe how the quantity purchased by the consumer (demanded) compares to the quantity that would be sold (supplied) at the same price. To examine this, we could draw out a simple graph that compares the number purchased over a grid of prices.\n",
    "\n",
    "(Don't worry about the syntax for plotting, we'll cover this soon!)"
   ]
  },
  {
   "cell_type": "code",
   "execution_count": 15,
   "id": "9adcb20e-a62b-4307-a88a-31863fc38d5e",
   "metadata": {},
   "outputs": [
    {
     "data": {
      "text/plain": [
       "<matplotlib.legend.Legend at 0x7f91102576d0>"
      ]
     },
     "execution_count": 15,
     "metadata": {},
     "output_type": "execute_result"
    },
    {
     "data": {
      "image/png": "[encoded data removed]",
      "text/plain": [
       "<Figure size 432x288 with 1 Axes>"
      ]
     },
     "metadata": {
      "needs_background": "light"
     },
     "output_type": "display_data"
    }
   ],
   "source": [
    "import matplotlib.pyplot as plt\n",
    "import numpy as np\n",
    "%matplotlib inline\n",
    "\n",
    "prices = np.linspace(5, 20, 150)\n",
    "quantity_demanded = [person.consume(p) for p in prices]\n",
    "quantity_supplied = [company.produce(p) for p in prices]\n",
    "fig,ax = plt.subplots()\n",
    "\n",
    "ax.scatter(quantity_demanded, prices, label=\"Demand\", s=5)\n",
    "ax.scatter(quantity_supplied, prices, label=\"Supply\", s=5)\n",
    "ax.set_xlabel(\"Quantity Supplied/Demanded\")\n",
    "ax.set_ylabel(\"Price\")\n",
    "ax.set_xticks([0,20,40,60,80,100])\n",
    "ax.set_yticks([0,5,10,15,20])\n",
    "ax.legend()"
   ]
  },
  {
   "cell_type": "markdown",
   "id": "a8b84716-9064-4cbf-9c12-281c6bd56e25",
   "metadata": {},
   "source": [
    "Does this look familiar? It should! This is just a supply and demand graph, with upward sloping supply and downward sloping demand, like you might have seen in your first ever economics course.\n",
    "\n",
    "Looking at this graph, we can see visually where the equilibrium price would be. But we still don't have any way of finding it.\n",
    "\n",
    "In order to tie everything together, we might want to define a new class, called an Economy. This simple economy consists of a single firm and a single, \"representative\" consumer. It is characterized by an equilibrium quantity $x$ and an equilibrium price $p$, along with a method to find them. In order to find the equilibrium, we look for the price at which quantity demanded is equal to quantity supplied. In this case, because the firm is constrained to produce discrete amounts, we should look for the smallest price at which the quantity supplied meets or exceeds the quantity demanded.\n",
    "\n",
    "Here, for simplicity, we will assume that prices are set in 10 cent intervals."
   ]
  },
  {
   "cell_type": "code",
   "execution_count": 16,
   "id": "4c102dd8-624f-4bac-a32a-144667a0484a",
   "metadata": {},
   "outputs": [],
   "source": [
    "class Economy:\n",
    "    def __init__(self, consumer, firm):\n",
    "        self.consumer = consumer\n",
    "        self.firm = firm\n",
    "        self.p = None\n",
    "        self.qd = None\n",
    "        self.qs = None\n",
    "    \n",
    "    def equilibrate(self):\n",
    "        p = 0.1 # choose a small price as the starting point\n",
    "        qd = self.consumer.consume(p)\n",
    "        qs = self.firm.produce(p)\n",
    "        while qs < qd: # check if the market has cleared\n",
    "            p += 0.1 # add ten cents to the price\n",
    "            qd = self.consumer.consume(p) # find quantities demanded and supplied at this new price\n",
    "            qs = self.firm.produce(p)\n",
    "        self.p = p\n",
    "        self.qd = qd\n",
    "        self.qs = qs"
   ]
  },
  {
   "cell_type": "markdown",
   "id": "b346a43c-aba3-47b5-b32e-cee649816507",
   "metadata": {},
   "source": [
    "Now we can use our new `Economy` class to find the market clearing price in this small one-firm, one-consumer economy. The market clearing price is one where the quantity demanded is equal to the quantity sold."
   ]
  },
  {
   "cell_type": "code",
   "execution_count": 17,
   "id": "0a8448a0-1a45-4c53-9b2d-ca2062743b2b",
   "metadata": {},
   "outputs": [
    {
     "name": "stdout",
     "output_type": "stream",
     "text": [
      "In this toy economy, the market clearing price is 7.9. At this price, 40 goods are demanded and 40 goods are supplied.\n"
     ]
    }
   ],
   "source": [
    "small_economy = Economy(person, company)\n",
    "small_economy.equilibrate()\n",
    "\n",
    "print(f\"In this toy economy, the market clearing price is {round(small_economy.p,2)}. At this price, {small_economy.qd} goods are demanded and {small_economy.qs} goods are supplied.\")"
   ]
  },
  {
   "cell_type": "markdown",
   "id": "0c4f15d0-1f2b-4de4-969f-dcba3c837a18",
   "metadata": {},
   "source": [
    "Notice that this code is relatively slow. The reason for this is that it contains a lot of nested loops. That is, a first outer loop searches over prices, and within each price, there are two other loops that run at each iteration to find the amount demanded and supplied. Since Python loops can get pretty slow, this is definitely not the fastest way to solve this problem. However, it should give you some intuition about why these objects can be so useful. Throughout the class, we will discuss a number of ways that this code could be sped up.\n",
    "\n",
    "In this example, we built up a simulation of an economy by describing its consituent parts, and then giving those parts intuitive rules for how they would want to interact. In this case, the model could have been solved analytically by simply taking supply equal to demand and solving for the market clearing price. However, now that we have a basic structure of the problem encoded into objects, we could make the problem a lot more complicated if we wanted, and our `Economy` object will still give us a simple way to find the solution. This type of simulation, one that uses local local heuristic to simulate the behavior of hypothetical agents, is called an **agent-based model**."
   ]
  },
  {
   "cell_type": "markdown",
   "id": "2eaece1b-d5a5-44b2-9f73-360bce3d3cfb",
   "metadata": {
    "tags": []
   },
   "source": [
    "### Programming Paradigms (Optional)\n",
    "\n",
    "Not all programming languages use objects. The paradigm of using objects to make your code more modular is called **Object-Oriented Programming (OOP)**. It's worth noting that many languages support OOP, but it is not universal. \n",
    "\n",
    "Here is a list of a few popular programming paradigms and the languages that are built around them:\n",
    "1. **Procedural programming** (C, FORTRAN): a branch of imperative programming that attempts to make code modular by focusing directly on the sequences of steps needed to solve a problem. It emphasizes procedures, functions, and subroutines. In this paradigm, programs are organized into procedures that contain a series of instructions. Data is often shared globally, and functions manipulate this shared data.\n",
    "\n",
    "2. **Object-oriented programming** (C++, Java): organizes procedural programs around objects that encapsulate collections of data with their behavior to increase modularity.\n",
    "\n",
    "2. **Functional programming** (Haskell, Lisp): emphasizes computation as the evaluation of mathematical functions. It focuses on immutability, higher-order and nested functions. Unlike prodedural paradigm, functional programming attempts to avoid relying on global variables or a shared state.\n",
    "\n",
    "3. **Generic programming** (Julia): focuses on creating reusable and type-independent code that can work with different data types. It allows for the creation of generic algorithms and data structures that can operate on multiple types without the need for explicit specialization.\n",
    "\n",
    "This list is far from exhaustive. There are many other programming paradigms that can each give you useful ways to structure certain problems. These range from extremely general purpose paradigms like **declarative programming** (e.g. Mathematica), which constrasts to imperative and procedural programming by focusing on the declaration of the problem rather than the procedure of its solution, to highly specialized paradigms like **logical programming** (e.g. Prolog) that are designed to replicate natural language and formal logic.\n",
    "\n",
    "In general, any problem that you can solve with one of these languages can be solved in any of the other languages (in other words, these languages are all **Turing complete**). However, different paradigms are well-suited to different problems, and some programs that are fast and easy to write in one paradigm might be extremely tedious to write in another.\n",
    "\n",
    "Note that many languages (like Python and R) are not designed to work only within the constraints of one paradigm. This is a huge benefit to these languages. Indeed, they are specially designed to support multiple paradigms that include at least procedural, functional, and object-oriented. This is one feature that makes these languages highly versatile and useful for many types of problems."
   ]
  },
  {
   "cell_type": "markdown",
   "id": "2cfd7bcf-3baf-4ce2-a39d-1b38253a8851",
   "metadata": {},
   "source": [
    "## Exercises"
   ]
  },
  {
   "cell_type": "markdown",
   "id": "9ecc2c79-9194-405f-8316-42b0eadb3f09",
   "metadata": {},
   "source": [
    "### Exercise 1\n",
    "\n",
    "Extend the `Economy` object above to take a list of consumers, rather than just one.\n",
    "\n",
    "When calculating demand, remember that the total number purchased by Consumers should now be the sum of individual quantities demanded over all consumers in the list."
   ]
  },
  {
   "cell_type": "code",
   "execution_count": null,
   "id": "77bfd1a7-8f6e-4826-a715-a108d837753e",
   "metadata": {},
   "outputs": [],
   "source": [
    "class Economy:\n",
    "    def __init__(self, consumer, firm):\n",
    "        self.consumer = consumer\n",
    "        self.firm = firm\n",
    "        self.p = None\n",
    "        self.qd = None\n",
    "        self.qs = None\n",
    "    \n",
    "    def equilibrate(self): # you will need to make changes to this function to solve the problem.\n",
    "        p = 0.1 # choose a small positive price as the starting point\n",
    "        qd = self.consumer.consume(p)\n",
    "        qs = self.firm.produce(p)\n",
    "        while qs < qd: # check if the market has cleared\n",
    "            p += 0.1 # add ten cents to the price\n",
    "            qd = self.consumer.consume(p) # find quantities demanded and supplied at this new price\n",
    "            qs = self.firm.produce(p)\n",
    "        self.p = p\n",
    "        self.qd = qd\n",
    "        self.qs = qs"
   ]
  },
  {
   "cell_type": "markdown",
   "id": "2529d6fa-ce10-49f0-be9b-3672ba476fad",
   "metadata": {},
   "source": [
    "### Exercise 2\n",
    "\n",
    "Define three `Consumers`, A, B, and C. These consumers should all have $gamma = 100$, and should have alpha parameters equal to $alpha = 0.4$, $0.5$, and $0.6$\n",
    "\n",
    "What do you think will happen to the equilibrium price as a result of adding these two new consumers to the market? Enter your answer in the markdown cell below."
   ]
  },
  {
   "cell_type": "code",
   "execution_count": null,
   "id": "3a361637-40c0-47e7-8541-f68c21e4141a",
   "metadata": {},
   "outputs": [],
   "source": [
    "# your code here"
   ]
  },
  {
   "cell_type": "markdown",
   "id": "f4dc1b63-8489-400f-bfd6-e5ae597d48d8",
   "metadata": {},
   "source": [
    "#### **Use this markdown cell to enter your answer**"
   ]
  },
  {
   "cell_type": "markdown",
   "id": "f0aee3ba-406f-4773-aae9-b69dcd9c295b",
   "metadata": {},
   "source": [
    "### Exercise 3\n",
    "\n",
    "Use the agent-based simulation approach to find the equilibrium prices in the new economy with three consumers, constructed in the previous exercise.\n",
    "\n",
    "What happened to the equilibrium price and quanity? Does this agree with your answer to the previous question?"
   ]
  },
  {
   "cell_type": "code",
   "execution_count": null,
   "id": "da6f9f1f-05bf-4263-b255-650f8baeb95c",
   "metadata": {},
   "outputs": [],
   "source": [
    "# your code here"
   ]
  },
  {
   "cell_type": "markdown",
   "id": "e53a3105-6ca5-4c59-8967-be156105571a",
   "metadata": {},
   "source": [
    "#### **Use this markdown cell to enter your answer**"
   ]
  }
 ],
 "metadata": {
  "kernelspec": {
   "display_name": "Python 3 (ipykernel)",
   "language": "python",
   "name": "python3"
  },
  "language_info": {
   "codemirror_mode": {
    "name": "ipython",
    "version": 3
   },
   "file_extension": ".py",
   "mimetype": "text/x-python",
   "name": "python",
   "nbconvert_exporter": "python",
   "pygments_lexer": "ipython3",
   "version": "3.9.12"
  }
 },
 "nbformat": 4,
 "nbformat_minor": 5
}
