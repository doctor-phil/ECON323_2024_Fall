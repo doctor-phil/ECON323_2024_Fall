{
 "cells": [
  {
   "cell_type": "markdown",
   "id": "fea96cfa",
   "metadata": {},
   "source": [
    "# Lab Assignment 1 -- Fundamentals & Collections\n",
    "In this lab, you will complete a series of exercises related to the lecture material on coding fundamentals and collections. \n",
    "\n",
    "Since this is the first lab that involves coding, we will begin with an exercise related to Jupyter notebook functionality."
   ]
  },
  {
   "cell_type": "markdown",
   "id": "5b0e6098",
   "metadata": {},
   "source": [
    "## Exercise 1 -- Jupyter Markdown Basics\n",
    "Jupyter notebooks allows cells to be interpreted as either code or Markdown. Markdown is a lightweight formatting language. In fact, what you're reading right now is written in Markdown. The syntax is very simple and a reference for common commands can be found [here](https://www.markdownguide.org/cheat-sheet/). Use this reference guide to complete the following steps:\n",
    "\n",
    "1. Create a cell below this one by using the insert drop down menu or by clicking on the left of this box (so the side bar turns blue) and tapping the <kbd>b</kbd> key.\n",
    "2. Make the cell a Markdown cell by clicking on it and using the drop down menu above.\n",
    "3. Using the reference guide, find out how to create the **smallest** heading  and use it give the cell you create a header of \"Solution to Exercise 1\" without the quotes.\n",
    "4. Using the reference guide, figure out how to make ordered and unordered lists. Using an unordered list, list three of the things you hope to learn from this class.\n",
    "5. Sometimes, we want to reference specific code or code objects in the text of Markdown. Markdown allows us to format such reference so that it appears in a gray box (e.g. `x=3`). Using the reference guide, figure out how to format code and format  x = 3, so it has a gray box around it in the cell you created. "
   ]
  },
  {
   "cell_type": "markdown",
   "id": "7835167d",
   "metadata": {},
   "source": [
    "## Exercise 2 -- Basic Variable Assignment\n",
    "Complete the following steps in the cells below.\n",
    "1. Generate a variable called `x_flt` and set it equal to 3.0. Print its type.\n",
    "2. Generate a variable called `x_int` and set it equal to 3. Print its type.\n",
    "3. Generate a variable called  `x_str` and set it equal to \"3\". Print its type.\n",
    "4. Which of these two variables can you add together with the `+` operator? Why? Answer in the Markdown cell below. "
   ]
  },
  {
   "cell_type": "code",
   "execution_count": null,
   "id": "8c80cd8e",
   "metadata": {},
   "outputs": [],
   "source": [
    "# Exercise 2 Code\n"
   ]
  },
  {
   "cell_type": "markdown",
   "id": "70b8adf0",
   "metadata": {},
   "source": [
    "### Response to 2.4"
   ]
  },
  {
   "cell_type": "markdown",
   "id": "9db99652",
   "metadata": {},
   "source": [
    "## Exercise 3 -- Variable Reassignment\n",
    "Complete the following steps in the cells below.\n",
    "1. Assign `x` equal to `\"good\"`\n",
    "2. Assign `y` equal to `x`\n",
    "3. Reassign `x` to `\"bad\"`\n",
    "4. Use `print` to print `y`\n",
    "5. Does the print statement print \"good\" or a \"bad\"? Did changing `x` to \"bad\" affect anything? Why or why not? Answer in the Markdown cell below."
   ]
  },
  {
   "cell_type": "code",
   "execution_count": null,
   "id": "9c154552",
   "metadata": {
    "scrolled": true
   },
   "outputs": [],
   "source": [
    "# Exercise 3 Code\n"
   ]
  },
  {
   "cell_type": "markdown",
   "id": "b24737e5",
   "metadata": {},
   "source": [
    "### Response to 3.5"
   ]
  },
  {
   "cell_type": "markdown",
   "id": "4700d845",
   "metadata": {},
   "source": [
    "## Exercise 4 -- Basic Arithmetic\n",
    "Generate the following variables with the corresponding value in the cell below:\n",
    "1. `x` equal to 20\n",
    "2. `y` equal to 10\n",
    "3. `z1` equal to the sum of `x` and `y`\n",
    "4. `z2` equal to `x` minus `y`\n",
    "5. `z3` equal to `x` times `y` \n",
    "6. `z4` equal to `x` divided by `y` \n",
    "\n",
    "Answer the following question in the Markdown Cell Below\n",
    "\n",
    "7. Use `type()` to deterimine which of these variables is a floating point number? Why is this the case?"
   ]
  },
  {
   "cell_type": "code",
   "execution_count": null,
   "id": "564b49ec",
   "metadata": {},
   "outputs": [],
   "source": [
    "# Exercise 4 Code"
   ]
  },
  {
   "cell_type": "markdown",
   "id": "ac2063f9",
   "metadata": {},
   "source": [
    "### Response to 4.7"
   ]
  },
  {
   "cell_type": "markdown",
   "id": "84774c39",
   "metadata": {},
   "source": [
    "## Exercise 5 -- String Formatting\n",
    "Complete the following steps in the cell below:\n",
    "1. Define a list called `cities` that contains the names of three cities you would like to visit. \n",
    "2. Define a corresponding list called `countries` where an entry is the country of each of those three cities.\n",
    "3. Using these lists and f strings, print a sentence that says what country a city is in for each city in your list\n",
    "4. Now do the same thing again but use the `.format()` method instead of f strings."
   ]
  },
  {
   "cell_type": "code",
   "execution_count": null,
   "id": "84231ab0",
   "metadata": {},
   "outputs": [],
   "source": [
    "# Exercise 5 Code"
   ]
  },
  {
   "cell_type": "markdown",
   "id": "074af1bd",
   "metadata": {},
   "source": [
    "## Exercise 6 -- String Concatenation\n",
    "Complete the following steps in the cell below:\n",
    "1. Assign `b` to be equal to \"b\"\n",
    "2. Assign `a` to be equal to \"a\"\n",
    "3. Assign `n` to be equal to \"n\"\n",
    "4. Using these variables, `+`, and `print`, print the the word \"banana\""
   ]
  },
  {
   "cell_type": "code",
   "execution_count": null,
   "id": "47ba30bd",
   "metadata": {},
   "outputs": [],
   "source": [
    "# Exercise 6 Code"
   ]
  },
  {
   "cell_type": "markdown",
   "id": "53634e2d",
   "metadata": {},
   "source": [
    "## Exercise 7 -- Boolean Variable Keywords\n",
    "Assign `a`, `b`,`c`, and `d`, so that every print statement below is true. \n",
    "\n",
    "\n",
    "Afterwards, answer the following quesiton in the Markdown cell below:\n",
    "\n",
    "Is the configuration of `a`, `b`,`c`, and `d` that makes both statements true unique? Why or why not? If it isn't unique, add another print statement to the list to rule out other configurations?"
   ]
  },
  {
   "cell_type": "code",
   "execution_count": null,
   "id": "927dda2a",
   "metadata": {},
   "outputs": [],
   "source": [
    "# Exercise 7 Code\n",
    "a = False\n",
    "b = False\n",
    "c = False\n",
    "d = True"
   ]
  },
  {
   "cell_type": "code",
   "execution_count": null,
   "id": "c30c40c2",
   "metadata": {},
   "outputs": [],
   "source": [
    "# Uncomment the lines below when you have defined the variables to check your results \n",
    "print(((a and b) or (c and d)) == False)\n",
    "print(((a or c) and (b or d)) == False)\n",
    "print(a and (not b) and (not c) and (not d))"
   ]
  },
  {
   "cell_type": "code",
   "execution_count": null,
   "id": "06241a31",
   "metadata": {},
   "outputs": [],
   "source": []
  },
  {
   "cell_type": "markdown",
   "id": "a6b1522e",
   "metadata": {},
   "source": [
    "### Response to 7"
   ]
  },
  {
   "cell_type": "markdown",
   "id": "2b2f4fcf",
   "metadata": {},
   "source": [
    "## Exercise 8 -- Comparison Operators\n",
    "Using `num_list` and list comprehensions, create three lists that correspond to the elements in num_list:\n",
    "1. `equal_list` whose elements should be true if the corresponding element in `num_list` is equal to 0 and false otherwise.\n",
    "2. `greater_list` whose elements should be true if the corresponding element in `num_list` is strictly greater than 0 and false otherwise.\n",
    "3. `lesser_list` whose elements should be true if the corresponding element in `num_list` is strictly less than 0 and false otherwise.\n",
    "4. Finally, using the three lists you generated, list comprehensions, and `zip()`, create `true_list` a list of length 7 where every element is true. \n",
    "\n",
    "**Hints for 4:** \n",
    "- `zip` can be used on more than two lists\n",
    "- use `or` within the list comprehension"
   ]
  },
  {
   "cell_type": "code",
   "execution_count": null,
   "id": "028b26b4",
   "metadata": {},
   "outputs": [],
   "source": [
    "# Exercise 8 Code\n",
    "# Don't edit the line below\n",
    "num_list = [-5, -3, -1, 0, 1, 3, 5]\n",
    "\n",
    "# your code below here\n",
    "\n",
    "\n"
   ]
  },
  {
   "cell_type": "markdown",
   "id": "55708251",
   "metadata": {},
   "source": [
    "## Exercise 9 -- Lists\n",
    "Complete the following steps in the cells below:\n",
    "1. Add two different elements from `num_list` together so that the sum is 0. Print the result.\n",
    "2. Using `.append()`, add a 7 to the end of `num_list`\n",
    "3. Using `.insert()`, add a -7 to the start of `num_list`\n",
    "3. Change each element of `num_list` individually so that it it is equal to the list `[-4, -3, -2, -1, 0, 1, 2, 3, 4]`\n",
    "4. Use the list method `.reverse()` on `num_list` then print `num_list`. What does `.reverse()` do?  Did `.reverse()` change `num_list`?  Answer in the Markdown Cell.\n"
   ]
  },
  {
   "cell_type": "code",
   "execution_count": null,
   "id": "346f8fcc",
   "metadata": {},
   "outputs": [],
   "source": [
    "# Exercise 9 Code"
   ]
  },
  {
   "cell_type": "markdown",
   "id": "c4c0454d",
   "metadata": {},
   "source": [
    "### Response to Exercise 9.5"
   ]
  },
  {
   "cell_type": "markdown",
   "id": "165fbe39",
   "metadata": {},
   "source": [
    "## Exercise 10 -- Dictonaries\n",
    "First, define a dictonary called `my_dict`. It should contain four keys:\n",
    "- \"name\"\n",
    "- \"major\"\n",
    "- \"favorite artist\"\n",
    "- \"favorite food\"\n",
    "\n",
    "Fill out the values to match your name, major, etc.\n",
    "\n",
    "Using `my_dict` and string formatting, print a sentence in the cell below that says who you are, what your major is, your favorite artist, and your favorite food."
   ]
  },
  {
   "cell_type": "code",
   "execution_count": null,
   "id": "26d848c5",
   "metadata": {},
   "outputs": [],
   "source": [
    "# Exercise 10 Code"
   ]
  }
 ],
 "metadata": {
  "kernelspec": {
   "display_name": "Python 3 (ipykernel)",
   "language": "python",
   "name": "python3"
  },
  "language_info": {
   "codemirror_mode": {
    "name": "ipython",
    "version": 3
   },
   "file_extension": ".py",
   "mimetype": "text/x-python",
   "name": "python",
   "nbconvert_exporter": "python",
   "pygments_lexer": "ipython3",
   "version": "3.9.15"
  }
 },
 "nbformat": 4,
 "nbformat_minor": 5
}
