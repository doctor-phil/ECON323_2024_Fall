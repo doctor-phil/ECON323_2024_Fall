{
 "cells": [
  {
   "cell_type": "markdown",
   "id": "e20bf6f9",
   "metadata": {},
   "source": [
    "# Time series\n",
    "\n",
    "**Prerequisites**\n",
    "\n",
    "- [Python functions](https://datascience.quantecon.org/../python_fundamentals/functions.html)  \n",
    "- [GroupBy](https://datascience.quantecon.org/groupby.html)  \n",
    "\n",
    "\n",
    "**Outcomes**\n",
    "\n",
    "- Know how pandas handles dates  \n",
    "- Understand how to parse strings into `datetime` objects  \n",
    "- Know how to write dates as custom formatted strings  \n",
    "- Be able to access day, month, year, etc. for a `DateTimeIndex` and\n",
    "  a column with `dtype` `datetime`  \n",
    "- Understand both rolling and re-sampling operations and the difference\n",
    "  between the two  \n",
    "\n",
    "\n",
    "**Data**\n",
    "\n",
    "- Bitcoin to USD exchange rates from March 2014 to the present  "
   ]
  },
  {
   "cell_type": "code",
   "execution_count": 1,
   "id": "d202a156",
   "metadata": {
    "hide-output": false
   },
   "outputs": [
    {
     "name": "stdout",
     "output_type": "stream",
     "text": [
      "\u001b[33mWARNING: Skipping /opt/conda/lib/python3.11/site-packages/nlopt-2.7.1.dist-info due to invalid metadata entry 'name'\u001b[0m\u001b[33m\n",
      "\u001b[0m\u001b[33mWARNING: Skipping /opt/conda/lib/python3.11/site-packages/nlopt-2.7.1.dist-info due to invalid metadata entry 'name'\u001b[0m\u001b[33m\n",
      "\u001b[0mCollecting nasdaq-data-link\n",
      "  Downloading Nasdaq_Data_Link-1.0.4-py2.py3-none-any.whl.metadata (1.3 kB)\n",
      "Requirement already satisfied: pandas>=0.14 in /opt/conda/lib/python3.11/site-packages (from nasdaq-data-link) (2.2.2)\n",
      "Requirement already satisfied: numpy>=1.8 in /opt/conda/lib/python3.11/site-packages (from nasdaq-data-link) (1.26.4)\n",
      "Requirement already satisfied: requests>=2.7.0 in /opt/conda/lib/python3.11/site-packages (from nasdaq-data-link) (2.31.0)\n",
      "Collecting inflection>=0.3.1 (from nasdaq-data-link)\n",
      "  Using cached inflection-0.5.1-py2.py3-none-any.whl.metadata (1.7 kB)\n",
      "Requirement already satisfied: python-dateutil in /opt/conda/lib/python3.11/site-packages (from nasdaq-data-link) (2.9.0)\n",
      "Requirement already satisfied: six in /opt/conda/lib/python3.11/site-packages (from nasdaq-data-link) (1.16.0)\n",
      "Collecting more-itertools (from nasdaq-data-link)\n",
      "  Using cached more_itertools-10.5.0-py3-none-any.whl.metadata (36 kB)\n",
      "Requirement already satisfied: pytz>=2020.1 in /opt/conda/lib/python3.11/site-packages (from pandas>=0.14->nasdaq-data-link) (2024.1)\n",
      "Requirement already satisfied: tzdata>=2022.7 in /opt/conda/lib/python3.11/site-packages (from pandas>=0.14->nasdaq-data-link) (2024.1)\n",
      "Requirement already satisfied: charset-normalizer<4,>=2 in /opt/conda/lib/python3.11/site-packages (from requests>=2.7.0->nasdaq-data-link) (3.3.2)\n",
      "Requirement already satisfied: idna<4,>=2.5 in /opt/conda/lib/python3.11/site-packages (from requests>=2.7.0->nasdaq-data-link) (3.7)\n",
      "Requirement already satisfied: urllib3<3,>=1.21.1 in /opt/conda/lib/python3.11/site-packages (from requests>=2.7.0->nasdaq-data-link) (2.2.1)\n",
      "Requirement already satisfied: certifi>=2017.4.17 in /opt/conda/lib/python3.11/site-packages (from requests>=2.7.0->nasdaq-data-link) (2024.7.4)\n",
      "Downloading Nasdaq_Data_Link-1.0.4-py2.py3-none-any.whl (28 kB)\n",
      "Using cached inflection-0.5.1-py2.py3-none-any.whl (9.5 kB)\n",
      "Using cached more_itertools-10.5.0-py3-none-any.whl (60 kB)\n",
      "\u001b[33mWARNING: Skipping /opt/conda/lib/python3.11/site-packages/nlopt-2.7.1.dist-info due to invalid metadata entry 'name'\u001b[0m\u001b[33m\n",
      "\u001b[0mInstalling collected packages: more-itertools, inflection, nasdaq-data-link\n",
      "Successfully installed inflection-0.5.1 more-itertools-10.5.0 nasdaq-data-link-1.0.4\n",
      "\u001b[33mWARNING: Skipping /opt/conda/lib/python3.11/site-packages/nlopt-2.7.1.dist-info due to invalid metadata entry 'name'\u001b[0m\u001b[33m\n",
      "\u001b[0m"
     ]
    }
   ],
   "source": [
    "# Uncomment following line to install on colab\n",
    "! pip install nasdaq-data-link"
   ]
  },
  {
   "cell_type": "code",
   "execution_count": 3,
   "id": "4855ac63",
   "metadata": {
    "hide-output": false
   },
   "outputs": [],
   "source": [
    "import os\n",
    "os.environ['NASDAQ_DATA_LINK_API_KEY'] = \"jEKP58z7JaX6utPkkpEp\"\n",
    "import pandas as pd\n",
    "import matplotlib.pyplot as plt\n",
    "#import quandl\n",
    "import nasdaqdatalink as ndl\n",
    "\n",
    "# see section on API keys at end of lecture!\n",
    "#quandl.ApiConfig.api_key = os.environ.get(\"QUANDL_AUTH\", \"jEKP58z7JaX6utPkkpEp\")\n",
    "start_date = \"2014-05-01\"\n",
    "\n",
    "%matplotlib inline"
   ]
  },
  {
   "cell_type": "markdown",
   "id": "56b0fdef",
   "metadata": {},
   "source": [
    "## Intro\n",
    "\n",
    "pandas has extensive support for handling dates and times.\n",
    "\n",
    "We will loosely refer to data with date or time information as time\n",
    "series data.\n",
    "\n",
    "In this lecture, we will cover the most useful parts of pandas’ time\n",
    "series functionality.\n",
    "\n",
    "Among these topics are:\n",
    "\n",
    "- Parsing strings as dates  \n",
    "- Writing `datetime` objects as strings (inverse operation of previous point)  \n",
    "- Extracting data from a DataFrame or Series with date information in\n",
    "  the index  \n",
    "- Shifting data through time (taking leads or lags)  \n",
    "- Re-sampling data to a different frequency and rolling operations  \n",
    "\n",
    "\n",
    "However, even more than with previous topics, we will skip a lot of the\n",
    "functionality pandas offers, and we urge you to refer to the [official\n",
    "documentation](https://pandas.pydata.org/pandas-docs/stable/timeseries.html)\n",
    "for more information."
   ]
  },
  {
   "cell_type": "markdown",
   "id": "2562eec4",
   "metadata": {},
   "source": [
    "## Parsing Strings as Dates\n",
    "\n",
    "When working with time series data, we almost always receive the data\n",
    "with dates encoded as strings.\n",
    "\n",
    "Hopefully, the date strings follow a structured format or pattern.\n",
    "\n",
    "One common pattern is `YYYY-MM-DD`: 4 numbers for the year, 2 for the\n",
    "month, and 2 for the day with each section separated by a `-`.\n",
    "\n",
    "For example, we write Christmas day 2017 in this format as"
   ]
  },
  {
   "cell_type": "code",
   "execution_count": 28,
   "id": "261076d0",
   "metadata": {
    "hide-output": false
   },
   "outputs": [
    {
     "data": {
      "text/plain": [
       "Timestamp('2017-04-07 00:00:00')"
      ]
     },
     "execution_count": 28,
     "metadata": {},
     "output_type": "execute_result"
    }
   ],
   "source": [
    "christmas_str = \"2017/12/25\"\n",
    "july_fourth = \"04/07/2017\"\n",
    "pd.to_datetime(july_fourth)"
   ]
  },
  {
   "cell_type": "markdown",
   "id": "b2752269",
   "metadata": {},
   "source": [
    "To convert a string into a time-aware object, we use the\n",
    "`pd.to_datetime` function."
   ]
  },
  {
   "cell_type": "code",
   "execution_count": 29,
   "id": "8fe82fcb",
   "metadata": {
    "hide-output": false
   },
   "outputs": [
    {
     "name": "stdout",
     "output_type": "stream",
     "text": [
      "The type of christmas is <class 'pandas._libs.tslibs.timestamps.Timestamp'>\n"
     ]
    },
    {
     "data": {
      "text/plain": [
       "Timestamp('2017-12-25 00:00:00')"
      ]
     },
     "execution_count": 29,
     "metadata": {},
     "output_type": "execute_result"
    }
   ],
   "source": [
    "christmas = pd.to_datetime(christmas_str)\n",
    "print(\"The type of christmas is\", type(christmas))\n",
    "christmas"
   ]
  },
  {
   "cell_type": "markdown",
   "id": "803d4736",
   "metadata": {},
   "source": [
    "The `pd.to_datetime` function is pretty smart at guessing the format\n",
    "of the date…"
   ]
  },
  {
   "cell_type": "code",
   "execution_count": 30,
   "id": "a3477981",
   "metadata": {
    "hide-output": false
   },
   "outputs": [
    {
     "name": "stdout",
     "output_type": "stream",
     "text": [
      "pandas interprets December 25, 2017 as 2017-12-25 00:00:00\n",
      "pandas interprets Dec. 25, 2017 as 2017-12-25 00:00:00\n",
      "pandas interprets Monday, Dec. 25, 2017 as 2017-12-25 00:00:00\n",
      "pandas interprets 25 Dec. 2017 as 2017-12-25 00:00:00\n",
      "pandas interprets 25th Dec. 2017 as 2017-12-25 00:00:00\n"
     ]
    }
   ],
   "source": [
    "for date in [\"December 25, 2017\", \"Dec. 25, 2017\",\n",
    "             \"Monday, Dec. 25, 2017\", \"25 Dec. 2017\", \"25th Dec. 2017\"]:\n",
    "    print(\"pandas interprets {} as {}\".format(date, pd.to_datetime(date)))"
   ]
  },
  {
   "cell_type": "code",
   "execution_count": 31,
   "id": "67e44560-f90d-4e62-822d-77c91d7f1eb9",
   "metadata": {},
   "outputs": [
    {
     "data": {
      "text/plain": [
       "'04/07/2017'"
      ]
     },
     "execution_count": 31,
     "metadata": {},
     "output_type": "execute_result"
    }
   ],
   "source": [
    "july_fourth"
   ]
  },
  {
   "cell_type": "markdown",
   "id": "72036c4e",
   "metadata": {},
   "source": [
    "However, sometimes we will need to give pandas a hint.\n",
    "\n",
    "For example, that same time (midnight on Christmas) would be reported on\n",
    "an Amazon transaction report as"
   ]
  },
  {
   "cell_type": "code",
   "execution_count": 32,
   "id": "9fefe52b",
   "metadata": {
    "hide-output": false
   },
   "outputs": [
    {
     "data": {
      "text/plain": [
       "Timestamp('2017-07-04 00:00:00')"
      ]
     },
     "execution_count": 32,
     "metadata": {},
     "output_type": "execute_result"
    }
   ],
   "source": [
    "christmas_amzn = \"2017-12-25T00:00:00+ 00 :00\"\n",
    "j4_strf = \"%d/%m/%Y\"\n",
    "pd.to_datetime(july_fourth, format=j4_strf)"
   ]
  },
  {
   "cell_type": "markdown",
   "id": "285a3224",
   "metadata": {},
   "source": [
    "If we try to pass this to `pd.to_datetime`, it will fail."
   ]
  },
  {
   "cell_type": "code",
   "execution_count": 33,
   "id": "44d62d33",
   "metadata": {
    "hide-output": false
   },
   "outputs": [
    {
     "ename": "DateParseError",
     "evalue": "Unknown datetime string format, unable to parse: 2017-12-25T00:00:00+ 00 :00, at position 0",
     "output_type": "error",
     "traceback": [
      "\u001b[0;31m---------------------------------------------------------------------------\u001b[0m",
      "\u001b[0;31mDateParseError\u001b[0m                            Traceback (most recent call last)",
      "Cell \u001b[0;32mIn[33], line 1\u001b[0m\n\u001b[0;32m----> 1\u001b[0m \u001b[43mpd\u001b[49m\u001b[38;5;241;43m.\u001b[39;49m\u001b[43mto_datetime\u001b[49m\u001b[43m(\u001b[49m\u001b[43mchristmas_amzn\u001b[49m\u001b[43m)\u001b[49m\n",
      "File \u001b[0;32m/opt/conda/lib/python3.11/site-packages/pandas/core/tools/datetimes.py:1101\u001b[0m, in \u001b[0;36mto_datetime\u001b[0;34m(arg, errors, dayfirst, yearfirst, utc, format, exact, unit, infer_datetime_format, origin, cache)\u001b[0m\n\u001b[1;32m   1099\u001b[0m         result \u001b[38;5;241m=\u001b[39m convert_listlike(argc, \u001b[38;5;28mformat\u001b[39m)\n\u001b[1;32m   1100\u001b[0m \u001b[38;5;28;01melse\u001b[39;00m:\n\u001b[0;32m-> 1101\u001b[0m     result \u001b[38;5;241m=\u001b[39m \u001b[43mconvert_listlike\u001b[49m\u001b[43m(\u001b[49m\u001b[43mnp\u001b[49m\u001b[38;5;241;43m.\u001b[39;49m\u001b[43marray\u001b[49m\u001b[43m(\u001b[49m\u001b[43m[\u001b[49m\u001b[43marg\u001b[49m\u001b[43m]\u001b[49m\u001b[43m)\u001b[49m\u001b[43m,\u001b[49m\u001b[43m \u001b[49m\u001b[38;5;28;43mformat\u001b[39;49m\u001b[43m)\u001b[49m[\u001b[38;5;241m0\u001b[39m]\n\u001b[1;32m   1102\u001b[0m     \u001b[38;5;28;01mif\u001b[39;00m \u001b[38;5;28misinstance\u001b[39m(arg, \u001b[38;5;28mbool\u001b[39m) \u001b[38;5;129;01mand\u001b[39;00m \u001b[38;5;28misinstance\u001b[39m(result, np\u001b[38;5;241m.\u001b[39mbool_):\n\u001b[1;32m   1103\u001b[0m         result \u001b[38;5;241m=\u001b[39m \u001b[38;5;28mbool\u001b[39m(result)  \u001b[38;5;66;03m# TODO: avoid this kludge.\u001b[39;00m\n",
      "File \u001b[0;32m/opt/conda/lib/python3.11/site-packages/pandas/core/tools/datetimes.py:435\u001b[0m, in \u001b[0;36m_convert_listlike_datetimes\u001b[0;34m(arg, format, name, utc, unit, errors, dayfirst, yearfirst, exact)\u001b[0m\n\u001b[1;32m    432\u001b[0m \u001b[38;5;28;01mif\u001b[39;00m \u001b[38;5;28mformat\u001b[39m \u001b[38;5;129;01mis\u001b[39;00m \u001b[38;5;129;01mnot\u001b[39;00m \u001b[38;5;28;01mNone\u001b[39;00m \u001b[38;5;129;01mand\u001b[39;00m \u001b[38;5;28mformat\u001b[39m \u001b[38;5;241m!=\u001b[39m \u001b[38;5;124m\"\u001b[39m\u001b[38;5;124mmixed\u001b[39m\u001b[38;5;124m\"\u001b[39m:\n\u001b[1;32m    433\u001b[0m     \u001b[38;5;28;01mreturn\u001b[39;00m _array_strptime_with_fallback(arg, name, utc, \u001b[38;5;28mformat\u001b[39m, exact, errors)\n\u001b[0;32m--> 435\u001b[0m result, tz_parsed \u001b[38;5;241m=\u001b[39m \u001b[43mobjects_to_datetime64\u001b[49m\u001b[43m(\u001b[49m\n\u001b[1;32m    436\u001b[0m \u001b[43m    \u001b[49m\u001b[43marg\u001b[49m\u001b[43m,\u001b[49m\n\u001b[1;32m    437\u001b[0m \u001b[43m    \u001b[49m\u001b[43mdayfirst\u001b[49m\u001b[38;5;241;43m=\u001b[39;49m\u001b[43mdayfirst\u001b[49m\u001b[43m,\u001b[49m\n\u001b[1;32m    438\u001b[0m \u001b[43m    \u001b[49m\u001b[43myearfirst\u001b[49m\u001b[38;5;241;43m=\u001b[39;49m\u001b[43myearfirst\u001b[49m\u001b[43m,\u001b[49m\n\u001b[1;32m    439\u001b[0m \u001b[43m    \u001b[49m\u001b[43mutc\u001b[49m\u001b[38;5;241;43m=\u001b[39;49m\u001b[43mutc\u001b[49m\u001b[43m,\u001b[49m\n\u001b[1;32m    440\u001b[0m \u001b[43m    \u001b[49m\u001b[43merrors\u001b[49m\u001b[38;5;241;43m=\u001b[39;49m\u001b[43merrors\u001b[49m\u001b[43m,\u001b[49m\n\u001b[1;32m    441\u001b[0m \u001b[43m    \u001b[49m\u001b[43mallow_object\u001b[49m\u001b[38;5;241;43m=\u001b[39;49m\u001b[38;5;28;43;01mTrue\u001b[39;49;00m\u001b[43m,\u001b[49m\n\u001b[1;32m    442\u001b[0m \u001b[43m\u001b[49m\u001b[43m)\u001b[49m\n\u001b[1;32m    444\u001b[0m \u001b[38;5;28;01mif\u001b[39;00m tz_parsed \u001b[38;5;129;01mis\u001b[39;00m \u001b[38;5;129;01mnot\u001b[39;00m \u001b[38;5;28;01mNone\u001b[39;00m:\n\u001b[1;32m    445\u001b[0m     \u001b[38;5;66;03m# We can take a shortcut since the datetime64 numpy array\u001b[39;00m\n\u001b[1;32m    446\u001b[0m     \u001b[38;5;66;03m# is in UTC\u001b[39;00m\n\u001b[1;32m    447\u001b[0m     out_unit \u001b[38;5;241m=\u001b[39m np\u001b[38;5;241m.\u001b[39mdatetime_data(result\u001b[38;5;241m.\u001b[39mdtype)[\u001b[38;5;241m0\u001b[39m]\n",
      "File \u001b[0;32m/opt/conda/lib/python3.11/site-packages/pandas/core/arrays/datetimes.py:2398\u001b[0m, in \u001b[0;36mobjects_to_datetime64\u001b[0;34m(data, dayfirst, yearfirst, utc, errors, allow_object, out_unit)\u001b[0m\n\u001b[1;32m   2395\u001b[0m \u001b[38;5;66;03m# if str-dtype, convert\u001b[39;00m\n\u001b[1;32m   2396\u001b[0m data \u001b[38;5;241m=\u001b[39m np\u001b[38;5;241m.\u001b[39masarray(data, dtype\u001b[38;5;241m=\u001b[39mnp\u001b[38;5;241m.\u001b[39mobject_)\n\u001b[0;32m-> 2398\u001b[0m result, tz_parsed \u001b[38;5;241m=\u001b[39m \u001b[43mtslib\u001b[49m\u001b[38;5;241;43m.\u001b[39;49m\u001b[43marray_to_datetime\u001b[49m\u001b[43m(\u001b[49m\n\u001b[1;32m   2399\u001b[0m \u001b[43m    \u001b[49m\u001b[43mdata\u001b[49m\u001b[43m,\u001b[49m\n\u001b[1;32m   2400\u001b[0m \u001b[43m    \u001b[49m\u001b[43merrors\u001b[49m\u001b[38;5;241;43m=\u001b[39;49m\u001b[43merrors\u001b[49m\u001b[43m,\u001b[49m\n\u001b[1;32m   2401\u001b[0m \u001b[43m    \u001b[49m\u001b[43mutc\u001b[49m\u001b[38;5;241;43m=\u001b[39;49m\u001b[43mutc\u001b[49m\u001b[43m,\u001b[49m\n\u001b[1;32m   2402\u001b[0m \u001b[43m    \u001b[49m\u001b[43mdayfirst\u001b[49m\u001b[38;5;241;43m=\u001b[39;49m\u001b[43mdayfirst\u001b[49m\u001b[43m,\u001b[49m\n\u001b[1;32m   2403\u001b[0m \u001b[43m    \u001b[49m\u001b[43myearfirst\u001b[49m\u001b[38;5;241;43m=\u001b[39;49m\u001b[43myearfirst\u001b[49m\u001b[43m,\u001b[49m\n\u001b[1;32m   2404\u001b[0m \u001b[43m    \u001b[49m\u001b[43mcreso\u001b[49m\u001b[38;5;241;43m=\u001b[39;49m\u001b[43mabbrev_to_npy_unit\u001b[49m\u001b[43m(\u001b[49m\u001b[43mout_unit\u001b[49m\u001b[43m)\u001b[49m\u001b[43m,\u001b[49m\n\u001b[1;32m   2405\u001b[0m \u001b[43m\u001b[49m\u001b[43m)\u001b[49m\n\u001b[1;32m   2407\u001b[0m \u001b[38;5;28;01mif\u001b[39;00m tz_parsed \u001b[38;5;129;01mis\u001b[39;00m \u001b[38;5;129;01mnot\u001b[39;00m \u001b[38;5;28;01mNone\u001b[39;00m:\n\u001b[1;32m   2408\u001b[0m     \u001b[38;5;66;03m# We can take a shortcut since the datetime64 numpy array\u001b[39;00m\n\u001b[1;32m   2409\u001b[0m     \u001b[38;5;66;03m#  is in UTC\u001b[39;00m\n\u001b[1;32m   2410\u001b[0m     \u001b[38;5;28;01mreturn\u001b[39;00m result, tz_parsed\n",
      "File \u001b[0;32mtslib.pyx:414\u001b[0m, in \u001b[0;36mpandas._libs.tslib.array_to_datetime\u001b[0;34m()\u001b[0m\n",
      "File \u001b[0;32mtslib.pyx:596\u001b[0m, in \u001b[0;36mpandas._libs.tslib.array_to_datetime\u001b[0;34m()\u001b[0m\n",
      "File \u001b[0;32mtslib.pyx:553\u001b[0m, in \u001b[0;36mpandas._libs.tslib.array_to_datetime\u001b[0;34m()\u001b[0m\n",
      "File \u001b[0;32mconversion.pyx:641\u001b[0m, in \u001b[0;36mpandas._libs.tslibs.conversion.convert_str_to_tsobject\u001b[0;34m()\u001b[0m\n",
      "File \u001b[0;32mparsing.pyx:336\u001b[0m, in \u001b[0;36mpandas._libs.tslibs.parsing.parse_datetime_string\u001b[0;34m()\u001b[0m\n",
      "File \u001b[0;32mparsing.pyx:666\u001b[0m, in \u001b[0;36mpandas._libs.tslibs.parsing.dateutil_parse\u001b[0;34m()\u001b[0m\n",
      "\u001b[0;31mDateParseError\u001b[0m: Unknown datetime string format, unable to parse: 2017-12-25T00:00:00+ 00 :00, at position 0"
     ]
    }
   ],
   "source": [
    "pd.to_datetime(christmas_amzn)"
   ]
  },
  {
   "cell_type": "markdown",
   "id": "09a45370",
   "metadata": {},
   "source": [
    "To parse a date with this format, we need to specify the `format`\n",
    "argument for `pd.to_datetime`."
   ]
  },
  {
   "cell_type": "code",
   "execution_count": 34,
   "id": "3776cb45",
   "metadata": {
    "hide-output": false
   },
   "outputs": [
    {
     "data": {
      "text/plain": [
       "Timestamp('2017-12-25 00:00:00')"
      ]
     },
     "execution_count": 34,
     "metadata": {},
     "output_type": "execute_result"
    }
   ],
   "source": [
    "amzn_strftime = \"%Y-%m-%dT%H:%M:%S+ 00 :00\"\n",
    "pd.to_datetime(christmas_amzn, format=amzn_strftime)"
   ]
  },
  {
   "cell_type": "markdown",
   "id": "5709bbaa",
   "metadata": {},
   "source": [
    "Can you guess what `amzn_strftime` represents?\n",
    "\n",
    "Let’s take a closer look at `amzn_strftime` and `christmas_amzn`."
   ]
  },
  {
   "cell_type": "code",
   "execution_count": 35,
   "id": "a998e617",
   "metadata": {
    "hide-output": false
   },
   "outputs": [
    {
     "name": "stdout",
     "output_type": "stream",
     "text": [
      "%Y-%m-%dT%H:%M:%S+ 00 :00\n",
      "2017-12-25T00:00:00+ 00 :00\n"
     ]
    }
   ],
   "source": [
    "print(amzn_strftime)\n",
    "print(christmas_amzn)"
   ]
  },
  {
   "cell_type": "markdown",
   "id": "d97b5568",
   "metadata": {},
   "source": [
    "Notice that both of the strings have a similar form, but that instead of actual numerical values, `amzn_strftime` has *placeholders*.\n",
    "\n",
    "Specifically, anywhere the `%` shows up is a signal to the `pd.to_datetime`\n",
    "function that it is where relevant information is stored.\n",
    "\n",
    "For example, the `%Y` is a stand-in for a four digit year, `%m` is\n",
    "for 2 a digit month, and so on…\n",
    "\n",
    "The official [Python\n",
    "documentation](https://docs.python.org/3/library/datetime.html#strftime-and-strptime-behavior) contains a complete list of possible `%`something patterns that are accepted\n",
    "in the `format` argument."
   ]
  },
  {
   "cell_type": "markdown",
   "id": "412eac57",
   "metadata": {},
   "source": [
    "## Exercise\n",
    "\n",
    "See exercise 1 in the [exercise list](#pd-tim-ex)."
   ]
  },
  {
   "cell_type": "markdown",
   "id": "aa34e63c",
   "metadata": {},
   "source": [
    "### Multiple Dates\n",
    "\n",
    "If we have dates in a Series (e.g. column of DataFrame) or a list, we\n",
    "can pass the entire collection to `pd.to_datetime` and get a\n",
    "collection of dates back.\n",
    "\n",
    "We’ll just show an example of that here as the mechanics are the same as\n",
    "a single date."
   ]
  },
  {
   "cell_type": "code",
   "execution_count": 36,
   "id": "68ce252d",
   "metadata": {
    "hide-output": false
   },
   "outputs": [
    {
     "name": "stderr",
     "output_type": "stream",
     "text": [
      "/tmp/ipykernel_838/2364527826.py:1: UserWarning: Parsing dates in %d-%m-%Y format when dayfirst=False (the default) was specified. Pass `dayfirst=True` or specify a format to silence this warning.\n",
      "  pd.to_datetime([\"31-12-2017\",\"07-04-2017\"])\n"
     ]
    },
    {
     "data": {
      "text/plain": [
       "DatetimeIndex(['2017-12-31', '2017-04-07'], dtype='datetime64[ns]', freq=None)"
      ]
     },
     "execution_count": 36,
     "metadata": {},
     "output_type": "execute_result"
    }
   ],
   "source": [
    "pd.to_datetime([\"31-12-2017\",\"07-04-2017\"])"
   ]
  },
  {
   "cell_type": "code",
   "execution_count": 39,
   "id": "7211f595-17e0-4b58-94e0-18d54ce1a6fc",
   "metadata": {},
   "outputs": [],
   "source": [
    "import json"
   ]
  },
  {
   "cell_type": "markdown",
   "id": "b4e36495",
   "metadata": {},
   "source": [
    "## Date Formatting\n",
    "\n",
    "We can use the `%`pattern format to have pandas write `datetime`\n",
    "objects as specially formatted strings using the `strftime` (string\n",
    "format time) method.\n",
    "\n",
    "For example,"
   ]
  },
  {
   "cell_type": "code",
   "execution_count": 37,
   "id": "7c97b760",
   "metadata": {
    "hide-output": false
   },
   "outputs": [
    {
     "data": {
      "text/plain": [
       "'We love Monday December 25 (also written Mon Dec 25 00:00:00 2017)'"
      ]
     },
     "execution_count": 37,
     "metadata": {},
     "output_type": "execute_result"
    }
   ],
   "source": [
    "christmas.strftime(\"We love %A %B %d (also written %c)\")"
   ]
  },
  {
   "cell_type": "markdown",
   "id": "15a070db",
   "metadata": {},
   "source": [
    "## Exercise\n",
    "\n",
    "See exercise 2 in the [exercise list](#pd-tim-ex)."
   ]
  },
  {
   "cell_type": "markdown",
   "id": "1b5eda9c",
   "metadata": {},
   "source": [
    "## Extracting Data\n",
    "\n",
    "When the index of a DataFrame has date information and pandas\n",
    "recognizes the values as `datetime` values, we can leverage some\n",
    "convenient indexing features for extracting data.\n",
    "\n",
    "The flexibility of these features is best understood through example,\n",
    "so let’s load up some data and take a look."
   ]
  },
  {
   "cell_type": "code",
   "execution_count": 22,
   "id": "3c42cf3a-4d52-48cc-a317-1bba94ab2131",
   "metadata": {},
   "outputs": [
    {
     "name": "stdout",
     "output_type": "stream",
     "text": [
      "<class 'pandas.core.frame.DataFrame'>\n",
      "RangeIndex: 165583 entries, 0 to 165582\n",
      "Data columns (total 3 columns):\n",
      " #   Column  Non-Null Count   Dtype         \n",
      "---  ------  --------------   -----         \n",
      " 0   code    165583 non-null  object        \n",
      " 1   date    165583 non-null  datetime64[ns]\n",
      " 2   value   165583 non-null  float64       \n",
      "dtypes: datetime64[ns](1), float64(1), object(1)\n",
      "memory usage: 3.8+ MB\n"
     ]
    },
    {
     "data": {
      "text/html": [
       "<div>\n",
       "<style scoped>\n",
       "    .dataframe tbody tr th:only-of-type {\n",
       "        vertical-align: middle;\n",
       "    }\n",
       "\n",
       "    .dataframe tbody tr th {\n",
       "        vertical-align: top;\n",
       "    }\n",
       "\n",
       "    .dataframe thead th {\n",
       "        text-align: right;\n",
       "    }\n",
       "</style>\n",
       "<table border=\"1\" class=\"dataframe\">\n",
       "  <thead>\n",
       "    <tr style=\"text-align: right;\">\n",
       "      <th></th>\n",
       "      <th>code</th>\n",
       "      <th>date</th>\n",
       "      <th>value</th>\n",
       "    </tr>\n",
       "    <tr>\n",
       "      <th>None</th>\n",
       "      <th></th>\n",
       "      <th></th>\n",
       "      <th></th>\n",
       "    </tr>\n",
       "  </thead>\n",
       "  <tbody>\n",
       "    <tr>\n",
       "      <th>0</th>\n",
       "      <td>TVTVR</td>\n",
       "      <td>2016-07-17</td>\n",
       "      <td>60.5821</td>\n",
       "    </tr>\n",
       "    <tr>\n",
       "      <th>1</th>\n",
       "      <td>TVTVR</td>\n",
       "      <td>2016-07-16</td>\n",
       "      <td>93.1541</td>\n",
       "    </tr>\n",
       "    <tr>\n",
       "      <th>2</th>\n",
       "      <td>TVTVR</td>\n",
       "      <td>2016-07-15</td>\n",
       "      <td>76.3548</td>\n",
       "    </tr>\n",
       "    <tr>\n",
       "      <th>3</th>\n",
       "      <td>TVTVR</td>\n",
       "      <td>2016-07-14</td>\n",
       "      <td>86.4739</td>\n",
       "    </tr>\n",
       "    <tr>\n",
       "      <th>4</th>\n",
       "      <td>TVTVR</td>\n",
       "      <td>2016-07-13</td>\n",
       "      <td>39.4733</td>\n",
       "    </tr>\n",
       "  </tbody>\n",
       "</table>\n",
       "</div>"
      ],
      "text/plain": [
       "       code       date    value\n",
       "None                           \n",
       "0     TVTVR 2016-07-17  60.5821\n",
       "1     TVTVR 2016-07-16  93.1541\n",
       "2     TVTVR 2016-07-15  76.3548\n",
       "3     TVTVR 2016-07-14  86.4739\n",
       "4     TVTVR 2016-07-13  39.4733"
      ]
     },
     "execution_count": 22,
     "metadata": {},
     "output_type": "execute_result"
    }
   ],
   "source": [
    "btc_usd = ndl.get_table(\"QDL/BCHAIN\", paginate=True)\n",
    "btc_usd.info()\n",
    "btc_usd.head()"
   ]
  },
  {
   "cell_type": "markdown",
   "id": "0d31ec23-8737-46ce-9fb3-8639b333a927",
   "metadata": {
    "hide-output": false
   },
   "source": []
  },
  {
   "cell_type": "code",
   "execution_count": 23,
   "id": "babc993f-e23d-41b0-9a76-492aad7c486d",
   "metadata": {},
   "outputs": [
    {
     "data": {
      "text/html": [
       "<div>\n",
       "<style scoped>\n",
       "    .dataframe tbody tr th:only-of-type {\n",
       "        vertical-align: middle;\n",
       "    }\n",
       "\n",
       "    .dataframe tbody tr th {\n",
       "        vertical-align: top;\n",
       "    }\n",
       "\n",
       "    .dataframe thead th {\n",
       "        text-align: right;\n",
       "    }\n",
       "</style>\n",
       "<table border=\"1\" class=\"dataframe\">\n",
       "  <thead>\n",
       "    <tr style=\"text-align: right;\">\n",
       "      <th></th>\n",
       "      <th>code</th>\n",
       "      <th>date</th>\n",
       "      <th>value</th>\n",
       "    </tr>\n",
       "    <tr>\n",
       "      <th>None</th>\n",
       "      <th></th>\n",
       "      <th></th>\n",
       "      <th></th>\n",
       "    </tr>\n",
       "  </thead>\n",
       "  <tbody>\n",
       "    <tr>\n",
       "      <th>0</th>\n",
       "      <td>TVTVR</td>\n",
       "      <td>2016-07-17</td>\n",
       "      <td>60.5821</td>\n",
       "    </tr>\n",
       "    <tr>\n",
       "      <th>1</th>\n",
       "      <td>TVTVR</td>\n",
       "      <td>2016-07-16</td>\n",
       "      <td>93.1541</td>\n",
       "    </tr>\n",
       "    <tr>\n",
       "      <th>2</th>\n",
       "      <td>TVTVR</td>\n",
       "      <td>2016-07-15</td>\n",
       "      <td>76.3548</td>\n",
       "    </tr>\n",
       "    <tr>\n",
       "      <th>3</th>\n",
       "      <td>TVTVR</td>\n",
       "      <td>2016-07-14</td>\n",
       "      <td>86.4739</td>\n",
       "    </tr>\n",
       "    <tr>\n",
       "      <th>4</th>\n",
       "      <td>TVTVR</td>\n",
       "      <td>2016-07-13</td>\n",
       "      <td>39.4733</td>\n",
       "    </tr>\n",
       "    <tr>\n",
       "      <th>...</th>\n",
       "      <td>...</td>\n",
       "      <td>...</td>\n",
       "      <td>...</td>\n",
       "    </tr>\n",
       "    <tr>\n",
       "      <th>165578</th>\n",
       "      <td>ATRCT</td>\n",
       "      <td>2009-01-07</td>\n",
       "      <td>0.0000</td>\n",
       "    </tr>\n",
       "    <tr>\n",
       "      <th>165579</th>\n",
       "      <td>ATRCT</td>\n",
       "      <td>2009-01-06</td>\n",
       "      <td>0.0000</td>\n",
       "    </tr>\n",
       "    <tr>\n",
       "      <th>165580</th>\n",
       "      <td>ATRCT</td>\n",
       "      <td>2009-01-05</td>\n",
       "      <td>0.0000</td>\n",
       "    </tr>\n",
       "    <tr>\n",
       "      <th>165581</th>\n",
       "      <td>ATRCT</td>\n",
       "      <td>2009-01-04</td>\n",
       "      <td>0.0000</td>\n",
       "    </tr>\n",
       "    <tr>\n",
       "      <th>165582</th>\n",
       "      <td>ATRCT</td>\n",
       "      <td>2009-01-03</td>\n",
       "      <td>0.0000</td>\n",
       "    </tr>\n",
       "  </tbody>\n",
       "</table>\n",
       "<p>165583 rows × 3 columns</p>\n",
       "</div>"
      ],
      "text/plain": [
       "         code       date    value\n",
       "None                             \n",
       "0       TVTVR 2016-07-17  60.5821\n",
       "1       TVTVR 2016-07-16  93.1541\n",
       "2       TVTVR 2016-07-15  76.3548\n",
       "3       TVTVR 2016-07-14  86.4739\n",
       "4       TVTVR 2016-07-13  39.4733\n",
       "...       ...        ...      ...\n",
       "165578  ATRCT 2009-01-07   0.0000\n",
       "165579  ATRCT 2009-01-06   0.0000\n",
       "165580  ATRCT 2009-01-05   0.0000\n",
       "165581  ATRCT 2009-01-04   0.0000\n",
       "165582  ATRCT 2009-01-03   0.0000\n",
       "\n",
       "[165583 rows x 3 columns]"
      ]
     },
     "execution_count": 23,
     "metadata": {},
     "output_type": "execute_result"
    }
   ],
   "source": [
    "btc_usd"
   ]
  },
  {
   "cell_type": "code",
   "execution_count": 24,
   "id": "37a8d2ba-8e86-4f53-aaf7-421560ad48ec",
   "metadata": {},
   "outputs": [
    {
     "data": {
      "text/plain": [
       "code             object\n",
       "date     datetime64[ns]\n",
       "value           float64\n",
       "dtype: object"
      ]
     },
     "execution_count": 24,
     "metadata": {},
     "output_type": "execute_result"
    }
   ],
   "source": [
    "btc_usd.dtypes"
   ]
  },
  {
   "cell_type": "code",
   "execution_count": 25,
   "id": "be98ca97-aaa0-4014-b31f-115ffc82cc9d",
   "metadata": {},
   "outputs": [
    {
     "data": {
      "text/plain": [
       "array(['TVTVR', 'TRVOU', 'TRFUS', 'TRFEE', 'TOUTV', 'TOTBC', 'NTREP',\n",
       "       'NTRBL', 'NTRAT', 'NTRAN', 'NETDF', 'NADDU', 'MWTRV', 'MWNUS',\n",
       "       'MWNTD', 'MKTCP', 'MKPRU', 'MIREV', 'MIOPM', 'HRATE', 'ETRVU',\n",
       "       'ETRAV', 'DIFF', 'CPTRV', 'CPTRA', 'BLCHS', 'BCDDY', 'BCDDW',\n",
       "       'BCDDM', 'BCDDE', 'BCDDC', 'AVBLS', 'ATRCT'], dtype=object)"
      ]
     },
     "execution_count": 25,
     "metadata": {},
     "output_type": "execute_result"
    }
   ],
   "source": [
    "btc_usd.code.unique()"
   ]
  },
  {
   "cell_type": "code",
   "execution_count": 26,
   "id": "cb838c5c-7fc1-44e1-ad19-21ffeb8175a6",
   "metadata": {},
   "outputs": [],
   "source": [
    "btc_columns = ['MKPRU', 'MKTCP', 'TRFUS']"
   ]
  },
  {
   "cell_type": "code",
   "execution_count": 28,
   "id": "a8402ba4-3005-4854-b842-e31e506b7453",
   "metadata": {},
   "outputs": [],
   "source": [
    "btc_usd_expanded = btc_usd.pivot_table(index='date', columns='code', values='value')"
   ]
  },
  {
   "cell_type": "code",
   "execution_count": 32,
   "id": "146a88ff-f761-47e9-aada-f5f61456b039",
   "metadata": {},
   "outputs": [
    {
     "data": {
      "text/html": [
       "<div>\n",
       "<style scoped>\n",
       "    .dataframe tbody tr th:only-of-type {\n",
       "        vertical-align: middle;\n",
       "    }\n",
       "\n",
       "    .dataframe tbody tr th {\n",
       "        vertical-align: top;\n",
       "    }\n",
       "\n",
       "    .dataframe thead th {\n",
       "        text-align: right;\n",
       "    }\n",
       "</style>\n",
       "<table border=\"1\" class=\"dataframe\">\n",
       "  <thead>\n",
       "    <tr style=\"text-align: right;\">\n",
       "      <th>code</th>\n",
       "      <th>MKPRU</th>\n",
       "      <th>MKTCP</th>\n",
       "      <th>TRFUS</th>\n",
       "    </tr>\n",
       "    <tr>\n",
       "      <th>date</th>\n",
       "      <th></th>\n",
       "      <th></th>\n",
       "      <th></th>\n",
       "    </tr>\n",
       "  </thead>\n",
       "  <tbody>\n",
       "    <tr>\n",
       "      <th>2014-05-01</th>\n",
       "      <td>452.03</td>\n",
       "      <td>5.692506e+09</td>\n",
       "      <td>5150.6111</td>\n",
       "    </tr>\n",
       "    <tr>\n",
       "      <th>2014-05-02</th>\n",
       "      <td>434.50</td>\n",
       "      <td>5.863170e+09</td>\n",
       "      <td>4783.0166</td>\n",
       "    </tr>\n",
       "    <tr>\n",
       "      <th>2014-05-03</th>\n",
       "      <td>436.21</td>\n",
       "      <td>5.551994e+09</td>\n",
       "      <td>5028.3105</td>\n",
       "    </tr>\n",
       "    <tr>\n",
       "      <th>2014-05-04</th>\n",
       "      <td>440.00</td>\n",
       "      <td>5.446672e+09</td>\n",
       "      <td>5291.9439</td>\n",
       "    </tr>\n",
       "    <tr>\n",
       "      <th>2014-05-05</th>\n",
       "      <td>430.33</td>\n",
       "      <td>5.560373e+09</td>\n",
       "      <td>6545.8162</td>\n",
       "    </tr>\n",
       "  </tbody>\n",
       "</table>\n",
       "</div>"
      ],
      "text/plain": [
       "code         MKPRU         MKTCP      TRFUS\n",
       "date                                       \n",
       "2014-05-01  452.03  5.692506e+09  5150.6111\n",
       "2014-05-02  434.50  5.863170e+09  4783.0166\n",
       "2014-05-03  436.21  5.551994e+09  5028.3105\n",
       "2014-05-04  440.00  5.446672e+09  5291.9439\n",
       "2014-05-05  430.33  5.560373e+09  6545.8162"
      ]
     },
     "execution_count": 32,
     "metadata": {},
     "output_type": "execute_result"
    }
   ],
   "source": [
    "btc_usd_small = btc_usd_expanded[btc_columns].loc[start_date:]\n",
    "btc_usd_small.head()"
   ]
  },
  {
   "cell_type": "markdown",
   "id": "3b7de784",
   "metadata": {},
   "source": [
    "Here, we have the Bitcoin (BTC) to US dollar (USD) exchange rate from\n",
    "March 2014 until today.\n",
    "\n",
    "Notice that the type of index is `DateTimeIndex`.\n",
    "\n",
    "This is the key that enables things like…\n",
    "\n",
    "Extracting all data for the year 2015 by passing `\"2015\"` to `.loc`."
   ]
  },
  {
   "cell_type": "code",
   "execution_count": 34,
   "id": "e210fed9",
   "metadata": {
    "hide-output": false
   },
   "outputs": [
    {
     "data": {
      "text/html": [
       "<div>\n",
       "<style scoped>\n",
       "    .dataframe tbody tr th:only-of-type {\n",
       "        vertical-align: middle;\n",
       "    }\n",
       "\n",
       "    .dataframe tbody tr th {\n",
       "        vertical-align: top;\n",
       "    }\n",
       "\n",
       "    .dataframe thead th {\n",
       "        text-align: right;\n",
       "    }\n",
       "</style>\n",
       "<table border=\"1\" class=\"dataframe\">\n",
       "  <thead>\n",
       "    <tr style=\"text-align: right;\">\n",
       "      <th>code</th>\n",
       "      <th>MKPRU</th>\n",
       "      <th>MKTCP</th>\n",
       "      <th>TRFUS</th>\n",
       "    </tr>\n",
       "    <tr>\n",
       "      <th>date</th>\n",
       "      <th></th>\n",
       "      <th></th>\n",
       "      <th></th>\n",
       "    </tr>\n",
       "  </thead>\n",
       "  <tbody>\n",
       "    <tr>\n",
       "      <th>2015-01-01</th>\n",
       "      <td>316.15</td>\n",
       "      <td>4.388454e+09</td>\n",
       "      <td>2989.2253</td>\n",
       "    </tr>\n",
       "    <tr>\n",
       "      <th>2015-01-02</th>\n",
       "      <td>314.81</td>\n",
       "      <td>4.136728e+09</td>\n",
       "      <td>3599.5675</td>\n",
       "    </tr>\n",
       "    <tr>\n",
       "      <th>2015-01-03</th>\n",
       "      <td>270.93</td>\n",
       "      <td>3.708212e+09</td>\n",
       "      <td>5496.6568</td>\n",
       "    </tr>\n",
       "    <tr>\n",
       "      <th>2015-01-04</th>\n",
       "      <td>276.80</td>\n",
       "      <td>3.901250e+09</td>\n",
       "      <td>7189.9709</td>\n",
       "    </tr>\n",
       "    <tr>\n",
       "      <th>2015-01-05</th>\n",
       "      <td>263.17</td>\n",
       "      <td>3.790804e+09</td>\n",
       "      <td>3558.7256</td>\n",
       "    </tr>\n",
       "    <tr>\n",
       "      <th>...</th>\n",
       "      <td>...</td>\n",
       "      <td>...</td>\n",
       "      <td>...</td>\n",
       "    </tr>\n",
       "    <tr>\n",
       "      <th>2015-12-27</th>\n",
       "      <td>418.46</td>\n",
       "      <td>6.420190e+09</td>\n",
       "      <td>12210.7322</td>\n",
       "    </tr>\n",
       "    <tr>\n",
       "      <th>2015-12-28</th>\n",
       "      <td>422.42</td>\n",
       "      <td>6.366855e+09</td>\n",
       "      <td>12778.9745</td>\n",
       "    </tr>\n",
       "    <tr>\n",
       "      <th>2015-12-29</th>\n",
       "      <td>431.13</td>\n",
       "      <td>6.475864e+09</td>\n",
       "      <td>13828.1064</td>\n",
       "    </tr>\n",
       "    <tr>\n",
       "      <th>2015-12-30</th>\n",
       "      <td>428.00</td>\n",
       "      <td>6.386794e+09</td>\n",
       "      <td>14091.5909</td>\n",
       "    </tr>\n",
       "    <tr>\n",
       "      <th>2015-12-31</th>\n",
       "      <td>428.23</td>\n",
       "      <td>6.452379e+09</td>\n",
       "      <td>11653.8040</td>\n",
       "    </tr>\n",
       "  </tbody>\n",
       "</table>\n",
       "<p>365 rows × 3 columns</p>\n",
       "</div>"
      ],
      "text/plain": [
       "code         MKPRU         MKTCP       TRFUS\n",
       "date                                        \n",
       "2015-01-01  316.15  4.388454e+09   2989.2253\n",
       "2015-01-02  314.81  4.136728e+09   3599.5675\n",
       "2015-01-03  270.93  3.708212e+09   5496.6568\n",
       "2015-01-04  276.80  3.901250e+09   7189.9709\n",
       "2015-01-05  263.17  3.790804e+09   3558.7256\n",
       "...            ...           ...         ...\n",
       "2015-12-27  418.46  6.420190e+09  12210.7322\n",
       "2015-12-28  422.42  6.366855e+09  12778.9745\n",
       "2015-12-29  431.13  6.475864e+09  13828.1064\n",
       "2015-12-30  428.00  6.386794e+09  14091.5909\n",
       "2015-12-31  428.23  6.452379e+09  11653.8040\n",
       "\n",
       "[365 rows x 3 columns]"
      ]
     },
     "execution_count": 34,
     "metadata": {},
     "output_type": "execute_result"
    }
   ],
   "source": [
    "btc_usd_small.loc[\"2015\"]"
   ]
  },
  {
   "cell_type": "markdown",
   "id": "1b39db9d",
   "metadata": {},
   "source": [
    "We can also narrow down to specific months."
   ]
  },
  {
   "cell_type": "code",
   "execution_count": 36,
   "id": "a60a22a0",
   "metadata": {
    "hide-output": false
   },
   "outputs": [
    {
     "data": {
      "text/html": [
       "<div>\n",
       "<style scoped>\n",
       "    .dataframe tbody tr th:only-of-type {\n",
       "        vertical-align: middle;\n",
       "    }\n",
       "\n",
       "    .dataframe tbody tr th {\n",
       "        vertical-align: top;\n",
       "    }\n",
       "\n",
       "    .dataframe thead th {\n",
       "        text-align: right;\n",
       "    }\n",
       "</style>\n",
       "<table border=\"1\" class=\"dataframe\">\n",
       "  <thead>\n",
       "    <tr style=\"text-align: right;\">\n",
       "      <th>code</th>\n",
       "      <th>MKPRU</th>\n",
       "      <th>MKTCP</th>\n",
       "      <th>TRFUS</th>\n",
       "    </tr>\n",
       "    <tr>\n",
       "      <th>date</th>\n",
       "      <th></th>\n",
       "      <th></th>\n",
       "      <th></th>\n",
       "    </tr>\n",
       "  </thead>\n",
       "  <tbody>\n",
       "    <tr>\n",
       "      <th>2017-08-01</th>\n",
       "      <td>2862.9000</td>\n",
       "      <td>4.550093e+10</td>\n",
       "      <td>2.058467e+05</td>\n",
       "    </tr>\n",
       "    <tr>\n",
       "      <th>2017-08-02</th>\n",
       "      <td>2693.6340</td>\n",
       "      <td>4.440385e+10</td>\n",
       "      <td>3.515593e+05</td>\n",
       "    </tr>\n",
       "    <tr>\n",
       "      <th>2017-08-03</th>\n",
       "      <td>2794.1177</td>\n",
       "      <td>4.606512e+10</td>\n",
       "      <td>3.442851e+05</td>\n",
       "    </tr>\n",
       "    <tr>\n",
       "      <th>2017-08-04</th>\n",
       "      <td>2790.0000</td>\n",
       "      <td>4.631086e+10</td>\n",
       "      <td>3.260994e+05</td>\n",
       "    </tr>\n",
       "    <tr>\n",
       "      <th>2017-08-05</th>\n",
       "      <td>3218.1150</td>\n",
       "      <td>5.306965e+10</td>\n",
       "      <td>3.654710e+05</td>\n",
       "    </tr>\n",
       "    <tr>\n",
       "      <th>2017-08-06</th>\n",
       "      <td>3252.5625</td>\n",
       "      <td>5.364342e+10</td>\n",
       "      <td>2.838679e+05</td>\n",
       "    </tr>\n",
       "    <tr>\n",
       "      <th>2017-08-07</th>\n",
       "      <td>3210.2000</td>\n",
       "      <td>5.319216e+10</td>\n",
       "      <td>4.150905e+05</td>\n",
       "    </tr>\n",
       "    <tr>\n",
       "      <th>2017-08-08</th>\n",
       "      <td>3457.3743</td>\n",
       "      <td>5.703501e+10</td>\n",
       "      <td>5.499407e+05</td>\n",
       "    </tr>\n",
       "    <tr>\n",
       "      <th>2017-08-09</th>\n",
       "      <td>3357.3263</td>\n",
       "      <td>5.526816e+10</td>\n",
       "      <td>5.345708e+05</td>\n",
       "    </tr>\n",
       "    <tr>\n",
       "      <th>2017-08-10</th>\n",
       "      <td>3340.2800</td>\n",
       "      <td>5.650275e+10</td>\n",
       "      <td>6.615470e+05</td>\n",
       "    </tr>\n",
       "    <tr>\n",
       "      <th>2017-08-11</th>\n",
       "      <td>3632.5067</td>\n",
       "      <td>5.994299e+10</td>\n",
       "      <td>8.534382e+05</td>\n",
       "    </tr>\n",
       "    <tr>\n",
       "      <th>2017-08-12</th>\n",
       "      <td>3852.8029</td>\n",
       "      <td>6.358478e+10</td>\n",
       "      <td>7.972908e+05</td>\n",
       "    </tr>\n",
       "    <tr>\n",
       "      <th>2017-08-13</th>\n",
       "      <td>3868.5200</td>\n",
       "      <td>6.693611e+10</td>\n",
       "      <td>7.826620e+05</td>\n",
       "    </tr>\n",
       "    <tr>\n",
       "      <th>2017-08-14</th>\n",
       "      <td>4282.9920</td>\n",
       "      <td>7.069930e+10</td>\n",
       "      <td>1.067271e+06</td>\n",
       "    </tr>\n",
       "    <tr>\n",
       "      <th>2017-08-15</th>\n",
       "      <td>4217.0283</td>\n",
       "      <td>6.961845e+10</td>\n",
       "      <td>1.475002e+06</td>\n",
       "    </tr>\n",
       "    <tr>\n",
       "      <th>2017-08-16</th>\n",
       "      <td>4179.9700</td>\n",
       "      <td>6.764231e+10</td>\n",
       "      <td>1.515514e+06</td>\n",
       "    </tr>\n",
       "    <tr>\n",
       "      <th>2017-08-17</th>\n",
       "      <td>4328.7257</td>\n",
       "      <td>7.147917e+10</td>\n",
       "      <td>1.581354e+06</td>\n",
       "    </tr>\n",
       "    <tr>\n",
       "      <th>2017-08-18</th>\n",
       "      <td>4130.4401</td>\n",
       "      <td>6.821262e+10</td>\n",
       "      <td>1.433878e+06</td>\n",
       "    </tr>\n",
       "    <tr>\n",
       "      <th>2017-08-19</th>\n",
       "      <td>4104.7100</td>\n",
       "      <td>6.812422e+10</td>\n",
       "      <td>1.122856e+06</td>\n",
       "    </tr>\n",
       "    <tr>\n",
       "      <th>2017-08-20</th>\n",
       "      <td>4157.9580</td>\n",
       "      <td>6.868167e+10</td>\n",
       "      <td>8.689384e+05</td>\n",
       "    </tr>\n",
       "    <tr>\n",
       "      <th>2017-08-21</th>\n",
       "      <td>4043.7220</td>\n",
       "      <td>6.680052e+10</td>\n",
       "      <td>1.200405e+06</td>\n",
       "    </tr>\n",
       "    <tr>\n",
       "      <th>2017-08-22</th>\n",
       "      <td>3986.2800</td>\n",
       "      <td>6.755553e+10</td>\n",
       "      <td>1.364203e+06</td>\n",
       "    </tr>\n",
       "    <tr>\n",
       "      <th>2017-08-23</th>\n",
       "      <td>4174.9500</td>\n",
       "      <td>6.898129e+10</td>\n",
       "      <td>2.262700e+06</td>\n",
       "    </tr>\n",
       "    <tr>\n",
       "      <th>2017-08-24</th>\n",
       "      <td>4340.3167</td>\n",
       "      <td>7.171907e+10</td>\n",
       "      <td>1.697961e+06</td>\n",
       "    </tr>\n",
       "    <tr>\n",
       "      <th>2017-08-25</th>\n",
       "      <td>4331.7700</td>\n",
       "      <td>7.210029e+10</td>\n",
       "      <td>1.857858e+06</td>\n",
       "    </tr>\n",
       "    <tr>\n",
       "      <th>2017-08-26</th>\n",
       "      <td>4360.5133</td>\n",
       "      <td>7.067509e+10</td>\n",
       "      <td>1.854584e+06</td>\n",
       "    </tr>\n",
       "    <tr>\n",
       "      <th>2017-08-27</th>\n",
       "      <td>4354.3083</td>\n",
       "      <td>7.196991e+10</td>\n",
       "      <td>1.559972e+06</td>\n",
       "    </tr>\n",
       "    <tr>\n",
       "      <th>2017-08-28</th>\n",
       "      <td>4339.0500</td>\n",
       "      <td>7.259458e+10</td>\n",
       "      <td>1.660836e+06</td>\n",
       "    </tr>\n",
       "    <tr>\n",
       "      <th>2017-08-29</th>\n",
       "      <td>4607.9854</td>\n",
       "      <td>7.593083e+10</td>\n",
       "      <td>2.127784e+06</td>\n",
       "    </tr>\n",
       "    <tr>\n",
       "      <th>2017-08-30</th>\n",
       "      <td>4594.9879</td>\n",
       "      <td>7.597359e+10</td>\n",
       "      <td>1.809519e+06</td>\n",
       "    </tr>\n",
       "    <tr>\n",
       "      <th>2017-08-31</th>\n",
       "      <td>4582.5200</td>\n",
       "      <td>7.851738e+10</td>\n",
       "      <td>1.962050e+06</td>\n",
       "    </tr>\n",
       "  </tbody>\n",
       "</table>\n",
       "</div>"
      ],
      "text/plain": [
       "code            MKPRU         MKTCP         TRFUS\n",
       "date                                             \n",
       "2017-08-01  2862.9000  4.550093e+10  2.058467e+05\n",
       "2017-08-02  2693.6340  4.440385e+10  3.515593e+05\n",
       "2017-08-03  2794.1177  4.606512e+10  3.442851e+05\n",
       "2017-08-04  2790.0000  4.631086e+10  3.260994e+05\n",
       "2017-08-05  3218.1150  5.306965e+10  3.654710e+05\n",
       "2017-08-06  3252.5625  5.364342e+10  2.838679e+05\n",
       "2017-08-07  3210.2000  5.319216e+10  4.150905e+05\n",
       "2017-08-08  3457.3743  5.703501e+10  5.499407e+05\n",
       "2017-08-09  3357.3263  5.526816e+10  5.345708e+05\n",
       "2017-08-10  3340.2800  5.650275e+10  6.615470e+05\n",
       "2017-08-11  3632.5067  5.994299e+10  8.534382e+05\n",
       "2017-08-12  3852.8029  6.358478e+10  7.972908e+05\n",
       "2017-08-13  3868.5200  6.693611e+10  7.826620e+05\n",
       "2017-08-14  4282.9920  7.069930e+10  1.067271e+06\n",
       "2017-08-15  4217.0283  6.961845e+10  1.475002e+06\n",
       "2017-08-16  4179.9700  6.764231e+10  1.515514e+06\n",
       "2017-08-17  4328.7257  7.147917e+10  1.581354e+06\n",
       "2017-08-18  4130.4401  6.821262e+10  1.433878e+06\n",
       "2017-08-19  4104.7100  6.812422e+10  1.122856e+06\n",
       "2017-08-20  4157.9580  6.868167e+10  8.689384e+05\n",
       "2017-08-21  4043.7220  6.680052e+10  1.200405e+06\n",
       "2017-08-22  3986.2800  6.755553e+10  1.364203e+06\n",
       "2017-08-23  4174.9500  6.898129e+10  2.262700e+06\n",
       "2017-08-24  4340.3167  7.171907e+10  1.697961e+06\n",
       "2017-08-25  4331.7700  7.210029e+10  1.857858e+06\n",
       "2017-08-26  4360.5133  7.067509e+10  1.854584e+06\n",
       "2017-08-27  4354.3083  7.196991e+10  1.559972e+06\n",
       "2017-08-28  4339.0500  7.259458e+10  1.660836e+06\n",
       "2017-08-29  4607.9854  7.593083e+10  2.127784e+06\n",
       "2017-08-30  4594.9879  7.597359e+10  1.809519e+06\n",
       "2017-08-31  4582.5200  7.851738e+10  1.962050e+06"
      ]
     },
     "execution_count": 36,
     "metadata": {},
     "output_type": "execute_result"
    }
   ],
   "source": [
    "# By month's name\n",
    "btc_usd_small.loc[\"August 2017\"]"
   ]
  },
  {
   "cell_type": "code",
   "execution_count": 37,
   "id": "54165653",
   "metadata": {
    "hide-output": false
   },
   "outputs": [
    {
     "data": {
      "text/html": [
       "<div>\n",
       "<style scoped>\n",
       "    .dataframe tbody tr th:only-of-type {\n",
       "        vertical-align: middle;\n",
       "    }\n",
       "\n",
       "    .dataframe tbody tr th {\n",
       "        vertical-align: top;\n",
       "    }\n",
       "\n",
       "    .dataframe thead th {\n",
       "        text-align: right;\n",
       "    }\n",
       "</style>\n",
       "<table border=\"1\" class=\"dataframe\">\n",
       "  <thead>\n",
       "    <tr style=\"text-align: right;\">\n",
       "      <th>code</th>\n",
       "      <th>MKPRU</th>\n",
       "      <th>MKTCP</th>\n",
       "      <th>TRFUS</th>\n",
       "    </tr>\n",
       "    <tr>\n",
       "      <th>date</th>\n",
       "      <th></th>\n",
       "      <th></th>\n",
       "      <th></th>\n",
       "    </tr>\n",
       "  </thead>\n",
       "  <tbody>\n",
       "    <tr>\n",
       "      <th>2017-08-01</th>\n",
       "      <td>2862.9000</td>\n",
       "      <td>4.550093e+10</td>\n",
       "      <td>2.058467e+05</td>\n",
       "    </tr>\n",
       "    <tr>\n",
       "      <th>2017-08-02</th>\n",
       "      <td>2693.6340</td>\n",
       "      <td>4.440385e+10</td>\n",
       "      <td>3.515593e+05</td>\n",
       "    </tr>\n",
       "    <tr>\n",
       "      <th>2017-08-03</th>\n",
       "      <td>2794.1177</td>\n",
       "      <td>4.606512e+10</td>\n",
       "      <td>3.442851e+05</td>\n",
       "    </tr>\n",
       "    <tr>\n",
       "      <th>2017-08-04</th>\n",
       "      <td>2790.0000</td>\n",
       "      <td>4.631086e+10</td>\n",
       "      <td>3.260994e+05</td>\n",
       "    </tr>\n",
       "    <tr>\n",
       "      <th>2017-08-05</th>\n",
       "      <td>3218.1150</td>\n",
       "      <td>5.306965e+10</td>\n",
       "      <td>3.654710e+05</td>\n",
       "    </tr>\n",
       "    <tr>\n",
       "      <th>2017-08-06</th>\n",
       "      <td>3252.5625</td>\n",
       "      <td>5.364342e+10</td>\n",
       "      <td>2.838679e+05</td>\n",
       "    </tr>\n",
       "    <tr>\n",
       "      <th>2017-08-07</th>\n",
       "      <td>3210.2000</td>\n",
       "      <td>5.319216e+10</td>\n",
       "      <td>4.150905e+05</td>\n",
       "    </tr>\n",
       "    <tr>\n",
       "      <th>2017-08-08</th>\n",
       "      <td>3457.3743</td>\n",
       "      <td>5.703501e+10</td>\n",
       "      <td>5.499407e+05</td>\n",
       "    </tr>\n",
       "    <tr>\n",
       "      <th>2017-08-09</th>\n",
       "      <td>3357.3263</td>\n",
       "      <td>5.526816e+10</td>\n",
       "      <td>5.345708e+05</td>\n",
       "    </tr>\n",
       "    <tr>\n",
       "      <th>2017-08-10</th>\n",
       "      <td>3340.2800</td>\n",
       "      <td>5.650275e+10</td>\n",
       "      <td>6.615470e+05</td>\n",
       "    </tr>\n",
       "    <tr>\n",
       "      <th>2017-08-11</th>\n",
       "      <td>3632.5067</td>\n",
       "      <td>5.994299e+10</td>\n",
       "      <td>8.534382e+05</td>\n",
       "    </tr>\n",
       "    <tr>\n",
       "      <th>2017-08-12</th>\n",
       "      <td>3852.8029</td>\n",
       "      <td>6.358478e+10</td>\n",
       "      <td>7.972908e+05</td>\n",
       "    </tr>\n",
       "    <tr>\n",
       "      <th>2017-08-13</th>\n",
       "      <td>3868.5200</td>\n",
       "      <td>6.693611e+10</td>\n",
       "      <td>7.826620e+05</td>\n",
       "    </tr>\n",
       "    <tr>\n",
       "      <th>2017-08-14</th>\n",
       "      <td>4282.9920</td>\n",
       "      <td>7.069930e+10</td>\n",
       "      <td>1.067271e+06</td>\n",
       "    </tr>\n",
       "    <tr>\n",
       "      <th>2017-08-15</th>\n",
       "      <td>4217.0283</td>\n",
       "      <td>6.961845e+10</td>\n",
       "      <td>1.475002e+06</td>\n",
       "    </tr>\n",
       "    <tr>\n",
       "      <th>2017-08-16</th>\n",
       "      <td>4179.9700</td>\n",
       "      <td>6.764231e+10</td>\n",
       "      <td>1.515514e+06</td>\n",
       "    </tr>\n",
       "    <tr>\n",
       "      <th>2017-08-17</th>\n",
       "      <td>4328.7257</td>\n",
       "      <td>7.147917e+10</td>\n",
       "      <td>1.581354e+06</td>\n",
       "    </tr>\n",
       "    <tr>\n",
       "      <th>2017-08-18</th>\n",
       "      <td>4130.4401</td>\n",
       "      <td>6.821262e+10</td>\n",
       "      <td>1.433878e+06</td>\n",
       "    </tr>\n",
       "    <tr>\n",
       "      <th>2017-08-19</th>\n",
       "      <td>4104.7100</td>\n",
       "      <td>6.812422e+10</td>\n",
       "      <td>1.122856e+06</td>\n",
       "    </tr>\n",
       "    <tr>\n",
       "      <th>2017-08-20</th>\n",
       "      <td>4157.9580</td>\n",
       "      <td>6.868167e+10</td>\n",
       "      <td>8.689384e+05</td>\n",
       "    </tr>\n",
       "    <tr>\n",
       "      <th>2017-08-21</th>\n",
       "      <td>4043.7220</td>\n",
       "      <td>6.680052e+10</td>\n",
       "      <td>1.200405e+06</td>\n",
       "    </tr>\n",
       "    <tr>\n",
       "      <th>2017-08-22</th>\n",
       "      <td>3986.2800</td>\n",
       "      <td>6.755553e+10</td>\n",
       "      <td>1.364203e+06</td>\n",
       "    </tr>\n",
       "    <tr>\n",
       "      <th>2017-08-23</th>\n",
       "      <td>4174.9500</td>\n",
       "      <td>6.898129e+10</td>\n",
       "      <td>2.262700e+06</td>\n",
       "    </tr>\n",
       "    <tr>\n",
       "      <th>2017-08-24</th>\n",
       "      <td>4340.3167</td>\n",
       "      <td>7.171907e+10</td>\n",
       "      <td>1.697961e+06</td>\n",
       "    </tr>\n",
       "    <tr>\n",
       "      <th>2017-08-25</th>\n",
       "      <td>4331.7700</td>\n",
       "      <td>7.210029e+10</td>\n",
       "      <td>1.857858e+06</td>\n",
       "    </tr>\n",
       "    <tr>\n",
       "      <th>2017-08-26</th>\n",
       "      <td>4360.5133</td>\n",
       "      <td>7.067509e+10</td>\n",
       "      <td>1.854584e+06</td>\n",
       "    </tr>\n",
       "    <tr>\n",
       "      <th>2017-08-27</th>\n",
       "      <td>4354.3083</td>\n",
       "      <td>7.196991e+10</td>\n",
       "      <td>1.559972e+06</td>\n",
       "    </tr>\n",
       "    <tr>\n",
       "      <th>2017-08-28</th>\n",
       "      <td>4339.0500</td>\n",
       "      <td>7.259458e+10</td>\n",
       "      <td>1.660836e+06</td>\n",
       "    </tr>\n",
       "    <tr>\n",
       "      <th>2017-08-29</th>\n",
       "      <td>4607.9854</td>\n",
       "      <td>7.593083e+10</td>\n",
       "      <td>2.127784e+06</td>\n",
       "    </tr>\n",
       "    <tr>\n",
       "      <th>2017-08-30</th>\n",
       "      <td>4594.9879</td>\n",
       "      <td>7.597359e+10</td>\n",
       "      <td>1.809519e+06</td>\n",
       "    </tr>\n",
       "    <tr>\n",
       "      <th>2017-08-31</th>\n",
       "      <td>4582.5200</td>\n",
       "      <td>7.851738e+10</td>\n",
       "      <td>1.962050e+06</td>\n",
       "    </tr>\n",
       "  </tbody>\n",
       "</table>\n",
       "</div>"
      ],
      "text/plain": [
       "code            MKPRU         MKTCP         TRFUS\n",
       "date                                             \n",
       "2017-08-01  2862.9000  4.550093e+10  2.058467e+05\n",
       "2017-08-02  2693.6340  4.440385e+10  3.515593e+05\n",
       "2017-08-03  2794.1177  4.606512e+10  3.442851e+05\n",
       "2017-08-04  2790.0000  4.631086e+10  3.260994e+05\n",
       "2017-08-05  3218.1150  5.306965e+10  3.654710e+05\n",
       "2017-08-06  3252.5625  5.364342e+10  2.838679e+05\n",
       "2017-08-07  3210.2000  5.319216e+10  4.150905e+05\n",
       "2017-08-08  3457.3743  5.703501e+10  5.499407e+05\n",
       "2017-08-09  3357.3263  5.526816e+10  5.345708e+05\n",
       "2017-08-10  3340.2800  5.650275e+10  6.615470e+05\n",
       "2017-08-11  3632.5067  5.994299e+10  8.534382e+05\n",
       "2017-08-12  3852.8029  6.358478e+10  7.972908e+05\n",
       "2017-08-13  3868.5200  6.693611e+10  7.826620e+05\n",
       "2017-08-14  4282.9920  7.069930e+10  1.067271e+06\n",
       "2017-08-15  4217.0283  6.961845e+10  1.475002e+06\n",
       "2017-08-16  4179.9700  6.764231e+10  1.515514e+06\n",
       "2017-08-17  4328.7257  7.147917e+10  1.581354e+06\n",
       "2017-08-18  4130.4401  6.821262e+10  1.433878e+06\n",
       "2017-08-19  4104.7100  6.812422e+10  1.122856e+06\n",
       "2017-08-20  4157.9580  6.868167e+10  8.689384e+05\n",
       "2017-08-21  4043.7220  6.680052e+10  1.200405e+06\n",
       "2017-08-22  3986.2800  6.755553e+10  1.364203e+06\n",
       "2017-08-23  4174.9500  6.898129e+10  2.262700e+06\n",
       "2017-08-24  4340.3167  7.171907e+10  1.697961e+06\n",
       "2017-08-25  4331.7700  7.210029e+10  1.857858e+06\n",
       "2017-08-26  4360.5133  7.067509e+10  1.854584e+06\n",
       "2017-08-27  4354.3083  7.196991e+10  1.559972e+06\n",
       "2017-08-28  4339.0500  7.259458e+10  1.660836e+06\n",
       "2017-08-29  4607.9854  7.593083e+10  2.127784e+06\n",
       "2017-08-30  4594.9879  7.597359e+10  1.809519e+06\n",
       "2017-08-31  4582.5200  7.851738e+10  1.962050e+06"
      ]
     },
     "execution_count": 37,
     "metadata": {},
     "output_type": "execute_result"
    }
   ],
   "source": [
    "# By month's number\n",
    "btc_usd_small.loc[\"08/2017\"]"
   ]
  },
  {
   "cell_type": "markdown",
   "id": "c39b7a54",
   "metadata": {},
   "source": [
    "Or even a day…"
   ]
  },
  {
   "cell_type": "code",
   "execution_count": 38,
   "id": "9c8b3b90",
   "metadata": {
    "hide-output": false
   },
   "outputs": [
    {
     "data": {
      "text/plain": [
       "code\n",
       "MKPRU    2.862900e+03\n",
       "MKTCP    4.550093e+10\n",
       "TRFUS    2.058467e+05\n",
       "Name: 2017-08-01 00:00:00, dtype: float64"
      ]
     },
     "execution_count": 38,
     "metadata": {},
     "output_type": "execute_result"
    }
   ],
   "source": [
    "# By date name\n",
    "btc_usd_small.loc[\"August 1, 2017\"]"
   ]
  },
  {
   "cell_type": "code",
   "execution_count": 39,
   "id": "1e5df1d1",
   "metadata": {
    "hide-output": false
   },
   "outputs": [
    {
     "data": {
      "text/plain": [
       "code\n",
       "MKPRU    2.862900e+03\n",
       "MKTCP    4.550093e+10\n",
       "TRFUS    2.058467e+05\n",
       "Name: 2017-08-01 00:00:00, dtype: float64"
      ]
     },
     "execution_count": 39,
     "metadata": {},
     "output_type": "execute_result"
    }
   ],
   "source": [
    "# By date number\n",
    "btc_usd_small.loc[\"08-01-2017\"]"
   ]
  },
  {
   "cell_type": "markdown",
   "id": "8aeff0e2",
   "metadata": {},
   "source": [
    "What can we pass as the `.loc` argument when we have a\n",
    "`DateTimeIndex`?\n",
    "\n",
    "Anything that can be converted to a `datetime` using\n",
    "`pd.to_datetime`, *without* having to specify the format argument.\n",
    "\n",
    "When that condition holds, pandas will return *all* rows whose date in\n",
    "the index “belong” to that date or period.\n",
    "\n",
    "We can also use the range shorthand notation to give a start and end\n",
    "date for selection."
   ]
  },
  {
   "cell_type": "code",
   "execution_count": 41,
   "id": "b892ea69",
   "metadata": {
    "hide-output": false
   },
   "outputs": [
    {
     "data": {
      "text/html": [
       "<div>\n",
       "<style scoped>\n",
       "    .dataframe tbody tr th:only-of-type {\n",
       "        vertical-align: middle;\n",
       "    }\n",
       "\n",
       "    .dataframe tbody tr th {\n",
       "        vertical-align: top;\n",
       "    }\n",
       "\n",
       "    .dataframe thead th {\n",
       "        text-align: right;\n",
       "    }\n",
       "</style>\n",
       "<table border=\"1\" class=\"dataframe\">\n",
       "  <thead>\n",
       "    <tr style=\"text-align: right;\">\n",
       "      <th>code</th>\n",
       "      <th>MKPRU</th>\n",
       "      <th>MKTCP</th>\n",
       "      <th>TRFUS</th>\n",
       "    </tr>\n",
       "    <tr>\n",
       "      <th>date</th>\n",
       "      <th></th>\n",
       "      <th></th>\n",
       "      <th></th>\n",
       "    </tr>\n",
       "  </thead>\n",
       "  <tbody>\n",
       "    <tr>\n",
       "      <th>2015-04-01</th>\n",
       "      <td>252.44</td>\n",
       "      <td>3.536773e+09</td>\n",
       "      <td>4566.2766</td>\n",
       "    </tr>\n",
       "    <tr>\n",
       "      <th>2015-04-02</th>\n",
       "      <td>246.49</td>\n",
       "      <td>3.565053e+09</td>\n",
       "      <td>3719.3091</td>\n",
       "    </tr>\n",
       "    <tr>\n",
       "      <th>2015-04-03</th>\n",
       "      <td>253.77</td>\n",
       "      <td>3.549561e+09</td>\n",
       "      <td>3821.9087</td>\n",
       "    </tr>\n",
       "    <tr>\n",
       "      <th>2015-04-04</th>\n",
       "      <td>257.03</td>\n",
       "      <td>3.604010e+09</td>\n",
       "      <td>4023.1290</td>\n",
       "    </tr>\n",
       "    <tr>\n",
       "      <th>2015-04-05</th>\n",
       "      <td>253.67</td>\n",
       "      <td>3.572161e+09</td>\n",
       "      <td>3900.1233</td>\n",
       "    </tr>\n",
       "    <tr>\n",
       "      <th>2015-04-06</th>\n",
       "      <td>255.48</td>\n",
       "      <td>3.584116e+09</td>\n",
       "      <td>4134.9535</td>\n",
       "    </tr>\n",
       "    <tr>\n",
       "      <th>2015-04-07</th>\n",
       "      <td>245.89</td>\n",
       "      <td>3.579212e+09</td>\n",
       "      <td>4691.7547</td>\n",
       "    </tr>\n",
       "    <tr>\n",
       "      <th>2015-04-08</th>\n",
       "      <td>253.90</td>\n",
       "      <td>3.438417e+09</td>\n",
       "      <td>4160.5634</td>\n",
       "    </tr>\n",
       "    <tr>\n",
       "      <th>2015-04-09</th>\n",
       "      <td>235.71</td>\n",
       "      <td>3.309144e+09</td>\n",
       "      <td>7025.8649</td>\n",
       "    </tr>\n",
       "    <tr>\n",
       "      <th>2015-04-10</th>\n",
       "      <td>236.70</td>\n",
       "      <td>3.411246e+09</td>\n",
       "      <td>7251.6365</td>\n",
       "    </tr>\n",
       "  </tbody>\n",
       "</table>\n",
       "</div>"
      ],
      "text/plain": [
       "code         MKPRU         MKTCP      TRFUS\n",
       "date                                       \n",
       "2015-04-01  252.44  3.536773e+09  4566.2766\n",
       "2015-04-02  246.49  3.565053e+09  3719.3091\n",
       "2015-04-03  253.77  3.549561e+09  3821.9087\n",
       "2015-04-04  257.03  3.604010e+09  4023.1290\n",
       "2015-04-05  253.67  3.572161e+09  3900.1233\n",
       "2015-04-06  255.48  3.584116e+09  4134.9535\n",
       "2015-04-07  245.89  3.579212e+09  4691.7547\n",
       "2015-04-08  253.90  3.438417e+09  4160.5634\n",
       "2015-04-09  235.71  3.309144e+09  7025.8649\n",
       "2015-04-10  236.70  3.411246e+09  7251.6365"
      ]
     },
     "execution_count": 41,
     "metadata": {},
     "output_type": "execute_result"
    }
   ],
   "source": [
    "btc_usd_small.loc[\"April 1, 2015\":\"April 10, 2015\"]"
   ]
  },
  {
   "cell_type": "markdown",
   "id": "4e9a0d19",
   "metadata": {},
   "source": [
    "## Exercise\n",
    "\n",
    "See exercise 3 in the [exercise list](#pd-tim-ex)."
   ]
  },
  {
   "cell_type": "markdown",
   "id": "c88ae902",
   "metadata": {},
   "source": [
    "## Accessing Date Properties\n",
    "\n",
    "Sometimes, we would like to directly access a part of the date/time.\n",
    "\n",
    "If our date/time information is in the index, we can to `df.index.XX`\n",
    "where `XX` is replaced by `year`, `month`, or whatever we would\n",
    "like to access."
   ]
  },
  {
   "cell_type": "code",
   "execution_count": 45,
   "id": "40e36bc5",
   "metadata": {
    "hide-output": false
   },
   "outputs": [
    {
     "data": {
      "text/plain": [
       "Index([2014, 2014, 2014, 2014, 2014, 2014, 2014, 2014, 2014, 2014,\n",
       "       ...\n",
       "       2024, 2024, 2024, 2024, 2024, 2024, 2024, 2024, 2024, 2024],\n",
       "      dtype='int32', name='date', length=3837)"
      ]
     },
     "execution_count": 45,
     "metadata": {},
     "output_type": "execute_result"
    }
   ],
   "source": [
    "btc_usd_small.index.year"
   ]
  },
  {
   "cell_type": "code",
   "execution_count": 47,
   "id": "e05c5b33",
   "metadata": {
    "hide-output": false
   },
   "outputs": [
    {
     "data": {
      "text/plain": [
       "Index([ 1,  2,  3,  4,  5,  6,  7,  8,  9, 10,\n",
       "       ...\n",
       "       22, 23, 24, 25, 26, 27, 28, 29, 30, 31],\n",
       "      dtype='int32', name='date', length=3837)"
      ]
     },
     "execution_count": 47,
     "metadata": {},
     "output_type": "execute_result"
    }
   ],
   "source": [
    "btc_usd_small.index.day"
   ]
  },
  {
   "cell_type": "markdown",
   "id": "c847da9d",
   "metadata": {},
   "source": [
    "We can also do the same if the date/time information is stored in a\n",
    "column, but we have to use a slightly different syntax."
   ]
  },
  {
   "cell_type": "code",
   "execution_count": null,
   "id": "d1cb4646",
   "metadata": {
    "hide-output": false
   },
   "outputs": [],
   "source": [
    "df[\"column_name\"].dt.XX"
   ]
  },
  {
   "cell_type": "code",
   "execution_count": 48,
   "id": "d9d301df",
   "metadata": {
    "hide-output": false
   },
   "outputs": [
    {
     "data": {
      "text/html": [
       "<div>\n",
       "<style scoped>\n",
       "    .dataframe tbody tr th:only-of-type {\n",
       "        vertical-align: middle;\n",
       "    }\n",
       "\n",
       "    .dataframe tbody tr th {\n",
       "        vertical-align: top;\n",
       "    }\n",
       "\n",
       "    .dataframe thead th {\n",
       "        text-align: right;\n",
       "    }\n",
       "</style>\n",
       "<table border=\"1\" class=\"dataframe\">\n",
       "  <thead>\n",
       "    <tr style=\"text-align: right;\">\n",
       "      <th>code</th>\n",
       "      <th>date</th>\n",
       "      <th>MKPRU</th>\n",
       "      <th>MKTCP</th>\n",
       "      <th>TRFUS</th>\n",
       "    </tr>\n",
       "  </thead>\n",
       "  <tbody>\n",
       "    <tr>\n",
       "      <th>0</th>\n",
       "      <td>2014-05-01</td>\n",
       "      <td>452.03</td>\n",
       "      <td>5.692506e+09</td>\n",
       "      <td>5150.6111</td>\n",
       "    </tr>\n",
       "    <tr>\n",
       "      <th>1</th>\n",
       "      <td>2014-05-02</td>\n",
       "      <td>434.50</td>\n",
       "      <td>5.863170e+09</td>\n",
       "      <td>4783.0166</td>\n",
       "    </tr>\n",
       "    <tr>\n",
       "      <th>2</th>\n",
       "      <td>2014-05-03</td>\n",
       "      <td>436.21</td>\n",
       "      <td>5.551994e+09</td>\n",
       "      <td>5028.3105</td>\n",
       "    </tr>\n",
       "    <tr>\n",
       "      <th>3</th>\n",
       "      <td>2014-05-04</td>\n",
       "      <td>440.00</td>\n",
       "      <td>5.446672e+09</td>\n",
       "      <td>5291.9439</td>\n",
       "    </tr>\n",
       "    <tr>\n",
       "      <th>4</th>\n",
       "      <td>2014-05-05</td>\n",
       "      <td>430.33</td>\n",
       "      <td>5.560373e+09</td>\n",
       "      <td>6545.8162</td>\n",
       "    </tr>\n",
       "  </tbody>\n",
       "</table>\n",
       "</div>"
      ],
      "text/plain": [
       "code       date   MKPRU         MKTCP      TRFUS\n",
       "0    2014-05-01  452.03  5.692506e+09  5150.6111\n",
       "1    2014-05-02  434.50  5.863170e+09  4783.0166\n",
       "2    2014-05-03  436.21  5.551994e+09  5028.3105\n",
       "3    2014-05-04  440.00  5.446672e+09  5291.9439\n",
       "4    2014-05-05  430.33  5.560373e+09  6545.8162"
      ]
     },
     "execution_count": 48,
     "metadata": {},
     "output_type": "execute_result"
    }
   ],
   "source": [
    "btc_date_column = btc_usd_small.reset_index()\n",
    "btc_date_column.head()"
   ]
  },
  {
   "cell_type": "code",
   "execution_count": 50,
   "id": "a8ec50c0",
   "metadata": {
    "hide-output": false
   },
   "outputs": [
    {
     "data": {
      "text/plain": [
       "0    2014\n",
       "1    2014\n",
       "2    2014\n",
       "3    2014\n",
       "4    2014\n",
       "Name: date, dtype: int32"
      ]
     },
     "execution_count": 50,
     "metadata": {},
     "output_type": "execute_result"
    }
   ],
   "source": [
    "btc_date_column[\"date\"].dt.year.head()"
   ]
  },
  {
   "cell_type": "code",
   "execution_count": 51,
   "id": "3e1961e4",
   "metadata": {
    "hide-output": false
   },
   "outputs": [
    {
     "data": {
      "text/plain": [
       "0    5\n",
       "1    5\n",
       "2    5\n",
       "3    5\n",
       "4    5\n",
       "Name: date, dtype: int32"
      ]
     },
     "execution_count": 51,
     "metadata": {},
     "output_type": "execute_result"
    }
   ],
   "source": [
    "btc_date_column[\"date\"].dt.month.head()"
   ]
  },
  {
   "cell_type": "code",
   "execution_count": 54,
   "id": "5b8f9e24-3e8a-4b8b-8073-d63323be0c3d",
   "metadata": {},
   "outputs": [],
   "source": [
    "btc_usd = btc_usd_small.copy()"
   ]
  },
  {
   "cell_type": "markdown",
   "id": "7a7a8609",
   "metadata": {},
   "source": [
    "## Leads and Lags: `df.shift`\n",
    "\n",
    "When doing time series analysis, we often want to compare data at one\n",
    "date against data at another date.\n",
    "\n",
    "pandas can help us with this if we leverage the `shift` method.\n",
    "\n",
    "Without any additional arguments, `shift()` will move all data\n",
    "*forward* one period, filling the first row with missing data."
   ]
  },
  {
   "cell_type": "code",
   "execution_count": 55,
   "id": "ce798a8e",
   "metadata": {
    "hide-output": false
   },
   "outputs": [
    {
     "data": {
      "text/html": [
       "<div>\n",
       "<style scoped>\n",
       "    .dataframe tbody tr th:only-of-type {\n",
       "        vertical-align: middle;\n",
       "    }\n",
       "\n",
       "    .dataframe tbody tr th {\n",
       "        vertical-align: top;\n",
       "    }\n",
       "\n",
       "    .dataframe thead th {\n",
       "        text-align: right;\n",
       "    }\n",
       "</style>\n",
       "<table border=\"1\" class=\"dataframe\">\n",
       "  <thead>\n",
       "    <tr style=\"text-align: right;\">\n",
       "      <th>code</th>\n",
       "      <th>MKPRU</th>\n",
       "      <th>MKTCP</th>\n",
       "      <th>TRFUS</th>\n",
       "    </tr>\n",
       "    <tr>\n",
       "      <th>date</th>\n",
       "      <th></th>\n",
       "      <th></th>\n",
       "      <th></th>\n",
       "    </tr>\n",
       "  </thead>\n",
       "  <tbody>\n",
       "    <tr>\n",
       "      <th>2014-05-01</th>\n",
       "      <td>452.03</td>\n",
       "      <td>5.692506e+09</td>\n",
       "      <td>5150.6111</td>\n",
       "    </tr>\n",
       "    <tr>\n",
       "      <th>2014-05-02</th>\n",
       "      <td>434.50</td>\n",
       "      <td>5.863170e+09</td>\n",
       "      <td>4783.0166</td>\n",
       "    </tr>\n",
       "    <tr>\n",
       "      <th>2014-05-03</th>\n",
       "      <td>436.21</td>\n",
       "      <td>5.551994e+09</td>\n",
       "      <td>5028.3105</td>\n",
       "    </tr>\n",
       "    <tr>\n",
       "      <th>2014-05-04</th>\n",
       "      <td>440.00</td>\n",
       "      <td>5.446672e+09</td>\n",
       "      <td>5291.9439</td>\n",
       "    </tr>\n",
       "    <tr>\n",
       "      <th>2014-05-05</th>\n",
       "      <td>430.33</td>\n",
       "      <td>5.560373e+09</td>\n",
       "      <td>6545.8162</td>\n",
       "    </tr>\n",
       "  </tbody>\n",
       "</table>\n",
       "</div>"
      ],
      "text/plain": [
       "code         MKPRU         MKTCP      TRFUS\n",
       "date                                       \n",
       "2014-05-01  452.03  5.692506e+09  5150.6111\n",
       "2014-05-02  434.50  5.863170e+09  4783.0166\n",
       "2014-05-03  436.21  5.551994e+09  5028.3105\n",
       "2014-05-04  440.00  5.446672e+09  5291.9439\n",
       "2014-05-05  430.33  5.560373e+09  6545.8162"
      ]
     },
     "execution_count": 55,
     "metadata": {},
     "output_type": "execute_result"
    }
   ],
   "source": [
    "# so we can see the result of shift clearly\n",
    "btc_usd_small.head()"
   ]
  },
  {
   "cell_type": "code",
   "execution_count": 56,
   "id": "20481006",
   "metadata": {
    "hide-output": false
   },
   "outputs": [
    {
     "data": {
      "text/html": [
       "<div>\n",
       "<style scoped>\n",
       "    .dataframe tbody tr th:only-of-type {\n",
       "        vertical-align: middle;\n",
       "    }\n",
       "\n",
       "    .dataframe tbody tr th {\n",
       "        vertical-align: top;\n",
       "    }\n",
       "\n",
       "    .dataframe thead th {\n",
       "        text-align: right;\n",
       "    }\n",
       "</style>\n",
       "<table border=\"1\" class=\"dataframe\">\n",
       "  <thead>\n",
       "    <tr style=\"text-align: right;\">\n",
       "      <th>code</th>\n",
       "      <th>MKPRU</th>\n",
       "      <th>MKTCP</th>\n",
       "      <th>TRFUS</th>\n",
       "    </tr>\n",
       "    <tr>\n",
       "      <th>date</th>\n",
       "      <th></th>\n",
       "      <th></th>\n",
       "      <th></th>\n",
       "    </tr>\n",
       "  </thead>\n",
       "  <tbody>\n",
       "    <tr>\n",
       "      <th>2014-05-01</th>\n",
       "      <td>NaN</td>\n",
       "      <td>NaN</td>\n",
       "      <td>NaN</td>\n",
       "    </tr>\n",
       "    <tr>\n",
       "      <th>2014-05-02</th>\n",
       "      <td>452.03</td>\n",
       "      <td>5.692506e+09</td>\n",
       "      <td>5150.6111</td>\n",
       "    </tr>\n",
       "    <tr>\n",
       "      <th>2014-05-03</th>\n",
       "      <td>434.50</td>\n",
       "      <td>5.863170e+09</td>\n",
       "      <td>4783.0166</td>\n",
       "    </tr>\n",
       "    <tr>\n",
       "      <th>2014-05-04</th>\n",
       "      <td>436.21</td>\n",
       "      <td>5.551994e+09</td>\n",
       "      <td>5028.3105</td>\n",
       "    </tr>\n",
       "    <tr>\n",
       "      <th>2014-05-05</th>\n",
       "      <td>440.00</td>\n",
       "      <td>5.446672e+09</td>\n",
       "      <td>5291.9439</td>\n",
       "    </tr>\n",
       "  </tbody>\n",
       "</table>\n",
       "</div>"
      ],
      "text/plain": [
       "code         MKPRU         MKTCP      TRFUS\n",
       "date                                       \n",
       "2014-05-01     NaN           NaN        NaN\n",
       "2014-05-02  452.03  5.692506e+09  5150.6111\n",
       "2014-05-03  434.50  5.863170e+09  4783.0166\n",
       "2014-05-04  436.21  5.551994e+09  5028.3105\n",
       "2014-05-05  440.00  5.446672e+09  5291.9439"
      ]
     },
     "execution_count": 56,
     "metadata": {},
     "output_type": "execute_result"
    }
   ],
   "source": [
    "btc_usd.shift().head()"
   ]
  },
  {
   "cell_type": "markdown",
   "id": "c167591f",
   "metadata": {},
   "source": [
    "We can use this to compute the percent change from one day to the next.\n",
    "(Quiz: Why does that work? Remember how pandas uses the index to *align*\n",
    "data.)"
   ]
  },
  {
   "cell_type": "code",
   "execution_count": 62,
   "id": "1a4641fb",
   "metadata": {
    "hide-output": false
   },
   "outputs": [
    {
     "data": {
      "text/html": [
       "<div>\n",
       "<style scoped>\n",
       "    .dataframe tbody tr th:only-of-type {\n",
       "        vertical-align: middle;\n",
       "    }\n",
       "\n",
       "    .dataframe tbody tr th {\n",
       "        vertical-align: top;\n",
       "    }\n",
       "\n",
       "    .dataframe thead th {\n",
       "        text-align: right;\n",
       "    }\n",
       "</style>\n",
       "<table border=\"1\" class=\"dataframe\">\n",
       "  <thead>\n",
       "    <tr style=\"text-align: right;\">\n",
       "      <th>code</th>\n",
       "      <th>MKPRU</th>\n",
       "      <th>MKTCP</th>\n",
       "      <th>TRFUS</th>\n",
       "    </tr>\n",
       "  </thead>\n",
       "  <tbody>\n",
       "    <tr>\n",
       "      <th>idxmax</th>\n",
       "      <td>2015-01-14 00:00:00</td>\n",
       "      <td>2017-07-20 00:00:00</td>\n",
       "      <td>2024-08-22 00:00:00</td>\n",
       "    </tr>\n",
       "    <tr>\n",
       "      <th>max</th>\n",
       "      <td>0.25779</td>\n",
       "      <td>0.214926</td>\n",
       "      <td>11.00211</td>\n",
       "    </tr>\n",
       "  </tbody>\n",
       "</table>\n",
       "</div>"
      ],
      "text/plain": [
       "code                  MKPRU                MKTCP                TRFUS\n",
       "idxmax  2015-01-14 00:00:00  2017-07-20 00:00:00  2024-08-22 00:00:00\n",
       "max                 0.25779             0.214926             11.00211"
      ]
     },
     "execution_count": 62,
     "metadata": {},
     "output_type": "execute_result"
    }
   ],
   "source": [
    "btc_pct_changes = ((btc_usd - btc_usd.shift()) / btc_usd.shift())\n",
    "btc_pct_changes.agg(['idxmax', 'max'])\n",
    "#btc_usd.loc['01/14/2015']"
   ]
  },
  {
   "cell_type": "markdown",
   "id": "b2cdd819",
   "metadata": {},
   "source": [
    "Setting the first argument to `n` tells pandas to shift the data down\n",
    "`n` rows (apply an `n` period lag)."
   ]
  },
  {
   "cell_type": "code",
   "execution_count": 63,
   "id": "23f9fe4e",
   "metadata": {
    "hide-output": false
   },
   "outputs": [
    {
     "data": {
      "text/html": [
       "<div>\n",
       "<style scoped>\n",
       "    .dataframe tbody tr th:only-of-type {\n",
       "        vertical-align: middle;\n",
       "    }\n",
       "\n",
       "    .dataframe tbody tr th {\n",
       "        vertical-align: top;\n",
       "    }\n",
       "\n",
       "    .dataframe thead th {\n",
       "        text-align: right;\n",
       "    }\n",
       "</style>\n",
       "<table border=\"1\" class=\"dataframe\">\n",
       "  <thead>\n",
       "    <tr style=\"text-align: right;\">\n",
       "      <th>code</th>\n",
       "      <th>MKPRU</th>\n",
       "      <th>MKTCP</th>\n",
       "      <th>TRFUS</th>\n",
       "    </tr>\n",
       "    <tr>\n",
       "      <th>date</th>\n",
       "      <th></th>\n",
       "      <th></th>\n",
       "      <th></th>\n",
       "    </tr>\n",
       "  </thead>\n",
       "  <tbody>\n",
       "    <tr>\n",
       "      <th>2014-05-01</th>\n",
       "      <td>NaN</td>\n",
       "      <td>NaN</td>\n",
       "      <td>NaN</td>\n",
       "    </tr>\n",
       "    <tr>\n",
       "      <th>2014-05-02</th>\n",
       "      <td>NaN</td>\n",
       "      <td>NaN</td>\n",
       "      <td>NaN</td>\n",
       "    </tr>\n",
       "    <tr>\n",
       "      <th>2014-05-03</th>\n",
       "      <td>NaN</td>\n",
       "      <td>NaN</td>\n",
       "      <td>NaN</td>\n",
       "    </tr>\n",
       "    <tr>\n",
       "      <th>2014-05-04</th>\n",
       "      <td>452.03</td>\n",
       "      <td>5.692506e+09</td>\n",
       "      <td>5150.6111</td>\n",
       "    </tr>\n",
       "    <tr>\n",
       "      <th>2014-05-05</th>\n",
       "      <td>434.50</td>\n",
       "      <td>5.863170e+09</td>\n",
       "      <td>4783.0166</td>\n",
       "    </tr>\n",
       "  </tbody>\n",
       "</table>\n",
       "</div>"
      ],
      "text/plain": [
       "code         MKPRU         MKTCP      TRFUS\n",
       "date                                       \n",
       "2014-05-01     NaN           NaN        NaN\n",
       "2014-05-02     NaN           NaN        NaN\n",
       "2014-05-03     NaN           NaN        NaN\n",
       "2014-05-04  452.03  5.692506e+09  5150.6111\n",
       "2014-05-05  434.50  5.863170e+09  4783.0166"
      ]
     },
     "execution_count": 63,
     "metadata": {},
     "output_type": "execute_result"
    }
   ],
   "source": [
    "btc_usd.shift(3).head()"
   ]
  },
  {
   "cell_type": "markdown",
   "id": "5949eb89",
   "metadata": {},
   "source": [
    "A negative value will shift the data *up* or apply a lead."
   ]
  },
  {
   "cell_type": "code",
   "execution_count": null,
   "id": "a4da9b5f",
   "metadata": {
    "hide-output": false
   },
   "outputs": [],
   "source": [
    "btc_usd.shift(-2).head()"
   ]
  },
  {
   "cell_type": "code",
   "execution_count": 64,
   "id": "e6f5b064-5cfd-4719-97e6-a1cf784c2bcf",
   "metadata": {},
   "outputs": [
    {
     "data": {
      "text/html": [
       "<div>\n",
       "<style scoped>\n",
       "    .dataframe tbody tr th:only-of-type {\n",
       "        vertical-align: middle;\n",
       "    }\n",
       "\n",
       "    .dataframe tbody tr th {\n",
       "        vertical-align: top;\n",
       "    }\n",
       "\n",
       "    .dataframe thead th {\n",
       "        text-align: right;\n",
       "    }\n",
       "</style>\n",
       "<table border=\"1\" class=\"dataframe\">\n",
       "  <thead>\n",
       "    <tr style=\"text-align: right;\">\n",
       "      <th>code</th>\n",
       "      <th>MKPRU</th>\n",
       "      <th>MKTCP</th>\n",
       "      <th>TRFUS</th>\n",
       "    </tr>\n",
       "    <tr>\n",
       "      <th>date</th>\n",
       "      <th></th>\n",
       "      <th></th>\n",
       "      <th></th>\n",
       "    </tr>\n",
       "  </thead>\n",
       "  <tbody>\n",
       "    <tr>\n",
       "      <th>2014-05-01</th>\n",
       "      <td>-0.038781</td>\n",
       "      <td>0.029980</td>\n",
       "      <td>-0.071369</td>\n",
       "    </tr>\n",
       "    <tr>\n",
       "      <th>2014-05-02</th>\n",
       "      <td>0.003936</td>\n",
       "      <td>-0.053073</td>\n",
       "      <td>0.051284</td>\n",
       "    </tr>\n",
       "    <tr>\n",
       "      <th>2014-05-03</th>\n",
       "      <td>0.008688</td>\n",
       "      <td>-0.018970</td>\n",
       "      <td>0.052430</td>\n",
       "    </tr>\n",
       "    <tr>\n",
       "      <th>2014-05-04</th>\n",
       "      <td>-0.021977</td>\n",
       "      <td>0.020875</td>\n",
       "      <td>0.236940</td>\n",
       "    </tr>\n",
       "    <tr>\n",
       "      <th>2014-05-05</th>\n",
       "      <td>0.037924</td>\n",
       "      <td>0.023342</td>\n",
       "      <td>0.140796</td>\n",
       "    </tr>\n",
       "    <tr>\n",
       "      <th>...</th>\n",
       "      <td>...</td>\n",
       "      <td>...</td>\n",
       "      <td>...</td>\n",
       "    </tr>\n",
       "    <tr>\n",
       "      <th>2024-10-27</th>\n",
       "      <td>0.013728</td>\n",
       "      <td>0.021921</td>\n",
       "      <td>-0.078256</td>\n",
       "    </tr>\n",
       "    <tr>\n",
       "      <th>2024-10-28</th>\n",
       "      <td>0.029065</td>\n",
       "      <td>0.052958</td>\n",
       "      <td>0.584466</td>\n",
       "    </tr>\n",
       "    <tr>\n",
       "      <th>2024-10-29</th>\n",
       "      <td>0.039947</td>\n",
       "      <td>-0.012547</td>\n",
       "      <td>-0.180133</td>\n",
       "    </tr>\n",
       "    <tr>\n",
       "      <th>2024-10-30</th>\n",
       "      <td>-0.005177</td>\n",
       "      <td>NaN</td>\n",
       "      <td>NaN</td>\n",
       "    </tr>\n",
       "    <tr>\n",
       "      <th>2024-10-31</th>\n",
       "      <td>NaN</td>\n",
       "      <td>NaN</td>\n",
       "      <td>NaN</td>\n",
       "    </tr>\n",
       "  </tbody>\n",
       "</table>\n",
       "<p>3837 rows × 3 columns</p>\n",
       "</div>"
      ],
      "text/plain": [
       "code           MKPRU     MKTCP     TRFUS\n",
       "date                                    \n",
       "2014-05-01 -0.038781  0.029980 -0.071369\n",
       "2014-05-02  0.003936 -0.053073  0.051284\n",
       "2014-05-03  0.008688 -0.018970  0.052430\n",
       "2014-05-04 -0.021977  0.020875  0.236940\n",
       "2014-05-05  0.037924  0.023342  0.140796\n",
       "...              ...       ...       ...\n",
       "2024-10-27  0.013728  0.021921 -0.078256\n",
       "2024-10-28  0.029065  0.052958  0.584466\n",
       "2024-10-29  0.039947 -0.012547 -0.180133\n",
       "2024-10-30 -0.005177       NaN       NaN\n",
       "2024-10-31       NaN       NaN       NaN\n",
       "\n",
       "[3837 rows x 3 columns]"
      ]
     },
     "execution_count": 64,
     "metadata": {},
     "output_type": "execute_result"
    }
   ],
   "source": [
    "(btc_usd.shift(-1) - btc_usd) / btc_usd"
   ]
  },
  {
   "cell_type": "code",
   "execution_count": 65,
   "id": "b48ac5b6",
   "metadata": {
    "hide-output": false
   },
   "outputs": [
    {
     "data": {
      "text/html": [
       "<div>\n",
       "<style scoped>\n",
       "    .dataframe tbody tr th:only-of-type {\n",
       "        vertical-align: middle;\n",
       "    }\n",
       "\n",
       "    .dataframe tbody tr th {\n",
       "        vertical-align: top;\n",
       "    }\n",
       "\n",
       "    .dataframe thead th {\n",
       "        text-align: right;\n",
       "    }\n",
       "</style>\n",
       "<table border=\"1\" class=\"dataframe\">\n",
       "  <thead>\n",
       "    <tr style=\"text-align: right;\">\n",
       "      <th>code</th>\n",
       "      <th>MKPRU</th>\n",
       "      <th>MKTCP</th>\n",
       "      <th>TRFUS</th>\n",
       "    </tr>\n",
       "    <tr>\n",
       "      <th>date</th>\n",
       "      <th></th>\n",
       "      <th></th>\n",
       "      <th></th>\n",
       "    </tr>\n",
       "  </thead>\n",
       "  <tbody>\n",
       "    <tr>\n",
       "      <th>2024-10-27</th>\n",
       "      <td>69913.46</td>\n",
       "      <td>1.442064e+12</td>\n",
       "      <td>827069.2092</td>\n",
       "    </tr>\n",
       "    <tr>\n",
       "      <th>2024-10-28</th>\n",
       "      <td>72706.28</td>\n",
       "      <td>1.423970e+12</td>\n",
       "      <td>678086.7851</td>\n",
       "    </tr>\n",
       "    <tr>\n",
       "      <th>2024-10-29</th>\n",
       "      <td>72329.87</td>\n",
       "      <td>NaN</td>\n",
       "      <td>NaN</td>\n",
       "    </tr>\n",
       "    <tr>\n",
       "      <th>2024-10-30</th>\n",
       "      <td>NaN</td>\n",
       "      <td>NaN</td>\n",
       "      <td>NaN</td>\n",
       "    </tr>\n",
       "    <tr>\n",
       "      <th>2024-10-31</th>\n",
       "      <td>NaN</td>\n",
       "      <td>NaN</td>\n",
       "      <td>NaN</td>\n",
       "    </tr>\n",
       "  </tbody>\n",
       "</table>\n",
       "</div>"
      ],
      "text/plain": [
       "code           MKPRU         MKTCP        TRFUS\n",
       "date                                           \n",
       "2024-10-27  69913.46  1.442064e+12  827069.2092\n",
       "2024-10-28  72706.28  1.423970e+12  678086.7851\n",
       "2024-10-29  72329.87           NaN          NaN\n",
       "2024-10-30       NaN           NaN          NaN\n",
       "2024-10-31       NaN           NaN          NaN"
      ]
     },
     "execution_count": 65,
     "metadata": {},
     "output_type": "execute_result"
    }
   ],
   "source": [
    "btc_usd.shift(-2).tail()"
   ]
  },
  {
   "cell_type": "markdown",
   "id": "a10b5ae2",
   "metadata": {},
   "source": [
    "## Exercise\n",
    "\n",
    "See exercise 4 in the [exercise list](#pd-tim-ex)."
   ]
  },
  {
   "cell_type": "markdown",
   "id": "869c758e",
   "metadata": {},
   "source": [
    "## Rolling Computations: `.rolling`\n",
    "\n",
    "pandas has facilities that enable easy computation of *rolling\n",
    "statistics*.\n",
    "\n",
    "These are best understood by example, so we will dive right in."
   ]
  },
  {
   "cell_type": "code",
   "execution_count": 66,
   "id": "f7f56b24",
   "metadata": {
    "hide-output": false
   },
   "outputs": [
    {
     "data": {
      "text/html": [
       "<div>\n",
       "<style scoped>\n",
       "    .dataframe tbody tr th:only-of-type {\n",
       "        vertical-align: middle;\n",
       "    }\n",
       "\n",
       "    .dataframe tbody tr th {\n",
       "        vertical-align: top;\n",
       "    }\n",
       "\n",
       "    .dataframe thead th {\n",
       "        text-align: right;\n",
       "    }\n",
       "</style>\n",
       "<table border=\"1\" class=\"dataframe\">\n",
       "  <thead>\n",
       "    <tr style=\"text-align: right;\">\n",
       "      <th>code</th>\n",
       "      <th>MKPRU</th>\n",
       "      <th>MKTCP</th>\n",
       "      <th>TRFUS</th>\n",
       "    </tr>\n",
       "    <tr>\n",
       "      <th>date</th>\n",
       "      <th></th>\n",
       "      <th></th>\n",
       "      <th></th>\n",
       "    </tr>\n",
       "  </thead>\n",
       "  <tbody>\n",
       "    <tr>\n",
       "      <th>2014-05-01</th>\n",
       "      <td>452.03</td>\n",
       "      <td>5.692506e+09</td>\n",
       "      <td>5150.6111</td>\n",
       "    </tr>\n",
       "    <tr>\n",
       "      <th>2014-05-02</th>\n",
       "      <td>434.50</td>\n",
       "      <td>5.863170e+09</td>\n",
       "      <td>4783.0166</td>\n",
       "    </tr>\n",
       "    <tr>\n",
       "      <th>2014-05-03</th>\n",
       "      <td>436.21</td>\n",
       "      <td>5.551994e+09</td>\n",
       "      <td>5028.3105</td>\n",
       "    </tr>\n",
       "    <tr>\n",
       "      <th>2014-05-04</th>\n",
       "      <td>440.00</td>\n",
       "      <td>5.446672e+09</td>\n",
       "      <td>5291.9439</td>\n",
       "    </tr>\n",
       "    <tr>\n",
       "      <th>2014-05-05</th>\n",
       "      <td>430.33</td>\n",
       "      <td>5.560373e+09</td>\n",
       "      <td>6545.8162</td>\n",
       "    </tr>\n",
       "    <tr>\n",
       "      <th>2014-05-06</th>\n",
       "      <td>446.65</td>\n",
       "      <td>5.690165e+09</td>\n",
       "      <td>7467.4408</td>\n",
       "    </tr>\n",
       "  </tbody>\n",
       "</table>\n",
       "</div>"
      ],
      "text/plain": [
       "code         MKPRU         MKTCP      TRFUS\n",
       "date                                       \n",
       "2014-05-01  452.03  5.692506e+09  5150.6111\n",
       "2014-05-02  434.50  5.863170e+09  4783.0166\n",
       "2014-05-03  436.21  5.551994e+09  5028.3105\n",
       "2014-05-04  440.00  5.446672e+09  5291.9439\n",
       "2014-05-05  430.33  5.560373e+09  6545.8162\n",
       "2014-05-06  446.65  5.690165e+09  7467.4408"
      ]
     },
     "execution_count": 66,
     "metadata": {},
     "output_type": "execute_result"
    }
   ],
   "source": [
    "# first take only the first 6 rows so we can easily see what is going on\n",
    "btc_small = btc_usd.head(6)\n",
    "btc_small"
   ]
  },
  {
   "cell_type": "markdown",
   "id": "2a133ddd",
   "metadata": {},
   "source": [
    "Below, we compute the 2 day moving average (for all columns)."
   ]
  },
  {
   "cell_type": "code",
   "execution_count": 70,
   "id": "d78e7b80",
   "metadata": {
    "hide-output": false
   },
   "outputs": [
    {
     "data": {
      "text/html": [
       "<div>\n",
       "<style scoped>\n",
       "    .dataframe tbody tr th:only-of-type {\n",
       "        vertical-align: middle;\n",
       "    }\n",
       "\n",
       "    .dataframe tbody tr th {\n",
       "        vertical-align: top;\n",
       "    }\n",
       "\n",
       "    .dataframe thead th {\n",
       "        text-align: right;\n",
       "    }\n",
       "</style>\n",
       "<table border=\"1\" class=\"dataframe\">\n",
       "  <thead>\n",
       "    <tr style=\"text-align: right;\">\n",
       "      <th>code</th>\n",
       "      <th>MKPRU</th>\n",
       "      <th>MKTCP</th>\n",
       "      <th>TRFUS</th>\n",
       "    </tr>\n",
       "    <tr>\n",
       "      <th>date</th>\n",
       "      <th></th>\n",
       "      <th></th>\n",
       "      <th></th>\n",
       "    </tr>\n",
       "  </thead>\n",
       "  <tbody>\n",
       "    <tr>\n",
       "      <th>2014-05-01</th>\n",
       "      <td>452.030</td>\n",
       "      <td>5.692506e+09</td>\n",
       "      <td>5150.61110</td>\n",
       "    </tr>\n",
       "    <tr>\n",
       "      <th>2014-05-02</th>\n",
       "      <td>443.265</td>\n",
       "      <td>5.777838e+09</td>\n",
       "      <td>4966.81385</td>\n",
       "    </tr>\n",
       "    <tr>\n",
       "      <th>2014-05-03</th>\n",
       "      <td>435.355</td>\n",
       "      <td>5.707582e+09</td>\n",
       "      <td>4905.66355</td>\n",
       "    </tr>\n",
       "    <tr>\n",
       "      <th>2014-05-04</th>\n",
       "      <td>438.105</td>\n",
       "      <td>5.499333e+09</td>\n",
       "      <td>5160.12720</td>\n",
       "    </tr>\n",
       "    <tr>\n",
       "      <th>2014-05-05</th>\n",
       "      <td>435.165</td>\n",
       "      <td>5.503523e+09</td>\n",
       "      <td>5918.88005</td>\n",
       "    </tr>\n",
       "    <tr>\n",
       "      <th>2014-05-06</th>\n",
       "      <td>438.490</td>\n",
       "      <td>5.625269e+09</td>\n",
       "      <td>7006.62850</td>\n",
       "    </tr>\n",
       "  </tbody>\n",
       "</table>\n",
       "</div>"
      ],
      "text/plain": [
       "code          MKPRU         MKTCP       TRFUS\n",
       "date                                         \n",
       "2014-05-01  452.030  5.692506e+09  5150.61110\n",
       "2014-05-02  443.265  5.777838e+09  4966.81385\n",
       "2014-05-03  435.355  5.707582e+09  4905.66355\n",
       "2014-05-04  438.105  5.499333e+09  5160.12720\n",
       "2014-05-05  435.165  5.503523e+09  5918.88005\n",
       "2014-05-06  438.490  5.625269e+09  7006.62850"
      ]
     },
     "execution_count": 70,
     "metadata": {},
     "output_type": "execute_result"
    }
   ],
   "source": [
    "btc_small.rolling(\"2d\").mean()"
   ]
  },
  {
   "cell_type": "markdown",
   "id": "973fd64c",
   "metadata": {},
   "source": [
    "To do this operation, pandas starts at each row (date) then looks\n",
    "*backwards* the specified number of periods (here 2 days) and then\n",
    "applies some aggregation function (`mean`) on all the data in that\n",
    "window.\n",
    "\n",
    "If pandas cannot look back the full length of the window (e.g. when\n",
    "working on the first row), it fills as much of the window as possible\n",
    "and then does the operation. Notice that the value at 2014-05-01 is\n",
    "the same in both DataFrames.\n",
    "\n",
    "Below, we see a visual depiction of the rolling maximum on a 21 day\n",
    "window for the whole dataset."
   ]
  },
  {
   "cell_type": "code",
   "execution_count": 76,
   "id": "f98273a4",
   "metadata": {
    "hide-output": false
   },
   "outputs": [
    {
     "data": {
      "text/plain": [
       "<matplotlib.legend.Legend at 0x7f2d1cc467d0>"
      ]
     },
     "execution_count": 76,
     "metadata": {},
     "output_type": "execute_result"
    },
    {
     "data": {
      "image/png": "[encoded data removed]",
      "text/plain": [
       "<Figure size 1000x400 with 1 Axes>"
      ]
     },
     "metadata": {},
     "output_type": "display_data"
    }
   ],
   "source": [
    "fig, ax = plt.subplots(figsize=(10, 4))\n",
    "btc_usd[\"MKPRU\"].plot(ax=ax, linestyle=\"--\", alpha=0.8)\n",
    "btc_usd.rolling(\"200d\").mean()[\"MKPRU\"].plot(ax=ax, alpha=0.8, linewidth=3)\n",
    "btc_usd.rolling(\"50d\").mean()[\"MKPRU\"].plot(ax=ax, alpha=0.8, linewidth=3)\n",
    "ax.legend([\"Original\", \"21 day mean\"])"
   ]
  },
  {
   "cell_type": "markdown",
   "id": "3a58e5a7",
   "metadata": {},
   "source": [
    "We can also ask pandas to `apply` custom functions, similar to what we\n",
    "saw when studying GroupBy."
   ]
  },
  {
   "cell_type": "code",
   "execution_count": 78,
   "id": "d20f5a38",
   "metadata": {
    "hide-output": false
   },
   "outputs": [],
   "source": [
    "def is_volatile(x):\n",
    "    \"Returns a 1 if the variance is greater than 1, otherwise returns 0\"\n",
    "    if x.var() > 1.0:\n",
    "        return 1.0\n",
    "    else:\n",
    "        return 0.0"
   ]
  },
  {
   "cell_type": "code",
   "execution_count": 79,
   "id": "ccdca55b",
   "metadata": {
    "hide-output": false
   },
   "outputs": [
    {
     "data": {
      "text/html": [
       "<div>\n",
       "<style scoped>\n",
       "    .dataframe tbody tr th:only-of-type {\n",
       "        vertical-align: middle;\n",
       "    }\n",
       "\n",
       "    .dataframe tbody tr th {\n",
       "        vertical-align: top;\n",
       "    }\n",
       "\n",
       "    .dataframe thead th {\n",
       "        text-align: right;\n",
       "    }\n",
       "</style>\n",
       "<table border=\"1\" class=\"dataframe\">\n",
       "  <thead>\n",
       "    <tr style=\"text-align: right;\">\n",
       "      <th>code</th>\n",
       "      <th>MKPRU</th>\n",
       "      <th>MKTCP</th>\n",
       "      <th>TRFUS</th>\n",
       "    </tr>\n",
       "    <tr>\n",
       "      <th>date</th>\n",
       "      <th></th>\n",
       "      <th></th>\n",
       "      <th></th>\n",
       "    </tr>\n",
       "  </thead>\n",
       "  <tbody>\n",
       "    <tr>\n",
       "      <th>2014-05-01</th>\n",
       "      <td>0.0</td>\n",
       "      <td>0.0</td>\n",
       "      <td>0.0</td>\n",
       "    </tr>\n",
       "    <tr>\n",
       "      <th>2014-05-02</th>\n",
       "      <td>1.0</td>\n",
       "      <td>1.0</td>\n",
       "      <td>1.0</td>\n",
       "    </tr>\n",
       "    <tr>\n",
       "      <th>2014-05-03</th>\n",
       "      <td>1.0</td>\n",
       "      <td>1.0</td>\n",
       "      <td>1.0</td>\n",
       "    </tr>\n",
       "    <tr>\n",
       "      <th>2014-05-04</th>\n",
       "      <td>1.0</td>\n",
       "      <td>1.0</td>\n",
       "      <td>1.0</td>\n",
       "    </tr>\n",
       "    <tr>\n",
       "      <th>2014-05-05</th>\n",
       "      <td>1.0</td>\n",
       "      <td>1.0</td>\n",
       "      <td>1.0</td>\n",
       "    </tr>\n",
       "    <tr>\n",
       "      <th>2014-05-06</th>\n",
       "      <td>1.0</td>\n",
       "      <td>1.0</td>\n",
       "      <td>1.0</td>\n",
       "    </tr>\n",
       "  </tbody>\n",
       "</table>\n",
       "</div>"
      ],
      "text/plain": [
       "code        MKPRU  MKTCP  TRFUS\n",
       "date                           \n",
       "2014-05-01    0.0    0.0    0.0\n",
       "2014-05-02    1.0    1.0    1.0\n",
       "2014-05-03    1.0    1.0    1.0\n",
       "2014-05-04    1.0    1.0    1.0\n",
       "2014-05-05    1.0    1.0    1.0\n",
       "2014-05-06    1.0    1.0    1.0"
      ]
     },
     "execution_count": 79,
     "metadata": {},
     "output_type": "execute_result"
    }
   ],
   "source": [
    "btc_small.rolling(\"2d\").apply(is_volatile)"
   ]
  },
  {
   "cell_type": "markdown",
   "id": "e2ee2073",
   "metadata": {},
   "source": [
    "## Exercise\n",
    "\n",
    "See exercise 5 in the [exercise list](#pd-tim-ex).\n",
    "\n",
    "To make the optimal decision, we need to know the maximum\n",
    "difference between the close price at the end of the window and the open\n",
    "price at the start of the window."
   ]
  },
  {
   "cell_type": "markdown",
   "id": "1bcd2c5e",
   "metadata": {},
   "source": [
    "## Exercise\n",
    "\n",
    "See exercise 6 in the [exercise list](#pd-tim-ex)."
   ]
  },
  {
   "cell_type": "markdown",
   "id": "6f1449e2",
   "metadata": {},
   "source": [
    "## Changing Frequencies: `.resample`\n",
    "\n",
    "In addition to computing rolling statistics, we can also change the\n",
    "frequency of the data.\n",
    "\n",
    "For example, instead of a monthly moving average, suppose that we wanted\n",
    "to compute the average *within* each calendar month.\n",
    "\n",
    "We will use the `resample` method to do this.\n",
    "\n",
    "Below are some examples."
   ]
  },
  {
   "cell_type": "code",
   "execution_count": 81,
   "id": "15571715",
   "metadata": {
    "hide-output": false
   },
   "outputs": [
    {
     "data": {
      "text/html": [
       "<div>\n",
       "<style scoped>\n",
       "    .dataframe tbody tr th:only-of-type {\n",
       "        vertical-align: middle;\n",
       "    }\n",
       "\n",
       "    .dataframe tbody tr th {\n",
       "        vertical-align: top;\n",
       "    }\n",
       "\n",
       "    .dataframe thead th {\n",
       "        text-align: right;\n",
       "    }\n",
       "</style>\n",
       "<table border=\"1\" class=\"dataframe\">\n",
       "  <thead>\n",
       "    <tr style=\"text-align: right;\">\n",
       "      <th>code</th>\n",
       "      <th>MKPRU</th>\n",
       "      <th>MKTCP</th>\n",
       "      <th>TRFUS</th>\n",
       "    </tr>\n",
       "    <tr>\n",
       "      <th>date</th>\n",
       "      <th></th>\n",
       "      <th></th>\n",
       "      <th></th>\n",
       "    </tr>\n",
       "  </thead>\n",
       "  <tbody>\n",
       "    <tr>\n",
       "      <th>2014-06-30</th>\n",
       "      <td>549.623115</td>\n",
       "      <td>7.082381e+09</td>\n",
       "      <td>6.556792e+03</td>\n",
       "    </tr>\n",
       "    <tr>\n",
       "      <th>2014-09-30</th>\n",
       "      <td>534.162283</td>\n",
       "      <td>7.020311e+09</td>\n",
       "      <td>6.283972e+03</td>\n",
       "    </tr>\n",
       "    <tr>\n",
       "      <th>2014-12-31</th>\n",
       "      <td>357.784674</td>\n",
       "      <td>4.835176e+09</td>\n",
       "      <td>4.733127e+03</td>\n",
       "    </tr>\n",
       "    <tr>\n",
       "      <th>2015-03-31</th>\n",
       "      <td>250.173111</td>\n",
       "      <td>3.481522e+09</td>\n",
       "      <td>3.778020e+03</td>\n",
       "    </tr>\n",
       "    <tr>\n",
       "      <th>2015-06-30</th>\n",
       "      <td>236.218681</td>\n",
       "      <td>3.355567e+09</td>\n",
       "      <td>4.571111e+03</td>\n",
       "    </tr>\n",
       "    <tr>\n",
       "      <th>2015-09-30</th>\n",
       "      <td>255.963913</td>\n",
       "      <td>3.712326e+09</td>\n",
       "      <td>7.482194e+03</td>\n",
       "    </tr>\n",
       "    <tr>\n",
       "      <th>2015-12-31</th>\n",
       "      <td>345.638152</td>\n",
       "      <td>5.142968e+09</td>\n",
       "      <td>1.081335e+04</td>\n",
       "    </tr>\n",
       "    <tr>\n",
       "      <th>2016-03-31</th>\n",
       "      <td>409.983516</td>\n",
       "      <td>6.226075e+09</td>\n",
       "      <td>1.741373e+04</td>\n",
       "    </tr>\n",
       "    <tr>\n",
       "      <th>2016-06-30</th>\n",
       "      <td>510.586051</td>\n",
       "      <td>7.972975e+09</td>\n",
       "      <td>2.897724e+04</td>\n",
       "    </tr>\n",
       "    <tr>\n",
       "      <th>2016-09-30</th>\n",
       "      <td>615.694674</td>\n",
       "      <td>9.752593e+09</td>\n",
       "      <td>3.863793e+04</td>\n",
       "    </tr>\n",
       "    <tr>\n",
       "      <th>2016-12-30</th>\n",
       "      <td>724.429451</td>\n",
       "      <td>1.163821e+10</td>\n",
       "      <td>6.418510e+04</td>\n",
       "    </tr>\n",
       "    <tr>\n",
       "      <th>2017-03-31</th>\n",
       "      <td>1033.310616</td>\n",
       "      <td>1.667005e+10</td>\n",
       "      <td>1.784679e+05</td>\n",
       "    </tr>\n",
       "    <tr>\n",
       "      <th>2017-06-30</th>\n",
       "      <td>1900.426105</td>\n",
       "      <td>3.122785e+10</td>\n",
       "      <td>7.008928e+05</td>\n",
       "    </tr>\n",
       "    <tr>\n",
       "      <th>2017-09-29</th>\n",
       "      <td>3461.377390</td>\n",
       "      <td>5.764089e+10</td>\n",
       "      <td>7.981729e+05</td>\n",
       "    </tr>\n",
       "    <tr>\n",
       "      <th>2017-12-29</th>\n",
       "      <td>9258.879054</td>\n",
       "      <td>1.552192e+11</td>\n",
       "      <td>4.219760e+06</td>\n",
       "    </tr>\n",
       "    <tr>\n",
       "      <th>2018-03-30</th>\n",
       "      <td>10664.432624</td>\n",
       "      <td>1.792487e+11</td>\n",
       "      <td>2.817710e+06</td>\n",
       "    </tr>\n",
       "    <tr>\n",
       "      <th>2018-06-29</th>\n",
       "      <td>7787.273765</td>\n",
       "      <td>1.320632e+11</td>\n",
       "      <td>2.614883e+05</td>\n",
       "    </tr>\n",
       "    <tr>\n",
       "      <th>2018-09-28</th>\n",
       "      <td>6797.888576</td>\n",
       "      <td>1.170264e+11</td>\n",
       "      <td>1.479755e+05</td>\n",
       "    </tr>\n",
       "    <tr>\n",
       "      <th>2018-12-31</th>\n",
       "      <td>5248.198650</td>\n",
       "      <td>9.075620e+10</td>\n",
       "      <td>1.149056e+05</td>\n",
       "    </tr>\n",
       "    <tr>\n",
       "      <th>2019-03-29</th>\n",
       "      <td>3765.523172</td>\n",
       "      <td>6.556469e+10</td>\n",
       "      <td>9.802838e+04</td>\n",
       "    </tr>\n",
       "    <tr>\n",
       "      <th>2019-06-28</th>\n",
       "      <td>7032.838022</td>\n",
       "      <td>1.256531e+11</td>\n",
       "      <td>8.807818e+05</td>\n",
       "    </tr>\n",
       "    <tr>\n",
       "      <th>2019-09-30</th>\n",
       "      <td>10428.941809</td>\n",
       "      <td>1.858732e+11</td>\n",
       "      <td>5.016634e+05</td>\n",
       "    </tr>\n",
       "    <tr>\n",
       "      <th>2019-12-31</th>\n",
       "      <td>7996.907500</td>\n",
       "      <td>1.441789e+11</td>\n",
       "      <td>2.196298e+05</td>\n",
       "    </tr>\n",
       "    <tr>\n",
       "      <th>2020-03-31</th>\n",
       "      <td>8276.572747</td>\n",
       "      <td>1.506202e+11</td>\n",
       "      <td>2.279471e+05</td>\n",
       "    </tr>\n",
       "    <tr>\n",
       "      <th>2020-06-30</th>\n",
       "      <td>8630.303187</td>\n",
       "      <td>1.590593e+11</td>\n",
       "      <td>5.339778e+05</td>\n",
       "    </tr>\n",
       "    <tr>\n",
       "      <th>2020-09-30</th>\n",
       "      <td>10612.309239</td>\n",
       "      <td>1.961977e+11</td>\n",
       "      <td>9.903968e+05</td>\n",
       "    </tr>\n",
       "    <tr>\n",
       "      <th>2020-12-31</th>\n",
       "      <td>16655.096522</td>\n",
       "      <td>3.120839e+11</td>\n",
       "      <td>1.810991e+06</td>\n",
       "    </tr>\n",
       "    <tr>\n",
       "      <th>2021-03-31</th>\n",
       "      <td>44970.261889</td>\n",
       "      <td>8.439909e+11</td>\n",
       "      <td>5.234810e+06</td>\n",
       "    </tr>\n",
       "    <tr>\n",
       "      <th>2021-06-30</th>\n",
       "      <td>46715.956374</td>\n",
       "      <td>8.680730e+11</td>\n",
       "      <td>4.578460e+06</td>\n",
       "    </tr>\n",
       "    <tr>\n",
       "      <th>2021-09-30</th>\n",
       "      <td>41891.563913</td>\n",
       "      <td>7.871698e+11</td>\n",
       "      <td>7.142843e+05</td>\n",
       "    </tr>\n",
       "    <tr>\n",
       "      <th>2021-12-31</th>\n",
       "      <td>55905.434565</td>\n",
       "      <td>1.055690e+12</td>\n",
       "      <td>7.820789e+05</td>\n",
       "    </tr>\n",
       "    <tr>\n",
       "      <th>2022-03-31</th>\n",
       "      <td>41301.189556</td>\n",
       "      <td>7.833294e+11</td>\n",
       "      <td>4.684427e+05</td>\n",
       "    </tr>\n",
       "    <tr>\n",
       "      <th>2022-06-30</th>\n",
       "      <td>32759.727363</td>\n",
       "      <td>6.196702e+11</td>\n",
       "      <td>4.498362e+05</td>\n",
       "    </tr>\n",
       "    <tr>\n",
       "      <th>2022-09-30</th>\n",
       "      <td>21249.154130</td>\n",
       "      <td>4.062310e+11</td>\n",
       "      <td>3.266063e+05</td>\n",
       "    </tr>\n",
       "    <tr>\n",
       "      <th>2022-12-30</th>\n",
       "      <td>18112.686154</td>\n",
       "      <td>3.476262e+11</td>\n",
       "      <td>3.196036e+05</td>\n",
       "    </tr>\n",
       "    <tr>\n",
       "      <th>2023-03-31</th>\n",
       "      <td>22674.144176</td>\n",
       "      <td>4.394973e+11</td>\n",
       "      <td>5.059197e+05</td>\n",
       "    </tr>\n",
       "    <tr>\n",
       "      <th>2023-06-30</th>\n",
       "      <td>28008.729780</td>\n",
       "      <td>5.434039e+11</td>\n",
       "      <td>2.068016e+06</td>\n",
       "    </tr>\n",
       "    <tr>\n",
       "      <th>2023-09-29</th>\n",
       "      <td>28142.887473</td>\n",
       "      <td>5.471481e+11</td>\n",
       "      <td>6.873795e+05</td>\n",
       "    </tr>\n",
       "    <tr>\n",
       "      <th>2023-12-29</th>\n",
       "      <td>35882.024725</td>\n",
       "      <td>7.039905e+11</td>\n",
       "      <td>5.225671e+06</td>\n",
       "    </tr>\n",
       "    <tr>\n",
       "      <th>2024-03-29</th>\n",
       "      <td>52656.632000</td>\n",
       "      <td>1.038513e+12</td>\n",
       "      <td>3.503097e+06</td>\n",
       "    </tr>\n",
       "    <tr>\n",
       "      <th>2024-06-28</th>\n",
       "      <td>65957.064828</td>\n",
       "      <td>1.296625e+12</td>\n",
       "      <td>5.209536e+06</td>\n",
       "    </tr>\n",
       "    <tr>\n",
       "      <th>2024-09-30</th>\n",
       "      <td>61015.150319</td>\n",
       "      <td>1.208458e+12</td>\n",
       "      <td>6.591648e+05</td>\n",
       "    </tr>\n",
       "    <tr>\n",
       "      <th>2024-12-31</th>\n",
       "      <td>65361.601935</td>\n",
       "      <td>1.294332e+12</td>\n",
       "      <td>1.432843e+06</td>\n",
       "    </tr>\n",
       "  </tbody>\n",
       "</table>\n",
       "</div>"
      ],
      "text/plain": [
       "code               MKPRU         MKTCP         TRFUS\n",
       "date                                                \n",
       "2014-06-30    549.623115  7.082381e+09  6.556792e+03\n",
       "2014-09-30    534.162283  7.020311e+09  6.283972e+03\n",
       "2014-12-31    357.784674  4.835176e+09  4.733127e+03\n",
       "2015-03-31    250.173111  3.481522e+09  3.778020e+03\n",
       "2015-06-30    236.218681  3.355567e+09  4.571111e+03\n",
       "2015-09-30    255.963913  3.712326e+09  7.482194e+03\n",
       "2015-12-31    345.638152  5.142968e+09  1.081335e+04\n",
       "2016-03-31    409.983516  6.226075e+09  1.741373e+04\n",
       "2016-06-30    510.586051  7.972975e+09  2.897724e+04\n",
       "2016-09-30    615.694674  9.752593e+09  3.863793e+04\n",
       "2016-12-30    724.429451  1.163821e+10  6.418510e+04\n",
       "2017-03-31   1033.310616  1.667005e+10  1.784679e+05\n",
       "2017-06-30   1900.426105  3.122785e+10  7.008928e+05\n",
       "2017-09-29   3461.377390  5.764089e+10  7.981729e+05\n",
       "2017-12-29   9258.879054  1.552192e+11  4.219760e+06\n",
       "2018-03-30  10664.432624  1.792487e+11  2.817710e+06\n",
       "2018-06-29   7787.273765  1.320632e+11  2.614883e+05\n",
       "2018-09-28   6797.888576  1.170264e+11  1.479755e+05\n",
       "2018-12-31   5248.198650  9.075620e+10  1.149056e+05\n",
       "2019-03-29   3765.523172  6.556469e+10  9.802838e+04\n",
       "2019-06-28   7032.838022  1.256531e+11  8.807818e+05\n",
       "2019-09-30  10428.941809  1.858732e+11  5.016634e+05\n",
       "2019-12-31   7996.907500  1.441789e+11  2.196298e+05\n",
       "2020-03-31   8276.572747  1.506202e+11  2.279471e+05\n",
       "2020-06-30   8630.303187  1.590593e+11  5.339778e+05\n",
       "2020-09-30  10612.309239  1.961977e+11  9.903968e+05\n",
       "2020-12-31  16655.096522  3.120839e+11  1.810991e+06\n",
       "2021-03-31  44970.261889  8.439909e+11  5.234810e+06\n",
       "2021-06-30  46715.956374  8.680730e+11  4.578460e+06\n",
       "2021-09-30  41891.563913  7.871698e+11  7.142843e+05\n",
       "2021-12-31  55905.434565  1.055690e+12  7.820789e+05\n",
       "2022-03-31  41301.189556  7.833294e+11  4.684427e+05\n",
       "2022-06-30  32759.727363  6.196702e+11  4.498362e+05\n",
       "2022-09-30  21249.154130  4.062310e+11  3.266063e+05\n",
       "2022-12-30  18112.686154  3.476262e+11  3.196036e+05\n",
       "2023-03-31  22674.144176  4.394973e+11  5.059197e+05\n",
       "2023-06-30  28008.729780  5.434039e+11  2.068016e+06\n",
       "2023-09-29  28142.887473  5.471481e+11  6.873795e+05\n",
       "2023-12-29  35882.024725  7.039905e+11  5.225671e+06\n",
       "2024-03-29  52656.632000  1.038513e+12  3.503097e+06\n",
       "2024-06-28  65957.064828  1.296625e+12  5.209536e+06\n",
       "2024-09-30  61015.150319  1.208458e+12  6.591648e+05\n",
       "2024-12-31  65361.601935  1.294332e+12  1.432843e+06"
      ]
     },
     "execution_count": 81,
     "metadata": {},
     "output_type": "execute_result"
    }
   ],
   "source": [
    "# business quarter\n",
    "btc_usd.resample(\"BQE\").mean()"
   ]
  },
  {
   "cell_type": "markdown",
   "id": "1ef8cce1",
   "metadata": {},
   "source": [
    "Note that unlike with `rolling`, a single number is returned for\n",
    "each column for each quarter.\n",
    "\n",
    "The `resample` method will alter the frequency of the data and the\n",
    "number of rows in the result will be different from the number of rows\n",
    "in the input.\n",
    "\n",
    "On the other hand, with `rolling`, the size and frequency of the result\n",
    "are the same as the input.\n",
    "\n",
    "We can sample at other frequencies and aggregate with multiple aggregations\n",
    "function at once."
   ]
  },
  {
   "cell_type": "code",
   "execution_count": 82,
   "id": "f5572d45",
   "metadata": {
    "hide-output": false
   },
   "outputs": [
    {
     "data": {
      "text/html": [
       "<div>\n",
       "<style scoped>\n",
       "    .dataframe tbody tr th:only-of-type {\n",
       "        vertical-align: middle;\n",
       "    }\n",
       "\n",
       "    .dataframe tbody tr th {\n",
       "        vertical-align: top;\n",
       "    }\n",
       "\n",
       "    .dataframe thead tr th {\n",
       "        text-align: left;\n",
       "    }\n",
       "\n",
       "    .dataframe thead tr:last-of-type th {\n",
       "        text-align: right;\n",
       "    }\n",
       "</style>\n",
       "<table border=\"1\" class=\"dataframe\">\n",
       "  <thead>\n",
       "    <tr>\n",
       "      <th>code</th>\n",
       "      <th colspan=\"2\" halign=\"left\">MKPRU</th>\n",
       "      <th colspan=\"2\" halign=\"left\">MKTCP</th>\n",
       "      <th colspan=\"2\" halign=\"left\">TRFUS</th>\n",
       "    </tr>\n",
       "    <tr>\n",
       "      <th></th>\n",
       "      <th>min</th>\n",
       "      <th>max</th>\n",
       "      <th>min</th>\n",
       "      <th>max</th>\n",
       "      <th>min</th>\n",
       "      <th>max</th>\n",
       "    </tr>\n",
       "    <tr>\n",
       "      <th>date</th>\n",
       "      <th></th>\n",
       "      <th></th>\n",
       "      <th></th>\n",
       "      <th></th>\n",
       "      <th></th>\n",
       "      <th></th>\n",
       "    </tr>\n",
       "  </thead>\n",
       "  <tbody>\n",
       "    <tr>\n",
       "      <th>2014-04-01</th>\n",
       "      <td>380.0000</td>\n",
       "      <td>673.9000</td>\n",
       "      <td>4.984042e+09</td>\n",
       "      <td>8.668279e+09</td>\n",
       "      <td>3985.7770</td>\n",
       "      <td>1.921956e+04</td>\n",
       "    </tr>\n",
       "    <tr>\n",
       "      <th>2014-10-01</th>\n",
       "      <td>176.5000</td>\n",
       "      <td>430.0700</td>\n",
       "      <td>2.707305e+09</td>\n",
       "      <td>5.802913e+09</td>\n",
       "      <td>2524.4311</td>\n",
       "      <td>8.812785e+03</td>\n",
       "    </tr>\n",
       "    <tr>\n",
       "      <th>2015-04-01</th>\n",
       "      <td>216.0000</td>\n",
       "      <td>310.5500</td>\n",
       "      <td>3.077795e+09</td>\n",
       "      <td>4.464575e+09</td>\n",
       "      <td>2723.2836</td>\n",
       "      <td>2.328578e+04</td>\n",
       "    </tr>\n",
       "    <tr>\n",
       "      <th>2015-10-01</th>\n",
       "      <td>237.7800</td>\n",
       "      <td>463.9800</td>\n",
       "      <td>3.486830e+09</td>\n",
       "      <td>6.952138e+09</td>\n",
       "      <td>4505.6395</td>\n",
       "      <td>3.964677e+04</td>\n",
       "    </tr>\n",
       "    <tr>\n",
       "      <th>2016-04-01</th>\n",
       "      <td>416.2500</td>\n",
       "      <td>754.3600</td>\n",
       "      <td>6.402758e+09</td>\n",
       "      <td>1.212991e+10</td>\n",
       "      <td>14104.5825</td>\n",
       "      <td>1.580632e+05</td>\n",
       "    </tr>\n",
       "    <tr>\n",
       "      <th>2016-10-03</th>\n",
       "      <td>607.1800</td>\n",
       "      <td>1287.0000</td>\n",
       "      <td>9.676305e+09</td>\n",
       "      <td>2.089075e+10</td>\n",
       "      <td>35878.0000</td>\n",
       "      <td>3.337618e+05</td>\n",
       "    </tr>\n",
       "    <tr>\n",
       "      <th>2017-04-03</th>\n",
       "      <td>1079.9900</td>\n",
       "      <td>4911.7400</td>\n",
       "      <td>1.846992e+10</td>\n",
       "      <td>7.969529e+10</td>\n",
       "      <td>48384.1633</td>\n",
       "      <td>2.262700e+06</td>\n",
       "    </tr>\n",
       "    <tr>\n",
       "      <th>2017-10-02</th>\n",
       "      <td>4225.1750</td>\n",
       "      <td>19498.6833</td>\n",
       "      <td>7.021588e+10</td>\n",
       "      <td>3.346692e+11</td>\n",
       "      <td>124208.5057</td>\n",
       "      <td>2.128565e+07</td>\n",
       "    </tr>\n",
       "    <tr>\n",
       "      <th>2018-04-02</th>\n",
       "      <td>5908.7025</td>\n",
       "      <td>9803.3067</td>\n",
       "      <td>1.005508e+11</td>\n",
       "      <td>1.668274e+11</td>\n",
       "      <td>80626.3286</td>\n",
       "      <td>1.375764e+06</td>\n",
       "    </tr>\n",
       "    <tr>\n",
       "      <th>2018-10-01</th>\n",
       "      <td>3242.4200</td>\n",
       "      <td>6626.8500</td>\n",
       "      <td>5.620096e+10</td>\n",
       "      <td>1.146456e+11</td>\n",
       "      <td>41541.1487</td>\n",
       "      <td>3.192060e+05</td>\n",
       "    </tr>\n",
       "    <tr>\n",
       "      <th>2019-04-01</th>\n",
       "      <td>4114.1600</td>\n",
       "      <td>12932.5500</td>\n",
       "      <td>7.276165e+10</td>\n",
       "      <td>2.228957e+11</td>\n",
       "      <td>172177.2234</td>\n",
       "      <td>2.392394e+06</td>\n",
       "    </tr>\n",
       "    <tr>\n",
       "      <th>2019-10-01</th>\n",
       "      <td>4830.2100</td>\n",
       "      <td>10368.5300</td>\n",
       "      <td>9.076522e+10</td>\n",
       "      <td>1.892358e+11</td>\n",
       "      <td>71819.5359</td>\n",
       "      <td>5.177629e+05</td>\n",
       "    </tr>\n",
       "    <tr>\n",
       "      <th>2020-04-01</th>\n",
       "      <td>6428.2800</td>\n",
       "      <td>12293.7200</td>\n",
       "      <td>1.207057e+11</td>\n",
       "      <td>2.280452e+11</td>\n",
       "      <td>89377.2131</td>\n",
       "      <td>2.308958e+06</td>\n",
       "    </tr>\n",
       "    <tr>\n",
       "      <th>2020-10-01</th>\n",
       "      <td>10551.7700</td>\n",
       "      <td>61258.7300</td>\n",
       "      <td>1.947115e+11</td>\n",
       "      <td>1.135653e+12</td>\n",
       "      <td>405357.8910</td>\n",
       "      <td>9.813446e+06</td>\n",
       "    </tr>\n",
       "    <tr>\n",
       "      <th>2021-04-01</th>\n",
       "      <td>29790.2400</td>\n",
       "      <td>63554.4400</td>\n",
       "      <td>5.564866e+11</td>\n",
       "      <td>1.185967e+12</td>\n",
       "      <td>334180.7940</td>\n",
       "      <td>1.690307e+07</td>\n",
       "    </tr>\n",
       "    <tr>\n",
       "      <th>2021-10-01</th>\n",
       "      <td>35071.4300</td>\n",
       "      <td>67562.1700</td>\n",
       "      <td>6.548262e+11</td>\n",
       "      <td>1.277658e+12</td>\n",
       "      <td>222072.9923</td>\n",
       "      <td>1.573346e+06</td>\n",
       "    </tr>\n",
       "    <tr>\n",
       "      <th>2022-04-01</th>\n",
       "      <td>18507.3600</td>\n",
       "      <td>46611.2600</td>\n",
       "      <td>3.472042e+11</td>\n",
       "      <td>8.871385e+11</td>\n",
       "      <td>151466.7294</td>\n",
       "      <td>9.541195e+05</td>\n",
       "    </tr>\n",
       "    <tr>\n",
       "      <th>2022-10-03</th>\n",
       "      <td>15759.6100</td>\n",
       "      <td>28479.7500</td>\n",
       "      <td>3.067832e+11</td>\n",
       "      <td>5.507572e+11</td>\n",
       "      <td>115008.4463</td>\n",
       "      <td>1.238316e+06</td>\n",
       "    </tr>\n",
       "    <tr>\n",
       "      <th>2023-04-03</th>\n",
       "      <td>25127.0400</td>\n",
       "      <td>31485.3700</td>\n",
       "      <td>4.900894e+11</td>\n",
       "      <td>6.124876e+11</td>\n",
       "      <td>351591.9938</td>\n",
       "      <td>1.777495e+07</td>\n",
       "    </tr>\n",
       "    <tr>\n",
       "      <th>2023-10-02</th>\n",
       "      <td>26758.6600</td>\n",
       "      <td>73094.3700</td>\n",
       "      <td>5.198294e+11</td>\n",
       "      <td>1.432834e+12</td>\n",
       "      <td>307164.4247</td>\n",
       "      <td>2.375189e+07</td>\n",
       "    </tr>\n",
       "    <tr>\n",
       "      <th>2024-04-01</th>\n",
       "      <td>53951.7200</td>\n",
       "      <td>71645.9100</td>\n",
       "      <td>1.062704e+12</td>\n",
       "      <td>1.410977e+12</td>\n",
       "      <td>333638.2305</td>\n",
       "      <td>8.105034e+07</td>\n",
       "    </tr>\n",
       "    <tr>\n",
       "      <th>2024-10-01</th>\n",
       "      <td>60269.2400</td>\n",
       "      <td>72706.2800</td>\n",
       "      <td>1.179550e+12</td>\n",
       "      <td>1.442064e+12</td>\n",
       "      <td>432411.5231</td>\n",
       "      <td>4.188156e+06</td>\n",
       "    </tr>\n",
       "  </tbody>\n",
       "</table>\n",
       "</div>"
      ],
      "text/plain": [
       "code             MKPRU                     MKTCP                      TRFUS  \\\n",
       "                   min         max           min           max          min   \n",
       "date                                                                          \n",
       "2014-04-01    380.0000    673.9000  4.984042e+09  8.668279e+09    3985.7770   \n",
       "2014-10-01    176.5000    430.0700  2.707305e+09  5.802913e+09    2524.4311   \n",
       "2015-04-01    216.0000    310.5500  3.077795e+09  4.464575e+09    2723.2836   \n",
       "2015-10-01    237.7800    463.9800  3.486830e+09  6.952138e+09    4505.6395   \n",
       "2016-04-01    416.2500    754.3600  6.402758e+09  1.212991e+10   14104.5825   \n",
       "2016-10-03    607.1800   1287.0000  9.676305e+09  2.089075e+10   35878.0000   \n",
       "2017-04-03   1079.9900   4911.7400  1.846992e+10  7.969529e+10   48384.1633   \n",
       "2017-10-02   4225.1750  19498.6833  7.021588e+10  3.346692e+11  124208.5057   \n",
       "2018-04-02   5908.7025   9803.3067  1.005508e+11  1.668274e+11   80626.3286   \n",
       "2018-10-01   3242.4200   6626.8500  5.620096e+10  1.146456e+11   41541.1487   \n",
       "2019-04-01   4114.1600  12932.5500  7.276165e+10  2.228957e+11  172177.2234   \n",
       "2019-10-01   4830.2100  10368.5300  9.076522e+10  1.892358e+11   71819.5359   \n",
       "2020-04-01   6428.2800  12293.7200  1.207057e+11  2.280452e+11   89377.2131   \n",
       "2020-10-01  10551.7700  61258.7300  1.947115e+11  1.135653e+12  405357.8910   \n",
       "2021-04-01  29790.2400  63554.4400  5.564866e+11  1.185967e+12  334180.7940   \n",
       "2021-10-01  35071.4300  67562.1700  6.548262e+11  1.277658e+12  222072.9923   \n",
       "2022-04-01  18507.3600  46611.2600  3.472042e+11  8.871385e+11  151466.7294   \n",
       "2022-10-03  15759.6100  28479.7500  3.067832e+11  5.507572e+11  115008.4463   \n",
       "2023-04-03  25127.0400  31485.3700  4.900894e+11  6.124876e+11  351591.9938   \n",
       "2023-10-02  26758.6600  73094.3700  5.198294e+11  1.432834e+12  307164.4247   \n",
       "2024-04-01  53951.7200  71645.9100  1.062704e+12  1.410977e+12  333638.2305   \n",
       "2024-10-01  60269.2400  72706.2800  1.179550e+12  1.442064e+12  432411.5231   \n",
       "\n",
       "code                      \n",
       "                     max  \n",
       "date                      \n",
       "2014-04-01  1.921956e+04  \n",
       "2014-10-01  8.812785e+03  \n",
       "2015-04-01  2.328578e+04  \n",
       "2015-10-01  3.964677e+04  \n",
       "2016-04-01  1.580632e+05  \n",
       "2016-10-03  3.337618e+05  \n",
       "2017-04-03  2.262700e+06  \n",
       "2017-10-02  2.128565e+07  \n",
       "2018-04-02  1.375764e+06  \n",
       "2018-10-01  3.192060e+05  \n",
       "2019-04-01  2.392394e+06  \n",
       "2019-10-01  5.177629e+05  \n",
       "2020-04-01  2.308958e+06  \n",
       "2020-10-01  9.813446e+06  \n",
       "2021-04-01  1.690307e+07  \n",
       "2021-10-01  1.573346e+06  \n",
       "2022-04-01  9.541195e+05  \n",
       "2022-10-03  1.238316e+06  \n",
       "2023-04-03  1.777495e+07  \n",
       "2023-10-02  2.375189e+07  \n",
       "2024-04-01  8.105034e+07  \n",
       "2024-10-01  4.188156e+06  "
      ]
     },
     "execution_count": 82,
     "metadata": {},
     "output_type": "execute_result"
    }
   ],
   "source": [
    "# multiple functions at 2 start-of-quarter frequency\n",
    "btc_usd.resample(\"2BQS\").agg([\"min\", \"max\"])"
   ]
  },
  {
   "cell_type": "markdown",
   "id": "f06b3438",
   "metadata": {},
   "source": [
    "As with `groupby` and `rolling`, you can also provide custom\n",
    "functions to `.resample(...).agg` and `.resample(...).apply`"
   ]
  },
  {
   "cell_type": "markdown",
   "id": "b176a21e",
   "metadata": {},
   "source": [
    "## Exercise\n",
    "\n",
    "See exercise 7 in the [exercise list](#pd-tim-ex).\n",
    "\n",
    "To make the optimal decision we need to, for each month,\n",
    "compute the maximum value of the close price on any day minus the open\n",
    "price on the first day of the month."
   ]
  },
  {
   "cell_type": "markdown",
   "id": "99dfb165",
   "metadata": {},
   "source": [
    "## Exercise\n",
    "\n",
    "See exercise 8 in the [exercise list](#pd-tim-ex)."
   ]
  },
  {
   "cell_type": "markdown",
   "id": "87fb11ce",
   "metadata": {},
   "source": [
    "## Optional: API keys\n",
    "\n",
    "Recall above that we had the line of code:"
   ]
  },
  {
   "cell_type": "code",
   "execution_count": null,
   "id": "82aae3a0",
   "metadata": {
    "hide-output": false
   },
   "outputs": [],
   "source": [
    "quandl.ApiConfig.api_key = \"Dn6BtVoBhzuKTuyo6hbp\""
   ]
  },
  {
   "cell_type": "markdown",
   "id": "39d3b515",
   "metadata": {},
   "source": [
    "This line told the `quandl` library that when obtaining making requests for data, it should use the *API key* `Dn6BtVoBhzuKTuyo6hbp`.\n",
    "\n",
    "An API key is a sort of password that web services (like the Quandl API) require you to provide when you make requests.\n",
    "\n",
    "Using this password, we were able to make a request to Quandl to obtain data directly from them.\n",
    "\n",
    "The API key used here is one that we requested on behalf of this course.\n",
    "\n",
    "If you plan to use Quandl more extensively, you should obtain your own personal API key from [their website](https://docs.quandl.com/docs#section-authentication) and re-run the `quandl.ApiConfig.api_key...` line of code with your new API key on the right-hand side.\n",
    "\n",
    "\n",
    "<a id='pd-tim-ex'></a>"
   ]
  },
  {
   "cell_type": "markdown",
   "id": "3684f695",
   "metadata": {},
   "source": [
    "## Exercises"
   ]
  },
  {
   "cell_type": "markdown",
   "id": "29bf1a97",
   "metadata": {},
   "source": [
    "### Exercise 1\n",
    "\n",
    "By referring to table found at the link above, figure out the correct argument to\n",
    "pass as `format` in order to parse the dates in the next three cells below.\n",
    "\n",
    "Test your work by passing your format string to `pd.to_datetime`."
   ]
  },
  {
   "cell_type": "code",
   "execution_count": null,
   "id": "1b1ce6c6",
   "metadata": {
    "hide-output": false
   },
   "outputs": [],
   "source": [
    "christmas_str2 = \"2017:12:25\""
   ]
  },
  {
   "cell_type": "code",
   "execution_count": null,
   "id": "066059d5",
   "metadata": {
    "hide-output": false
   },
   "outputs": [],
   "source": [
    "dbacks_win = \"M:11 D:4 Y:2001 9:15 PM\""
   ]
  },
  {
   "cell_type": "code",
   "execution_count": null,
   "id": "f018da16",
   "metadata": {
    "hide-output": false
   },
   "outputs": [],
   "source": [
    "america_bday = \"America was born on July 4, 1776\""
   ]
  },
  {
   "cell_type": "markdown",
   "id": "10aba10d",
   "metadata": {},
   "source": [
    "([back to text](#pd-tim-dir1))"
   ]
  },
  {
   "cell_type": "markdown",
   "id": "efca49c3",
   "metadata": {},
   "source": [
    "### Exercise 2\n",
    "\n",
    "Use `pd.to_datetime` to express the birthday of one of your friends\n",
    "or family members as a `datetime` object.\n",
    "\n",
    "Then use the `strftime` method to write a message of the format:"
   ]
  },
  {
   "cell_type": "code",
   "execution_count": null,
   "id": "1021a100",
   "metadata": {
    "hide-output": false
   },
   "outputs": [],
   "source": [
    "NAME's birthday is June 10, 1989 (a Saturday)"
   ]
  },
  {
   "cell_type": "markdown",
   "id": "0ae2a450",
   "metadata": {},
   "source": [
    "(where the name and date are replaced by the appropriate values)\n",
    "\n",
    "([back to text](#pd-tim-dir2))"
   ]
  },
  {
   "cell_type": "markdown",
   "id": "a6e6b434",
   "metadata": {},
   "source": [
    "### Exercise 3\n",
    "\n",
    "For each item in the list, extract the specified data from `btc_usd`:\n",
    "\n",
    "- July 2017 through August 2017 (inclusive)  \n",
    "- April 25, 2015 to June 10, 2016  \n",
    "- October 31, 2017  \n",
    "\n",
    "\n",
    "([back to text](#pd-tim-dir3))"
   ]
  },
  {
   "cell_type": "markdown",
   "id": "ba9ec693",
   "metadata": {},
   "source": [
    "### Exercise 4\n",
    "\n",
    "Using the `shift` function, determine the week with the largest percent change\n",
    "in the volume of trades (the `\"Volume (BTC)\"` column).\n",
    "\n",
    "Repeat the analysis at the bi-weekly and monthly frequencies.\n",
    "\n",
    "We have data at a *daily* frequency and one week is `7` days.\n",
    "\n",
    "Approximate a month by 30 days."
   ]
  },
  {
   "cell_type": "code",
   "execution_count": null,
   "id": "b08a9964",
   "metadata": {
    "hide-output": false
   },
   "outputs": [],
   "source": [
    "# your code here"
   ]
  },
  {
   "cell_type": "markdown",
   "id": "3c2326bc",
   "metadata": {},
   "source": [
    "([back to text](#pd-tim-dir4))"
   ]
  },
  {
   "cell_type": "markdown",
   "id": "eb4ae99c",
   "metadata": {},
   "source": [
    "### Exercise 5\n",
    "\n",
    "Imagine that you have access to the [DeLorean time machine](https://en.wikipedia.org/wiki/DeLorean_time_machine)\n",
    "from “Back to the Future”.\n",
    "\n",
    "You are allowed to use the DeLorean only once, subject to the following\n",
    "conditions:\n",
    "\n",
    "- You may travel back to any day in the past.  \n",
    "- On that day, you may purchase one bitcoin *at market open*.  \n",
    "- You can then take the time machine 30 days into the future and sell your bitcoin *at market close*.  \n",
    "- Then you return to the present, pocketing the profits.  \n",
    "\n",
    "\n",
    "How would you pick the day?\n",
    "\n",
    "Think carefully about what you would need to compute to make the\n",
    "optimal choice. Try writing it out in the markdown cell below so you\n",
    "have a clear description of the *want* operator that we will apply after\n",
    "the exercise.\n",
    "\n",
    "(Note: **Don’t** look too far below, because in the next non-empty cell\n",
    "we have written out our answer.)\n",
    "\n",
    "To make this decision, we want to know …\n",
    "\n",
    "**Your answer here**\n",
    "\n",
    "([back to text](#pd-tim-dir5))"
   ]
  },
  {
   "cell_type": "markdown",
   "id": "f5b34b59",
   "metadata": {},
   "source": [
    "### Exercise 6\n",
    "\n",
    "Do the following:\n",
    "\n",
    "1. Write a pandas function that implements your strategy.  \n",
    "1. Pass it to the `agg` method of `rolling_btc`.  \n",
    "1. Extract the `\"Open\"` column from the result.  \n",
    "1. Find the date associated with the maximum value in that column.  \n",
    "\n",
    "\n",
    "How much money did you make? Compare with your neighbor."
   ]
  },
  {
   "cell_type": "code",
   "execution_count": null,
   "id": "694972ae",
   "metadata": {
    "hide-output": false
   },
   "outputs": [],
   "source": [
    "def daily_value(df):\n",
    "    # DELETE `pass` below and replace it with your code\n",
    "    pass\n",
    "\n",
    "rolling_btc = btc_usd.rolling(\"30d\")\n",
    "\n",
    "# do steps 2-4 here"
   ]
  },
  {
   "cell_type": "markdown",
   "id": "f9255e5a",
   "metadata": {},
   "source": [
    "([back to text](#pd-tim-dir6))"
   ]
  },
  {
   "cell_type": "markdown",
   "id": "9bea971b",
   "metadata": {},
   "source": [
    "### Exercise 7\n",
    "\n",
    "Now suppose you still have access to the DeLorean, but the conditions are\n",
    "slightly different.\n",
    "\n",
    "You may now:\n",
    "\n",
    "- Travel back to the *first day* of any month in the past.  \n",
    "- On that day, you may purchase one bitcoin *at market open*.  \n",
    "- You can then travel to any day *in that month* and sell the bitcoin *at market close*.  \n",
    "- Then return to the present, pocketing the profits.  \n",
    "\n",
    "\n",
    "To which month would you travel? On which day of that month would you return\n",
    "to sell the bitcoin?\n",
    "\n",
    "Discuss with your neighbor what you would need to compute to make the\n",
    "optimal choice. Try writing it out in the markdown cell below so you\n",
    "have a clear description of the *want* operator that we will apply after\n",
    "the exercise.\n",
    "\n",
    "(Note: **Don’t** look too many cells below, because we have written out\n",
    "our answer.)\n",
    "\n",
    "To make the optimal decision we need …\n",
    "\n",
    "**Your answer here**\n",
    "\n",
    "([back to text](#pd-tim-dir7))"
   ]
  },
  {
   "cell_type": "markdown",
   "id": "9a33cb0c",
   "metadata": {},
   "source": [
    "### Exercise 8\n",
    "\n",
    "Do the following:\n",
    "\n",
    "1. Write a pandas function that implements your strategy.  \n",
    "1. Pass it to the `agg` method of `resampled_btc`.  \n",
    "1. Extract the `\"Open\"` column from the result.  \n",
    "1. Find the date associated with the maximum value in that column.  \n",
    "\n",
    "\n",
    "How much money did you make? Compare with your neighbor.\n",
    "\n",
    "Was this strategy more profitable than the previous one? By how much?"
   ]
  },
  {
   "cell_type": "code",
   "execution_count": null,
   "id": "fd559984",
   "metadata": {
    "hide-output": false
   },
   "outputs": [],
   "source": [
    "def monthly_value(df):\n",
    "    # DELETE `pass` below and replace it with your code\n",
    "    pass\n",
    "\n",
    "resampled_btc = btc_usd.resample(\"MS\")\n",
    "\n",
    "# Do steps 2-4 here"
   ]
  },
  {
   "cell_type": "markdown",
   "id": "56067b5b",
   "metadata": {},
   "source": [
    "([back to text](#pd-tim-dir8))"
   ]
  }
 ],
 "metadata": {
  "date": 1717034545.956863,
  "filename": "timeseries.md",
  "kernelspec": {
   "display_name": "Python 3 (ipykernel)",
   "language": "python",
   "name": "python3"
  },
  "language_info": {
   "codemirror_mode": {
    "name": "ipython",
    "version": 3
   },
   "file_extension": ".py",
   "mimetype": "text/x-python",
   "name": "python",
   "nbconvert_exporter": "python",
   "pygments_lexer": "ipython3",
   "version": "3.11.9"
  },
  "title": "Time series"
 },
 "nbformat": 4,
 "nbformat_minor": 5
}
