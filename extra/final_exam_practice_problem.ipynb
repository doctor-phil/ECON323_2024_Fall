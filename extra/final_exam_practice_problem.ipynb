{
 "cells": [
  {
   "attachments": {},
   "cell_type": "markdown",
   "metadata": {},
   "source": [
    "### Final exam practice questions\n",
    "\n",
    "#### Question 1\n",
    "In this question, we will create a function to generate linear data step-by-step. \n",
    "1. Define a function called `gen_lin_data` that takes as its input an integer `n`, and returns a matrix `X` and a vector `Y`. \n",
    "2. First we will generate `X`. Within the function,\n",
    " - Create two random (numpy) vectors of size `n` named `X_1` and `X_2` where \n",
    "    - Each element of `X_1` is independent and distributed according to the Uniform(-2,2) distribution\n",
    "    - Each element `X_2` is independent and distributed according to the Normal(2,2) distribution. \n",
    "    \n",
    "  - Finally, concatenate `X_1` and `X_2` to generate `X` so that `X` is a numpy object with `n` rows and 2 columns.\n",
    "\n",
    "\n",
    "3. Now we will work towards generating `Y`. Within the function,\n",
    "  - Define a numpy array called `beta` and set it equal to `[-1,2]`. \n",
    "  - Define another `n` dimensional vector called `eps` where each element is independent and distributed according to the Normal(0,1/2) distribution. \n",
    "  - Finally, Generate a vector of size `n` called `Y` according to the following equation:\n",
    "$$\n",
    "Y = X \\cdot \\beta + eps\n",
    "$$\n",
    "4. Now that your function is defined, test your function in the designated cell and call it with **`n` equal to 500**. Save the resulting arrays as `Y500` and `X500`. **Print** the average of `Y500`."
   ]
  },
  {
   "cell_type": "code",
   "execution_count": null,
   "metadata": {},
   "outputs": [],
   "source": [
    "# Your function here"
   ]
  },
  {
   "cell_type": "code",
   "execution_count": null,
   "metadata": {},
   "outputs": [],
   "source": [
    "np.random.seed(10) #ignore this line and do not delete it\n",
    "\n",
    "# Define Y500 and X500 below this line:\n",
    "\n",
    "# Your code here"
   ]
  },
  {
   "attachments": {},
   "cell_type": "markdown",
   "metadata": {},
   "source": [
    "#### Question 2\n",
    "In this question, we will create our own function to perform basic OLS estimation.\n",
    "1. Define a function called `simple_OLS` that takes a vector `Y` and a matrix `X` as inputs and returns a vector of OLS (linear regression) coefficient estimates. **To get full marks, you must explicitly calculate the OLS coefficients using the analytical formula for linear regression.** You will get some partial credit for estimating the equations using another method.\n",
    "2. **In the Markdown Cell below your function**, answer this question: If `y` is an $n$-vector and `X` is an $n\\times d$ matrix, what are the dimensions of the objects that will be output by the `simple_OLS` function? Verify this with your code or justify it using linear algebra.\n",
    "3. In the designated cell, define `beta_hat` to be the output of `simple_OLS` using `Y500` and `X500` from the previous problem.\n",
    "4. In the second provided Markdown Cell, explain what values you would expect the entries of `beta_hat` to be close to, and why.\n"
   ]
  },
  {
   "cell_type": "code",
   "execution_count": null,
   "metadata": {},
   "outputs": [],
   "source": [
    "# Your function here"
   ]
  },
  {
   "attachments": {},
   "cell_type": "markdown",
   "metadata": {},
   "source": [
    "##### Use this markdown cell to enter your response to part 2"
   ]
  },
  {
   "cell_type": "code",
   "execution_count": null,
   "metadata": {},
   "outputs": [],
   "source": [
    "# Define beta_hat here"
   ]
  },
  {
   "attachments": {},
   "cell_type": "markdown",
   "metadata": {},
   "source": [
    "##### Use this markdown cell to enter your response to part 4"
   ]
  },
  {
   "attachments": {},
   "cell_type": "markdown",
   "metadata": {},
   "source": [
    "#### Question 3\n",
    "In this question, we will evaluate the performance of our OLS estimator. \n",
    "1. Define a function called `simple_eval` that takes `X`, `Y`, and `beta_hat` as inputs and returns `est_mse`, the mean-squared error of `beta_hat`. \n",
    "2. Within that function\n",
    "    - Define `Yhat` to be the predicted values of `beta_hat` appled to `X`. \n",
    "    - Calculate the mean-squared error and set it to `est_mse`. To do this, you can either use the metrics module from scikitlearn or calculate the mean-squared error by hand. \n",
    "3. In the cell below your function, call your `simple_eval` function using `X500`, `Y500`, and `beta_hat` from Question 2. Save that value to a variable called `ols_mse`. "
   ]
  },
  {
   "cell_type": "code",
   "execution_count": null,
   "metadata": {},
   "outputs": [],
   "source": [
    "# Your function here"
   ]
  },
  {
   "cell_type": "code",
   "execution_count": null,
   "metadata": {},
   "outputs": [],
   "source": [
    "# Define ols_mse here"
   ]
  },
  {
   "attachments": {},
   "cell_type": "markdown",
   "metadata": {},
   "source": [
    "#### Question 4\n",
    "Now, fit a single regression tree on `Y500` and `X500`. Set the `random_state` and `max_depth` arguments equal to 123 and 10 respectively. Calculate the resulting training mean-squared error of this tree and set it equal to `tree_mse`.\n",
    "\n",
    "Is the MSE from this regression tree lower or higher than the mean-squared error from linear regression (OLS)? Why would that be? Enter your answer in the markdown cell."
   ]
  },
  {
   "cell_type": "code",
   "execution_count": null,
   "metadata": {},
   "outputs": [],
   "source": [
    "# Fit Tree Here"
   ]
  },
  {
   "attachments": {},
   "cell_type": "markdown",
   "metadata": {},
   "source": [
    "##### Use this markdown cell to enter your response"
   ]
  },
  {
   "attachments": {},
   "cell_type": "markdown",
   "metadata": {},
   "source": [
    "#### Question 5\n",
    "Now we will generate test data by using `gen_lin_data` with `n` equal to 200. Save the resulting arrays as `X200` and `Y200`. Using `simple_eval` and this testing data, calculate the testing mean-squared error of the `beta_hat` estimate from Question 2. Do the same for tree estimator from Question 4. In the Markdown cell below, answer the following question: Which estimator has a lower test mean-squared error? Why?"
   ]
  },
  {
   "cell_type": "code",
   "execution_count": null,
   "metadata": {},
   "outputs": [],
   "source": [
    "# Your code here"
   ]
  },
  {
   "attachments": {},
   "cell_type": "markdown",
   "metadata": {},
   "source": [
    "##### Use this markdown cell to enter your response to the written portion of the question"
   ]
  }
 ],
 "metadata": {
  "language_info": {
   "name": "python"
  },
  "orig_nbformat": 4
 },
 "nbformat": 4,
 "nbformat_minor": 2
}
