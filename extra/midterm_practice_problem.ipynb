{
 "cells": [
  {
   "attachments": {},
   "cell_type": "markdown",
   "metadata": {},
   "source": [
    "### Questions 11-13\n",
    "Consider a sequence where an element $X_t$ is defined as\n",
    "$$\n",
    "X_t = \\left\\{\\begin{array}{cc} a & \\text{if } t = 0 \\\\ b & \\text{if }t = 1 \\\\ f\\left(X_{t-1}, X_{t-2}\\right)  & \\text{ if } t \\geq 2 \\end{array}  \\right.\n",
    "$$\n",
    "where $a$ and $b$ are non-negative real numbers and $t$ is a non-negative integer. $f(.)$ is some generic function of $X_{t-1}$ and $X_{t-2}$. "
   ]
  },
  {
   "attachments": {},
   "cell_type": "markdown",
   "metadata": {},
   "source": [
    "#### Question 11\n",
    " We will write a function to calculate $X_t$. Define a function called `calc_X_t`. It should take the following inputs:\n",
    "- an integer `t`\n",
    "- a function of two variables `f`\n",
    "- two more parameters `a` and `b`\n",
    "\n",
    "These parameters will correspond in the obvious way to the mathematical objects above.   Given those inputs, your function `calc_X_t` should ***return***  $X_t$ -- the $t$-th element of the sequence we just described.\n",
    "\n",
    "**Hint:** Your function will likely contain if-else statements *and a loop*. (Using recursion is not recommended). Remember to call your function within `calc_X_t`."
   ]
  },
  {
   "cell_type": "code",
   "execution_count": null,
   "metadata": {},
   "outputs": [],
   "source": [
    "# your code here"
   ]
  },
  {
   "attachments": {},
   "cell_type": "markdown",
   "metadata": {},
   "source": [
    "After defining your function, **run** the cell below."
   ]
  },
  {
   "cell_type": "code",
   "execution_count": null,
   "metadata": {},
   "outputs": [
    {
     "name": "stdout",
     "output_type": "stream",
     "text": [
      "206.21074457587352\n"
     ]
    }
   ],
   "source": [
    "# !!!! Do no edit this code !!!!\n",
    "def weird_function(x,y):\n",
    "    return 20 * (((x + y) ** (1/2)) + ((x + y) ** (1/3)))\n",
    "test = calc_X_t(50, weird_function, .02, 55, 43)\n",
    "print(test)\n",
    "# !!!! Do no edit this code !!!!"
   ]
  },
  {
   "attachments": {},
   "cell_type": "markdown",
   "metadata": {},
   "source": [
    "#### Question 12\n",
    "The Fibonacci Sequence is a specific case of this sequence which we will denote by $X^f_t$:\n",
    "\n",
    "$$\n",
    "X^f_t = \\left\\{\\begin{array}{cc} 0 & \\text{if } t = 0 \\\\ 1 & \\text{if }t = 1 \\\\ X_{t-1}+ X_{t-2} & \\text{ if } t \\geq 2 \\end{array}  \\right.\n",
    "$$\n",
    "\n",
    "Do **all** of these in the following order. Make sure you define variables as specified.\n",
    " 1. Think about what `a`, `b`, and `f` need to be in order to go from the general sequence to the Fibonacci sequence. **Define those objects**. \n",
    " 2. Use `calc_X_t` and the objects you just defined to calculate $X^f_t$ for $t=0$, $t=1$, $t=10$, and $t=20$. **Save those values** as `Xf_0`, `Xf_1`, `Xf_10`, and `Xf_20` respectively.\n",
    " 3. **Use** `print` on all of four of these values, so they are displayed in the output.\n",
    "\n",
    "**Hint:** One raised to any power is equal to one. Also, this is a good time to check that your code works by hand with small t > 2. "
   ]
  },
  {
   "cell_type": "code",
   "execution_count": null,
   "metadata": {},
   "outputs": [],
   "source": [
    "# your code here"
   ]
  },
  {
   "attachments": {},
   "cell_type": "markdown",
   "metadata": {},
   "source": [
    "Now consider purchasing an asset on January 1st, 2023. One asset you can purchase, the twenty-four-month Fibo-Bond, pays out $X_t^f$ dollars **at the beginning of every month for twenty-four-months** where $t$ is the number of months since it was purchased. For example, it pays out:\n",
    "\n",
    "$X_0^f$ dollars on January 1st, 2023 \n",
    "\n",
    "$X_1^f$ dollar on February 1st, 2023\n",
    "\n",
    ".\n",
    "\n",
    ".\n",
    "\n",
    ".\n",
    "\n",
    "$X_{22}^f$ dollars on November 1st, 2024\n",
    "\n",
    "$X_{23}^f$ dollars on December 1st, 2024\n",
    " \n",
    "**Set** `r = .1` to be your discount *rate*. Using the **Present Discounted Value** framework, **calculate** how much the twenty-four-month fibo bond is worth and **assign** this value to a variable called `fibo_pdv`. **Print** `fibo_pdv`. \n",
    "\n",
    "**Hint:** List Comprehensions and/or loops will work here. "
   ]
  },
  {
   "cell_type": "code",
   "execution_count": null,
   "metadata": {},
   "outputs": [],
   "source": [
    "# your code here"
   ]
  },
  {
   "attachments": {},
   "cell_type": "markdown",
   "metadata": {},
   "source": [
    "#### Question 13\n",
    "In the previous question, we looked at the value of a two-year fibo bond. Now, we will repeat that exercise for bonds of many different durations. First, **generate a list of 48 elements** called `fibo_bond_vals` where the i-th index of the list is equal to the value of the i-month fibo bond. After you have defined `fibo_bond_vals`, **use** `print` to display its 24th element. \n",
    "\n",
    "Afterwards, **plot** a line plot with the duration of the bond on the x-axis and the value of the bond (on January 1st, 2022) on the y-axis. Make sure your plot has a title and reasonable x and y axis labels.\n",
    "\n",
    "**Hint:** Nested list comprehensions can be useful here. Tab completion may also help in case you forget some functions. "
   ]
  },
  {
   "cell_type": "code",
   "execution_count": null,
   "metadata": {},
   "outputs": [],
   "source": [
    "# your code here"
   ]
  }
 ],
 "metadata": {
  "language_info": {
   "name": "python"
  },
  "orig_nbformat": 4
 },
 "nbformat": 4,
 "nbformat_minor": 2
}
